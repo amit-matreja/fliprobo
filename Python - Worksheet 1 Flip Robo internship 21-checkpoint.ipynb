{
 "cells": [
  {
   "cell_type": "markdown",
   "id": "e31e94bc",
   "metadata": {},
   "source": [
    "# Ans11. Python Program to find the factorial of a number"
   ]
  },
  {
   "cell_type": "code",
   "execution_count": 5,
   "id": "159126f5",
   "metadata": {},
   "outputs": [
    {
     "name": "stdout",
     "output_type": "stream",
     "text": [
      "Enter the Number: 5\n",
      "factorial of 5 (function):  120\n"
     ]
    }
   ],
   "source": [
    "import pandas as pd\n",
    "import numpy as np\n",
    "import math\n",
    "\n",
    "num = int(input('Enter the Number: '))\n",
    "print(\"factorial of\",num,\"(function): \",end=\" \")\n",
    "print(math.factorial(num))"
   ]
  },
  {
   "cell_type": "markdown",
   "id": "77d08c08",
   "metadata": {},
   "source": [
    "# Ans12. Python Program to find whether a number is prime or composite"
   ]
  },
  {
   "cell_type": "code",
   "execution_count": 10,
   "id": "32a4e800",
   "metadata": {},
   "outputs": [
    {
     "name": "stdout",
     "output_type": "stream",
     "text": [
      "Enter any number:  31\n",
      "31 is a prime number\n",
      "31 is a prime number\n",
      "31 is a prime number\n",
      "31 is a prime number\n",
      "31 is a prime number\n",
      "31 is a prime number\n",
      "31 is a prime number\n",
      "31 is a prime number\n",
      "31 is a prime number\n",
      "31 is a prime number\n",
      "31 is a prime number\n",
      "31 is a prime number\n",
      "31 is a prime number\n",
      "31 is a prime number\n",
      "31 is a prime number\n",
      "31 is a prime number\n",
      "31 is a prime number\n",
      "31 is a prime number\n",
      "31 is a prime number\n",
      "31 is a prime number\n",
      "31 is a prime number\n",
      "31 is a prime number\n",
      "31 is a prime number\n",
      "31 is a prime number\n",
      "31 is a prime number\n",
      "31 is a prime number\n",
      "31 is a prime number\n",
      "31 is a prime number\n",
      "31 is a prime number\n"
     ]
    }
   ],
   "source": [
    "num1= int(input('Enter any number:  '))\n",
    "if num1>1:\n",
    "    for i in range(2,num1):\n",
    "        if(num1%i)==0:\n",
    "            print(num1,'is not a prime number')\n",
    "            break\n",
    "        else:\n",
    "            print(num1,'is a prime number')"
   ]
  },
  {
   "cell_type": "markdown",
   "id": "de25c866",
   "metadata": {},
   "source": [
    "# Ans13.  Python Program to check whether a given string is palindrome or not"
   ]
  },
  {
   "cell_type": "code",
   "execution_count": 15,
   "id": "0404df27",
   "metadata": {},
   "outputs": [
    {
     "name": "stdout",
     "output_type": "stream",
     "text": [
      "Enter any Letter/Number: NITIN\n",
      "It is Palindrome\n"
     ]
    }
   ],
   "source": [
    "string= input('Enter any Letter/Number: ')\n",
    "if (string == string[::-1]):\n",
    "    print('It is Palindrome')\n",
    "else:\n",
    "    print('It is not Palindrome')"
   ]
  },
  {
   "cell_type": "markdown",
   "id": "c748eef0",
   "metadata": {},
   "source": [
    "# Ans14. Python Program to get the third side of right-angled triangle from two given sides"
   ]
  },
  {
   "cell_type": "code",
   "execution_count": 30,
   "id": "04ba9e6e",
   "metadata": {},
   "outputs": [
    {
     "name": "stdout",
     "output_type": "stream",
     "text": [
      "Enter side 1 :  4\n",
      "Enter side 2 :  3\n",
      "side 3 =   5.0\n"
     ]
    }
   ],
   "source": [
    "\n",
    "s1= float(input(\"Enter side 1 :  \"))\n",
    "s2= float(input(\"Enter side 2 :  \"))\n",
    "\n",
    "t= math.sqrt(s1**2+s2**2)\n",
    "print(\"side 3 =  \",t)"
   ]
  },
  {
   "cell_type": "markdown",
   "id": "ca4393db",
   "metadata": {},
   "source": [
    "# Ans 15. Python program to print the frequency of each of the characters present in a given string"
   ]
  },
  {
   "cell_type": "code",
   "execution_count": 44,
   "id": "cc821ef4",
   "metadata": {},
   "outputs": [
    {
     "name": "stdout",
     "output_type": "stream",
     "text": [
      "Enter any text: system\n",
      "Character   Frequency\n",
      "s 2\n",
      "y 1\n",
      "t 1\n",
      "e 1\n",
      "m 1\n"
     ]
    }
   ],
   "source": [
    "str= input(\"Enter any text: \")\n",
    "frequency_dict ={}\n",
    "\n",
    "for character in str:\n",
    "    if character in frequency_dict:\n",
    "        frequency_dict[character]+=1\n",
    "    else:\n",
    "        frequency_dict[character]=1\n",
    "\n",
    "print(\"Character   Frequency\")\n",
    "\n",
    "for character, frequency in frequency_dict.items():\n",
    "    print(character  ,  frequency)"
   ]
  },
  {
   "cell_type": "code",
   "execution_count": null,
   "id": "f10e72c0",
   "metadata": {},
   "outputs": [],
   "source": []
  }
 ],
 "metadata": {
  "kernelspec": {
   "display_name": "Python 3",
   "language": "python",
   "name": "python3"
  },
  "language_info": {
   "codemirror_mode": {
    "name": "ipython",
    "version": 3
   },
   "file_extension": ".py",
   "mimetype": "text/x-python",
   "name": "python",
   "nbconvert_exporter": "python",
   "pygments_lexer": "ipython3",
   "version": "3.8.8"
  }
 },
 "nbformat": 4,
 "nbformat_minor": 5
}
