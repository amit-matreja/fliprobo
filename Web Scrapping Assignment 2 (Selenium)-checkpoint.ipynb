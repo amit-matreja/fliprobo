{
 "cells": [
  {
   "cell_type": "markdown",
   "id": "b6dcf824",
   "metadata": {},
   "source": [
    "Ans 1. Program to Scrape data for \"DATA ANALYST\" Job position in \"Bangalore\" location:-"
   ]
  },
  {
   "cell_type": "code",
   "execution_count": 1,
   "id": "f0b90857",
   "metadata": {},
   "outputs": [],
   "source": [
    "import selenium\n",
    "import pandas as pd\n",
    "from selenium import webdriver\n",
    "from selenium.webdriver.chrome.service import Service\n",
    "from selenium.webdriver.common.by import By"
   ]
  },
  {
   "cell_type": "code",
   "execution_count": 2,
   "id": "81ce0dbd",
   "metadata": {},
   "outputs": [],
   "source": [
    "#lets connect the web driver\n",
    "ser=Service (\"C:\\\\Users\\\\amitt\\\\Downloads\\\\chromedriver_win32\\\\chromedriver.exe\")\n",
    "driver=webdriver.Chrome(service=ser)"
   ]
  },
  {
   "cell_type": "code",
   "execution_count": 3,
   "id": "7f440d4e",
   "metadata": {},
   "outputs": [],
   "source": [
    "driver.get('https://www.naukri.com/')"
   ]
  },
  {
   "cell_type": "code",
   "execution_count": 4,
   "id": "6000462f",
   "metadata": {},
   "outputs": [],
   "source": [
    "# lets put Data Analyst keyword in job position\n",
    "s_job=driver.find_element(By.ID,\"qsb-keyword-sugg\")\n",
    "s_job.send_keys(\"Data Analyst\")"
   ]
  },
  {
   "cell_type": "code",
   "execution_count": 5,
   "id": "0ecd2e16",
   "metadata": {},
   "outputs": [],
   "source": [
    "# lets put Bangalore in Location\n",
    "s_loc=driver.find_element(By.XPATH,\"//Input[@id='qsb-location-sugg']\")\n",
    "s_loc.send_keys(\"Bangalore\")"
   ]
  },
  {
   "cell_type": "code",
   "execution_count": 6,
   "id": "1d975970",
   "metadata": {},
   "outputs": [],
   "source": [
    "# clicking the search Button\n",
    "s_btn=driver.find_element(By.XPATH,\"//div[@class='search-btn']/button\")\n",
    "s_btn.click()"
   ]
  },
  {
   "cell_type": "code",
   "execution_count": 7,
   "id": "67a671e9",
   "metadata": {},
   "outputs": [
    {
     "data": {
      "text/plain": [
       "[<selenium.webdriver.remote.webelement.WebElement (session=\"9024dc9ec49c3e1cdf2a8819cdd3a644\", element=\"8381de6f-5d61-4379-9947-490880fe8c47\")>,\n",
       " <selenium.webdriver.remote.webelement.WebElement (session=\"9024dc9ec49c3e1cdf2a8819cdd3a644\", element=\"0bc9d3af-076d-4e2c-bd9d-6b0a68aef47f\")>,\n",
       " <selenium.webdriver.remote.webelement.WebElement (session=\"9024dc9ec49c3e1cdf2a8819cdd3a644\", element=\"88ac0390-6641-4e86-b94c-1a72f1d8133c\")>,\n",
       " <selenium.webdriver.remote.webelement.WebElement (session=\"9024dc9ec49c3e1cdf2a8819cdd3a644\", element=\"8c96a2b1-87f0-45ac-9444-ce09cb82a9d8\")>,\n",
       " <selenium.webdriver.remote.webelement.WebElement (session=\"9024dc9ec49c3e1cdf2a8819cdd3a644\", element=\"8b18aa6c-2893-41d0-b20a-ba879b6f6801\")>,\n",
       " <selenium.webdriver.remote.webelement.WebElement (session=\"9024dc9ec49c3e1cdf2a8819cdd3a644\", element=\"3114c92a-ce98-4086-870d-cfd576361119\")>,\n",
       " <selenium.webdriver.remote.webelement.WebElement (session=\"9024dc9ec49c3e1cdf2a8819cdd3a644\", element=\"6962c86d-b4aa-4b66-baf0-3a281ed367ef\")>,\n",
       " <selenium.webdriver.remote.webelement.WebElement (session=\"9024dc9ec49c3e1cdf2a8819cdd3a644\", element=\"67189ec8-adf1-4432-b36f-76a1c1c746eb\")>,\n",
       " <selenium.webdriver.remote.webelement.WebElement (session=\"9024dc9ec49c3e1cdf2a8819cdd3a644\", element=\"1951e91b-a452-4abf-8e4d-4e4ebdaf25bc\")>,\n",
       " <selenium.webdriver.remote.webelement.WebElement (session=\"9024dc9ec49c3e1cdf2a8819cdd3a644\", element=\"389d37c3-18c3-4115-aca4-7ed815518f0b\")>]"
      ]
     },
     "execution_count": 7,
     "metadata": {},
     "output_type": "execute_result"
    }
   ],
   "source": [
    "# Scrapping top 10 Job titles\n",
    "j_title=driver.find_elements(By.XPATH,\"//a[@class='title fw500 ellipsis']\")\n",
    "j_title[0:10]"
   ]
  },
  {
   "cell_type": "code",
   "execution_count": 8,
   "id": "5b26877d",
   "metadata": {},
   "outputs": [
    {
     "data": {
      "text/plain": [
       "['Senior Business Data Analyst',\n",
       " 'Data Analyst - Flipkart Analytics',\n",
       " 'Business Data Analyst - Database Design/Mining',\n",
       " 'Urgent Openings For Data Analyst / Business Analyst',\n",
       " 'Data Analyst',\n",
       " 'Business Data Analyst(BigId) - Capco - Bangalore',\n",
       " 'Data Analyst',\n",
       " 'Senior Data Analyst',\n",
       " 'Senior Data Analyst',\n",
       " 'Sr Data Analyst']"
      ]
     },
     "execution_count": 8,
     "metadata": {},
     "output_type": "execute_result"
    }
   ],
   "source": [
    "job_title=[]\n",
    "for i in j_title:\n",
    "    title=i.text\n",
    "    job_title.append(title)\n",
    "job_title[0:10]"
   ]
  },
  {
   "cell_type": "code",
   "execution_count": 9,
   "id": "bfc04fd0",
   "metadata": {},
   "outputs": [
    {
     "data": {
      "text/plain": [
       "[<selenium.webdriver.remote.webelement.WebElement (session=\"9024dc9ec49c3e1cdf2a8819cdd3a644\", element=\"57455ab1-6d26-4ef2-a2fb-cea3412f298f\")>,\n",
       " <selenium.webdriver.remote.webelement.WebElement (session=\"9024dc9ec49c3e1cdf2a8819cdd3a644\", element=\"a24c3071-8da3-472a-a631-cf3be4efb782\")>,\n",
       " <selenium.webdriver.remote.webelement.WebElement (session=\"9024dc9ec49c3e1cdf2a8819cdd3a644\", element=\"0126192f-2f89-42f8-93e3-6c4b02e6ee90\")>,\n",
       " <selenium.webdriver.remote.webelement.WebElement (session=\"9024dc9ec49c3e1cdf2a8819cdd3a644\", element=\"9773759d-13a5-4187-83bc-fb89604e911b\")>,\n",
       " <selenium.webdriver.remote.webelement.WebElement (session=\"9024dc9ec49c3e1cdf2a8819cdd3a644\", element=\"41cef8bd-2812-484d-87af-7f7ce181b564\")>,\n",
       " <selenium.webdriver.remote.webelement.WebElement (session=\"9024dc9ec49c3e1cdf2a8819cdd3a644\", element=\"c16db47a-32f2-4011-a21d-f0d10074e60b\")>,\n",
       " <selenium.webdriver.remote.webelement.WebElement (session=\"9024dc9ec49c3e1cdf2a8819cdd3a644\", element=\"7a9f4433-8a8b-4c11-9608-dd56efaf4352\")>,\n",
       " <selenium.webdriver.remote.webelement.WebElement (session=\"9024dc9ec49c3e1cdf2a8819cdd3a644\", element=\"4879b7aa-3823-4772-ada9-55d6c28dfc86\")>,\n",
       " <selenium.webdriver.remote.webelement.WebElement (session=\"9024dc9ec49c3e1cdf2a8819cdd3a644\", element=\"7dca848a-b964-43d6-a2e7-9f45330a5dab\")>,\n",
       " <selenium.webdriver.remote.webelement.WebElement (session=\"9024dc9ec49c3e1cdf2a8819cdd3a644\", element=\"848bcfd0-824e-4ff5-a16f-5ae09aaf2c99\")>]"
      ]
     },
     "execution_count": 9,
     "metadata": {},
     "output_type": "execute_result"
    }
   ],
   "source": [
    "# Scrapping top 10 Job Location\n",
    "j_loc=driver.find_elements(By.XPATH,\"//li[@class='fleft grey-text br2 placeHolderLi location']/span[1]\")\n",
    "j_loc[0:10]"
   ]
  },
  {
   "cell_type": "code",
   "execution_count": 10,
   "id": "68f11599",
   "metadata": {},
   "outputs": [
    {
     "data": {
      "text/plain": [
       "['Bangalore/Bengaluru, Mumbai (All Areas)',\n",
       " 'Bangalore/Bengaluru(Bellandur)',\n",
       " 'Bangalore/Bengaluru',\n",
       " 'Bangalore/Bengaluru',\n",
       " 'Bangalore/Bengaluru',\n",
       " 'Bangalore/Bengaluru',\n",
       " 'Kochi/Cochin, Cannanore/Kannur, Nagpur, Calicut/Kozhikode, Coimbatore, Thodupuzha, Bangalore/Bengaluru, Trivandrum/Thiruvananthapuram',\n",
       " 'Bangalore/Bengaluru',\n",
       " 'Bangalore/Bengaluru',\n",
       " 'Bangalore/Bengaluru']"
      ]
     },
     "execution_count": 10,
     "metadata": {},
     "output_type": "execute_result"
    }
   ],
   "source": [
    "job_loc=[]\n",
    "for i in j_loc:\n",
    "    job_loc.append(i.text)\n",
    "job_loc[0:10]"
   ]
  },
  {
   "cell_type": "code",
   "execution_count": 11,
   "id": "04cd2b43",
   "metadata": {},
   "outputs": [
    {
     "data": {
      "text/plain": [
       "[<selenium.webdriver.remote.webelement.WebElement (session=\"9024dc9ec49c3e1cdf2a8819cdd3a644\", element=\"ba199db5-087e-417b-94a2-1477b6b1a342\")>,\n",
       " <selenium.webdriver.remote.webelement.WebElement (session=\"9024dc9ec49c3e1cdf2a8819cdd3a644\", element=\"a11c896d-5bc8-48a6-a37a-e1868198329a\")>,\n",
       " <selenium.webdriver.remote.webelement.WebElement (session=\"9024dc9ec49c3e1cdf2a8819cdd3a644\", element=\"b1f9e434-cb87-4f19-9404-84b4fa8fdb70\")>,\n",
       " <selenium.webdriver.remote.webelement.WebElement (session=\"9024dc9ec49c3e1cdf2a8819cdd3a644\", element=\"ae114404-f0ab-46d5-83a5-bc2fe32496a0\")>,\n",
       " <selenium.webdriver.remote.webelement.WebElement (session=\"9024dc9ec49c3e1cdf2a8819cdd3a644\", element=\"5005c879-c346-4ed7-8739-9aededf7edde\")>,\n",
       " <selenium.webdriver.remote.webelement.WebElement (session=\"9024dc9ec49c3e1cdf2a8819cdd3a644\", element=\"83ba82d9-a9ba-4dff-b332-972527ae166e\")>,\n",
       " <selenium.webdriver.remote.webelement.WebElement (session=\"9024dc9ec49c3e1cdf2a8819cdd3a644\", element=\"aa4fa534-1a81-42af-b4a1-c7814d272394\")>,\n",
       " <selenium.webdriver.remote.webelement.WebElement (session=\"9024dc9ec49c3e1cdf2a8819cdd3a644\", element=\"bce6c87a-bb48-4f8a-97ff-fde2d671f09c\")>,\n",
       " <selenium.webdriver.remote.webelement.WebElement (session=\"9024dc9ec49c3e1cdf2a8819cdd3a644\", element=\"8cf3d3cb-c63f-4978-81b7-ed1e6011adb3\")>,\n",
       " <selenium.webdriver.remote.webelement.WebElement (session=\"9024dc9ec49c3e1cdf2a8819cdd3a644\", element=\"99d6ed4b-c7c0-4832-a846-0059ad5e6d77\")>]"
      ]
     },
     "execution_count": 11,
     "metadata": {},
     "output_type": "execute_result"
    }
   ],
   "source": [
    "# Scrapping top 10 company names\n",
    "c_name= driver.find_elements(By.XPATH,\"//a[@class='subTitle ellipsis fleft']\")\n",
    "c_name[0:10]\n"
   ]
  },
  {
   "cell_type": "code",
   "execution_count": 12,
   "id": "272e0565",
   "metadata": {},
   "outputs": [
    {
     "data": {
      "text/plain": [
       "['Tech Data Advanced Solutions India Pvt Ltd',\n",
       " 'Flipkart',\n",
       " 'AugmatrixGo',\n",
       " 'Flipkart',\n",
       " 'Rupeek Fintech Pvt Ltd',\n",
       " 'Capco Technologies Pvt Ltd',\n",
       " 'CINDREBAY SCHOOL OF FASHION & INTERIOR DESIGN',\n",
       " 'Pioneer Business Solutions',\n",
       " 'Advanced Computer Software',\n",
       " 'Pioneer Business Solutions']"
      ]
     },
     "execution_count": 12,
     "metadata": {},
     "output_type": "execute_result"
    }
   ],
   "source": [
    "comp_name=[]\n",
    "for i in c_name:\n",
    "    comp_name.append(i.text)\n",
    "comp_name[0:10]"
   ]
  },
  {
   "cell_type": "code",
   "execution_count": 13,
   "id": "8953b6ba",
   "metadata": {},
   "outputs": [
    {
     "data": {
      "text/plain": [
       "[<selenium.webdriver.remote.webelement.WebElement (session=\"9024dc9ec49c3e1cdf2a8819cdd3a644\", element=\"ffd0873a-6ec0-4152-ba44-e8af8892c269\")>,\n",
       " <selenium.webdriver.remote.webelement.WebElement (session=\"9024dc9ec49c3e1cdf2a8819cdd3a644\", element=\"0bca2ba9-dfad-4537-be6a-f8bfac316f2a\")>,\n",
       " <selenium.webdriver.remote.webelement.WebElement (session=\"9024dc9ec49c3e1cdf2a8819cdd3a644\", element=\"fc6c1d0e-00a5-4d13-b669-1cc064766967\")>,\n",
       " <selenium.webdriver.remote.webelement.WebElement (session=\"9024dc9ec49c3e1cdf2a8819cdd3a644\", element=\"9f8731d8-28be-49e3-830e-80404fce596b\")>,\n",
       " <selenium.webdriver.remote.webelement.WebElement (session=\"9024dc9ec49c3e1cdf2a8819cdd3a644\", element=\"089f5b8a-f357-4cb4-9430-ae1156c1c361\")>,\n",
       " <selenium.webdriver.remote.webelement.WebElement (session=\"9024dc9ec49c3e1cdf2a8819cdd3a644\", element=\"4ab3a581-46f5-4804-8ff3-5d98468a1c40\")>,\n",
       " <selenium.webdriver.remote.webelement.WebElement (session=\"9024dc9ec49c3e1cdf2a8819cdd3a644\", element=\"36c06fe5-8071-446b-82db-1037630d4654\")>,\n",
       " <selenium.webdriver.remote.webelement.WebElement (session=\"9024dc9ec49c3e1cdf2a8819cdd3a644\", element=\"40c15b18-7931-4261-a58f-34b048385eef\")>,\n",
       " <selenium.webdriver.remote.webelement.WebElement (session=\"9024dc9ec49c3e1cdf2a8819cdd3a644\", element=\"29d84737-9adb-4d04-a415-b864d164a67b\")>,\n",
       " <selenium.webdriver.remote.webelement.WebElement (session=\"9024dc9ec49c3e1cdf2a8819cdd3a644\", element=\"a703c1c2-02d6-4326-904a-ab90832d9add\")>]"
      ]
     },
     "execution_count": 13,
     "metadata": {},
     "output_type": "execute_result"
    }
   ],
   "source": [
    "# Scrapping experience required\n",
    "exp=driver.find_elements(By.XPATH,\"//li[@class='fleft grey-text br2 placeHolderLi experience']/span[1]\")\n",
    "exp[0:10]"
   ]
  },
  {
   "cell_type": "code",
   "execution_count": 14,
   "id": "276f48a1",
   "metadata": {},
   "outputs": [
    {
     "data": {
      "text/plain": [
       "['3-8 Yrs',\n",
       " '0-3 Yrs',\n",
       " '2-5 Yrs',\n",
       " '1-6 Yrs',\n",
       " '0-2 Yrs',\n",
       " '3-8 Yrs',\n",
       " '1-4 Yrs',\n",
       " '6-11 Yrs',\n",
       " '3-5 Yrs',\n",
       " '3-8 Yrs']"
      ]
     },
     "execution_count": 14,
     "metadata": {},
     "output_type": "execute_result"
    }
   ],
   "source": [
    "r_exp=[]\n",
    "for i in exp:\n",
    "    r_exp.append(i.text)\n",
    "r_exp[0:10]"
   ]
  },
  {
   "cell_type": "code",
   "execution_count": 15,
   "id": "35209d25",
   "metadata": {},
   "outputs": [
    {
     "data": {
      "text/html": [
       "<div>\n",
       "<style scoped>\n",
       "    .dataframe tbody tr th:only-of-type {\n",
       "        vertical-align: middle;\n",
       "    }\n",
       "\n",
       "    .dataframe tbody tr th {\n",
       "        vertical-align: top;\n",
       "    }\n",
       "\n",
       "    .dataframe thead th {\n",
       "        text-align: right;\n",
       "    }\n",
       "</style>\n",
       "<table border=\"1\" class=\"dataframe\">\n",
       "  <thead>\n",
       "    <tr style=\"text-align: right;\">\n",
       "      <th></th>\n",
       "      <th>Job Title</th>\n",
       "      <th>Job Location</th>\n",
       "      <th>Company Name</th>\n",
       "      <th>Experience Required</th>\n",
       "    </tr>\n",
       "  </thead>\n",
       "  <tbody>\n",
       "    <tr>\n",
       "      <th>0</th>\n",
       "      <td>Senior Business Data Analyst</td>\n",
       "      <td>Bangalore/Bengaluru, Mumbai (All Areas)</td>\n",
       "      <td>Tech Data Advanced Solutions India Pvt Ltd</td>\n",
       "      <td>3-8 Yrs</td>\n",
       "    </tr>\n",
       "    <tr>\n",
       "      <th>1</th>\n",
       "      <td>Data Analyst - Flipkart Analytics</td>\n",
       "      <td>Bangalore/Bengaluru(Bellandur)</td>\n",
       "      <td>Flipkart</td>\n",
       "      <td>0-3 Yrs</td>\n",
       "    </tr>\n",
       "    <tr>\n",
       "      <th>2</th>\n",
       "      <td>Business Data Analyst - Database Design/Mining</td>\n",
       "      <td>Bangalore/Bengaluru</td>\n",
       "      <td>AugmatrixGo</td>\n",
       "      <td>2-5 Yrs</td>\n",
       "    </tr>\n",
       "    <tr>\n",
       "      <th>3</th>\n",
       "      <td>Urgent Openings For Data Analyst / Business An...</td>\n",
       "      <td>Bangalore/Bengaluru</td>\n",
       "      <td>Flipkart</td>\n",
       "      <td>1-6 Yrs</td>\n",
       "    </tr>\n",
       "    <tr>\n",
       "      <th>4</th>\n",
       "      <td>Data Analyst</td>\n",
       "      <td>Bangalore/Bengaluru</td>\n",
       "      <td>Rupeek Fintech Pvt Ltd</td>\n",
       "      <td>0-2 Yrs</td>\n",
       "    </tr>\n",
       "    <tr>\n",
       "      <th>5</th>\n",
       "      <td>Business Data Analyst(BigId) - Capco - Bangalore</td>\n",
       "      <td>Bangalore/Bengaluru</td>\n",
       "      <td>Capco Technologies Pvt Ltd</td>\n",
       "      <td>3-8 Yrs</td>\n",
       "    </tr>\n",
       "    <tr>\n",
       "      <th>6</th>\n",
       "      <td>Data Analyst</td>\n",
       "      <td>Kochi/Cochin, Cannanore/Kannur, Nagpur, Calicu...</td>\n",
       "      <td>CINDREBAY SCHOOL OF FASHION &amp; INTERIOR DESIGN</td>\n",
       "      <td>1-4 Yrs</td>\n",
       "    </tr>\n",
       "    <tr>\n",
       "      <th>7</th>\n",
       "      <td>Senior Data Analyst</td>\n",
       "      <td>Bangalore/Bengaluru</td>\n",
       "      <td>Pioneer Business Solutions</td>\n",
       "      <td>6-11 Yrs</td>\n",
       "    </tr>\n",
       "    <tr>\n",
       "      <th>8</th>\n",
       "      <td>Senior Data Analyst</td>\n",
       "      <td>Bangalore/Bengaluru</td>\n",
       "      <td>Advanced Computer Software</td>\n",
       "      <td>3-5 Yrs</td>\n",
       "    </tr>\n",
       "    <tr>\n",
       "      <th>9</th>\n",
       "      <td>Sr Data Analyst</td>\n",
       "      <td>Bangalore/Bengaluru</td>\n",
       "      <td>Pioneer Business Solutions</td>\n",
       "      <td>3-8 Yrs</td>\n",
       "    </tr>\n",
       "  </tbody>\n",
       "</table>\n",
       "</div>"
      ],
      "text/plain": [
       "                                           Job Title  \\\n",
       "0                       Senior Business Data Analyst   \n",
       "1                  Data Analyst - Flipkart Analytics   \n",
       "2     Business Data Analyst - Database Design/Mining   \n",
       "3  Urgent Openings For Data Analyst / Business An...   \n",
       "4                                       Data Analyst   \n",
       "5   Business Data Analyst(BigId) - Capco - Bangalore   \n",
       "6                                       Data Analyst   \n",
       "7                                Senior Data Analyst   \n",
       "8                                Senior Data Analyst   \n",
       "9                                    Sr Data Analyst   \n",
       "\n",
       "                                        Job Location  \\\n",
       "0            Bangalore/Bengaluru, Mumbai (All Areas)   \n",
       "1                     Bangalore/Bengaluru(Bellandur)   \n",
       "2                                Bangalore/Bengaluru   \n",
       "3                                Bangalore/Bengaluru   \n",
       "4                                Bangalore/Bengaluru   \n",
       "5                                Bangalore/Bengaluru   \n",
       "6  Kochi/Cochin, Cannanore/Kannur, Nagpur, Calicu...   \n",
       "7                                Bangalore/Bengaluru   \n",
       "8                                Bangalore/Bengaluru   \n",
       "9                                Bangalore/Bengaluru   \n",
       "\n",
       "                                    Company Name Experience Required  \n",
       "0     Tech Data Advanced Solutions India Pvt Ltd             3-8 Yrs  \n",
       "1                                       Flipkart             0-3 Yrs  \n",
       "2                                    AugmatrixGo             2-5 Yrs  \n",
       "3                                       Flipkart             1-6 Yrs  \n",
       "4                         Rupeek Fintech Pvt Ltd             0-2 Yrs  \n",
       "5                     Capco Technologies Pvt Ltd             3-8 Yrs  \n",
       "6  CINDREBAY SCHOOL OF FASHION & INTERIOR DESIGN             1-4 Yrs  \n",
       "7                     Pioneer Business Solutions            6-11 Yrs  \n",
       "8                     Advanced Computer Software             3-5 Yrs  \n",
       "9                     Pioneer Business Solutions             3-8 Yrs  "
      ]
     },
     "execution_count": 15,
     "metadata": {},
     "output_type": "execute_result"
    }
   ],
   "source": [
    "# Putting all scrapped data in DataFrame\n",
    "df=pd.DataFrame(list(zip(job_title[0:10],job_loc[0:10],comp_name[0:10],r_exp[0:10])),columns=[\"Job Title\", \"Job Location\",\"Company Name\",\"Experience Required\"])\n",
    "df"
   ]
  },
  {
   "cell_type": "markdown",
   "id": "d65afc6b",
   "metadata": {},
   "source": [
    "Ans 2. Python program to Scrape data for job position \"Data Scientist\" in \"Bangalore\" Location:-"
   ]
  },
  {
   "cell_type": "code",
   "execution_count": 16,
   "id": "25b09bf5",
   "metadata": {},
   "outputs": [],
   "source": [
    "#importing required Libraries\n",
    "import selenium\n",
    "import pandas as pd\n",
    "from selenium import webdriver\n",
    "from selenium.webdriver.chrome.service import Service\n",
    "from selenium.webdriver.common.by import By\n",
    "#opening web browser and entering the website name\n",
    "ser=Service (\"C:\\\\Users\\\\amitt\\\\Downloads\\\\chromedriver_win32\\\\chromedriver.exe\")\n",
    "driver=webdriver.Chrome(service=ser)\n",
    "driver.get(\"https://www.naukri.com/\")"
   ]
  },
  {
   "cell_type": "code",
   "execution_count": 17,
   "id": "48d17477",
   "metadata": {},
   "outputs": [],
   "source": [
    "# typing Data Scientist in Job Position\n",
    "j_pos=driver.find_element(By.ID,\"qsb-keyword-sugg\")\n",
    "j_pos.send_keys(\"Data Scientist\")"
   ]
  },
  {
   "cell_type": "code",
   "execution_count": 18,
   "id": "57e7b8e3",
   "metadata": {},
   "outputs": [],
   "source": [
    "# typing Bangalore in Location\n",
    "j_loc=driver.find_element(By.XPATH,\"//input[@id='qsb-location-sugg']\")\n",
    "j_loc.send_keys(\"Bangalore\")"
   ]
  },
  {
   "cell_type": "code",
   "execution_count": 19,
   "id": "379d5c7a",
   "metadata": {},
   "outputs": [],
   "source": [
    "# Clicking search Button\n",
    "s_btn=driver.find_element(By.XPATH,\"//div[@class='search-btn']/button\")\n",
    "s_btn.click()"
   ]
  },
  {
   "cell_type": "code",
   "execution_count": 20,
   "id": "bfd47999",
   "metadata": {},
   "outputs": [
    {
     "data": {
      "text/plain": [
       "[<selenium.webdriver.remote.webelement.WebElement (session=\"507150973bb0d894ecf1f605bcf8d6ca\", element=\"d64ce2a1-f6b9-4ae8-a0ca-09590770f7af\")>,\n",
       " <selenium.webdriver.remote.webelement.WebElement (session=\"507150973bb0d894ecf1f605bcf8d6ca\", element=\"28f6c311-91e0-47af-aa20-12eeaabae207\")>,\n",
       " <selenium.webdriver.remote.webelement.WebElement (session=\"507150973bb0d894ecf1f605bcf8d6ca\", element=\"e4e2c109-5116-469c-b021-3b88d44b8e6f\")>,\n",
       " <selenium.webdriver.remote.webelement.WebElement (session=\"507150973bb0d894ecf1f605bcf8d6ca\", element=\"ccaf591c-d95f-4457-8698-ac4d5a62ad7d\")>,\n",
       " <selenium.webdriver.remote.webelement.WebElement (session=\"507150973bb0d894ecf1f605bcf8d6ca\", element=\"6887119a-f946-496b-807f-8daa9bef8d90\")>,\n",
       " <selenium.webdriver.remote.webelement.WebElement (session=\"507150973bb0d894ecf1f605bcf8d6ca\", element=\"106c762c-af25-4407-8dd8-77eb07188dbb\")>,\n",
       " <selenium.webdriver.remote.webelement.WebElement (session=\"507150973bb0d894ecf1f605bcf8d6ca\", element=\"d6541c47-2a46-4bca-a28c-eb13efb24164\")>,\n",
       " <selenium.webdriver.remote.webelement.WebElement (session=\"507150973bb0d894ecf1f605bcf8d6ca\", element=\"5008b5bf-c8af-420b-b05e-70e1bf4d3d87\")>,\n",
       " <selenium.webdriver.remote.webelement.WebElement (session=\"507150973bb0d894ecf1f605bcf8d6ca\", element=\"a52eb386-aca5-4dec-af90-12c55e7887c9\")>,\n",
       " <selenium.webdriver.remote.webelement.WebElement (session=\"507150973bb0d894ecf1f605bcf8d6ca\", element=\"5f3f2905-97e3-43f1-8ae8-f3724385c1ae\")>]"
      ]
     },
     "execution_count": 20,
     "metadata": {},
     "output_type": "execute_result"
    }
   ],
   "source": [
    "j_title=driver.find_elements(By.XPATH,\"//a[@class='title fw500 ellipsis']\")\n",
    "j_title[0:10]"
   ]
  },
  {
   "cell_type": "code",
   "execution_count": 21,
   "id": "1bf8467a",
   "metadata": {},
   "outputs": [
    {
     "data": {
      "text/plain": [
       "['Senior Data Scientist',\n",
       " 'Forecasting Analyst/ Data Scientist (US Client)',\n",
       " 'Data Scientist',\n",
       " 'Process Innovation Analyst - APAC/Data Scientist - Third Party Role',\n",
       " 'Data Scientist',\n",
       " 'Data Scientist',\n",
       " 'Data Scientist',\n",
       " 'Senior Data Scientist',\n",
       " 'Data Scientist: Advanced Analytics',\n",
       " 'Data Scientist: Artificial Intelligence']"
      ]
     },
     "execution_count": 21,
     "metadata": {},
     "output_type": "execute_result"
    }
   ],
   "source": [
    "job_title=[]\n",
    "for i in j_title:\n",
    "    job_title.append(i.text)\n",
    "job_title[0:10]"
   ]
  },
  {
   "cell_type": "code",
   "execution_count": 22,
   "id": "71668447",
   "metadata": {},
   "outputs": [
    {
     "data": {
      "text/plain": [
       "[<selenium.webdriver.remote.webelement.WebElement (session=\"507150973bb0d894ecf1f605bcf8d6ca\", element=\"c1a5b164-089c-4e89-8129-a5b88ff3e24d\")>,\n",
       " <selenium.webdriver.remote.webelement.WebElement (session=\"507150973bb0d894ecf1f605bcf8d6ca\", element=\"ca39c99f-9231-4629-9e1f-c15a6f0cbe45\")>,\n",
       " <selenium.webdriver.remote.webelement.WebElement (session=\"507150973bb0d894ecf1f605bcf8d6ca\", element=\"5ee20166-1659-4633-8080-ef7d33dfcf17\")>,\n",
       " <selenium.webdriver.remote.webelement.WebElement (session=\"507150973bb0d894ecf1f605bcf8d6ca\", element=\"605f3747-3bd5-4b23-9e59-4f98c0d5b692\")>,\n",
       " <selenium.webdriver.remote.webelement.WebElement (session=\"507150973bb0d894ecf1f605bcf8d6ca\", element=\"e295166e-fa3d-485b-85a3-26d513353cf3\")>,\n",
       " <selenium.webdriver.remote.webelement.WebElement (session=\"507150973bb0d894ecf1f605bcf8d6ca\", element=\"332d81a6-cf88-470b-9398-d082695e4cab\")>,\n",
       " <selenium.webdriver.remote.webelement.WebElement (session=\"507150973bb0d894ecf1f605bcf8d6ca\", element=\"92120bd2-c745-4042-952a-22777c805c2f\")>,\n",
       " <selenium.webdriver.remote.webelement.WebElement (session=\"507150973bb0d894ecf1f605bcf8d6ca\", element=\"ac70bf9b-b0c0-4040-aef0-fff9a99f0446\")>,\n",
       " <selenium.webdriver.remote.webelement.WebElement (session=\"507150973bb0d894ecf1f605bcf8d6ca\", element=\"06779c62-8d1e-4c46-9486-fb29d659e923\")>,\n",
       " <selenium.webdriver.remote.webelement.WebElement (session=\"507150973bb0d894ecf1f605bcf8d6ca\", element=\"7465170d-3306-4863-8f8d-c8e187765581\")>]"
      ]
     },
     "execution_count": 22,
     "metadata": {},
     "output_type": "execute_result"
    }
   ],
   "source": [
    "# Scraping Top 10 Job Locations\n",
    "j_loc=driver.find_elements(By.XPATH,\"//li[@class='fleft grey-text br2 placeHolderLi location']/span[1]\")\n",
    "j_loc[0:10]"
   ]
  },
  {
   "cell_type": "code",
   "execution_count": 23,
   "id": "1908ea09",
   "metadata": {},
   "outputs": [
    {
     "data": {
      "text/plain": [
       "['Bangalore/Bengaluru',\n",
       " 'Gurgaon/Gurugram, Bangalore/Bengaluru',\n",
       " 'Hyderabad/Secunderabad, Bangalore/Bengaluru, Mumbai (All Areas)',\n",
       " 'Bangalore/Bengaluru, Hyderabad',\n",
       " 'Bangalore/Bengaluru',\n",
       " 'Bangalore/Bengaluru(HSR Layout)',\n",
       " 'Bangalore/Bengaluru',\n",
       " 'Bangalore/Bengaluru',\n",
       " 'Bangalore/Bengaluru',\n",
       " 'Bangalore/Bengaluru']"
      ]
     },
     "execution_count": 23,
     "metadata": {},
     "output_type": "execute_result"
    }
   ],
   "source": [
    "job_loc=[]\n",
    "for i in j_loc:\n",
    "    job_loc.append(i.text)\n",
    "job_loc[0:10]"
   ]
  },
  {
   "cell_type": "code",
   "execution_count": 24,
   "id": "6c56a4bf",
   "metadata": {},
   "outputs": [
    {
     "data": {
      "text/plain": [
       "[<selenium.webdriver.remote.webelement.WebElement (session=\"507150973bb0d894ecf1f605bcf8d6ca\", element=\"93ee7109-08fb-4eb5-a124-f64b064170e7\")>,\n",
       " <selenium.webdriver.remote.webelement.WebElement (session=\"507150973bb0d894ecf1f605bcf8d6ca\", element=\"82ae82fd-21d3-460e-8110-d89d64af323e\")>,\n",
       " <selenium.webdriver.remote.webelement.WebElement (session=\"507150973bb0d894ecf1f605bcf8d6ca\", element=\"839a9c56-976f-46af-b8d3-7115b39efd73\")>,\n",
       " <selenium.webdriver.remote.webelement.WebElement (session=\"507150973bb0d894ecf1f605bcf8d6ca\", element=\"c775bcb6-1a8b-43a3-9c38-3ae145cc0374\")>,\n",
       " <selenium.webdriver.remote.webelement.WebElement (session=\"507150973bb0d894ecf1f605bcf8d6ca\", element=\"250f6bab-2522-4054-a79d-fd39d84d76d7\")>,\n",
       " <selenium.webdriver.remote.webelement.WebElement (session=\"507150973bb0d894ecf1f605bcf8d6ca\", element=\"2a57b955-ba28-4388-afb7-0a185fc2f801\")>,\n",
       " <selenium.webdriver.remote.webelement.WebElement (session=\"507150973bb0d894ecf1f605bcf8d6ca\", element=\"23940866-e92b-4645-9d65-7176441d0fcb\")>,\n",
       " <selenium.webdriver.remote.webelement.WebElement (session=\"507150973bb0d894ecf1f605bcf8d6ca\", element=\"720bef59-82e3-43cf-8804-fcd5af8a1ffa\")>,\n",
       " <selenium.webdriver.remote.webelement.WebElement (session=\"507150973bb0d894ecf1f605bcf8d6ca\", element=\"5c0cacf2-fbf7-45d9-90af-695e690158e3\")>,\n",
       " <selenium.webdriver.remote.webelement.WebElement (session=\"507150973bb0d894ecf1f605bcf8d6ca\", element=\"3d66c7e4-d619-41a9-96f3-fa1bd3dcd7df\")>]"
      ]
     },
     "execution_count": 24,
     "metadata": {},
     "output_type": "execute_result"
    }
   ],
   "source": [
    "# Scraping top 10 company names\n",
    "c_name=driver.find_elements(By.XPATH,\"//a[@class='subTitle ellipsis fleft']\")\n",
    "c_name[0:10]"
   ]
  },
  {
   "cell_type": "code",
   "execution_count": 25,
   "id": "bd940ba8",
   "metadata": {},
   "outputs": [
    {
     "data": {
      "text/plain": [
       "['Hitachi Ltd.',\n",
       " 'Concentrix Daksh Services',\n",
       " 'Toppr',\n",
       " 'Bayer',\n",
       " 'Hitachi Ltd.',\n",
       " 'Mobiotics IT Solution Pvt Ltd',\n",
       " 'Hitachi Ltd.',\n",
       " 'Bigshyft Hiring for PayTM (One97 Communications)',\n",
       " 'IBM India Pvt. Limited',\n",
       " 'IBM India Pvt. Limited']"
      ]
     },
     "execution_count": 25,
     "metadata": {},
     "output_type": "execute_result"
    }
   ],
   "source": [
    "comp_name=[]\n",
    "for i in c_name:\n",
    "    comp_name.append(i.text)\n",
    "comp_name[0:10]"
   ]
  },
  {
   "cell_type": "code",
   "execution_count": 26,
   "id": "ccd98615",
   "metadata": {},
   "outputs": [
    {
     "data": {
      "text/html": [
       "<div>\n",
       "<style scoped>\n",
       "    .dataframe tbody tr th:only-of-type {\n",
       "        vertical-align: middle;\n",
       "    }\n",
       "\n",
       "    .dataframe tbody tr th {\n",
       "        vertical-align: top;\n",
       "    }\n",
       "\n",
       "    .dataframe thead th {\n",
       "        text-align: right;\n",
       "    }\n",
       "</style>\n",
       "<table border=\"1\" class=\"dataframe\">\n",
       "  <thead>\n",
       "    <tr style=\"text-align: right;\">\n",
       "      <th></th>\n",
       "      <th>Job Title</th>\n",
       "      <th>Job location</th>\n",
       "      <th>Company Name</th>\n",
       "    </tr>\n",
       "  </thead>\n",
       "  <tbody>\n",
       "    <tr>\n",
       "      <th>0</th>\n",
       "      <td>Senior Data Scientist</td>\n",
       "      <td>Bangalore/Bengaluru</td>\n",
       "      <td>Hitachi Ltd.</td>\n",
       "    </tr>\n",
       "    <tr>\n",
       "      <th>1</th>\n",
       "      <td>Forecasting Analyst/ Data Scientist (US Client)</td>\n",
       "      <td>Gurgaon/Gurugram, Bangalore/Bengaluru</td>\n",
       "      <td>Concentrix Daksh Services</td>\n",
       "    </tr>\n",
       "    <tr>\n",
       "      <th>2</th>\n",
       "      <td>Data Scientist</td>\n",
       "      <td>Hyderabad/Secunderabad, Bangalore/Bengaluru, M...</td>\n",
       "      <td>Toppr</td>\n",
       "    </tr>\n",
       "    <tr>\n",
       "      <th>3</th>\n",
       "      <td>Process Innovation Analyst - APAC/Data Scienti...</td>\n",
       "      <td>Bangalore/Bengaluru, Hyderabad</td>\n",
       "      <td>Bayer</td>\n",
       "    </tr>\n",
       "    <tr>\n",
       "      <th>4</th>\n",
       "      <td>Data Scientist</td>\n",
       "      <td>Bangalore/Bengaluru</td>\n",
       "      <td>Hitachi Ltd.</td>\n",
       "    </tr>\n",
       "    <tr>\n",
       "      <th>5</th>\n",
       "      <td>Data Scientist</td>\n",
       "      <td>Bangalore/Bengaluru(HSR Layout)</td>\n",
       "      <td>Mobiotics IT Solution Pvt Ltd</td>\n",
       "    </tr>\n",
       "    <tr>\n",
       "      <th>6</th>\n",
       "      <td>Data Scientist</td>\n",
       "      <td>Bangalore/Bengaluru</td>\n",
       "      <td>Hitachi Ltd.</td>\n",
       "    </tr>\n",
       "    <tr>\n",
       "      <th>7</th>\n",
       "      <td>Senior Data Scientist</td>\n",
       "      <td>Bangalore/Bengaluru</td>\n",
       "      <td>Bigshyft Hiring for PayTM (One97 Communications)</td>\n",
       "    </tr>\n",
       "    <tr>\n",
       "      <th>8</th>\n",
       "      <td>Data Scientist: Advanced Analytics</td>\n",
       "      <td>Bangalore/Bengaluru</td>\n",
       "      <td>IBM India Pvt. Limited</td>\n",
       "    </tr>\n",
       "    <tr>\n",
       "      <th>9</th>\n",
       "      <td>Data Scientist: Artificial Intelligence</td>\n",
       "      <td>Bangalore/Bengaluru</td>\n",
       "      <td>IBM India Pvt. Limited</td>\n",
       "    </tr>\n",
       "  </tbody>\n",
       "</table>\n",
       "</div>"
      ],
      "text/plain": [
       "                                           Job Title  \\\n",
       "0                              Senior Data Scientist   \n",
       "1    Forecasting Analyst/ Data Scientist (US Client)   \n",
       "2                                     Data Scientist   \n",
       "3  Process Innovation Analyst - APAC/Data Scienti...   \n",
       "4                                     Data Scientist   \n",
       "5                                     Data Scientist   \n",
       "6                                     Data Scientist   \n",
       "7                              Senior Data Scientist   \n",
       "8                 Data Scientist: Advanced Analytics   \n",
       "9            Data Scientist: Artificial Intelligence   \n",
       "\n",
       "                                        Job location  \\\n",
       "0                                Bangalore/Bengaluru   \n",
       "1              Gurgaon/Gurugram, Bangalore/Bengaluru   \n",
       "2  Hyderabad/Secunderabad, Bangalore/Bengaluru, M...   \n",
       "3                     Bangalore/Bengaluru, Hyderabad   \n",
       "4                                Bangalore/Bengaluru   \n",
       "5                    Bangalore/Bengaluru(HSR Layout)   \n",
       "6                                Bangalore/Bengaluru   \n",
       "7                                Bangalore/Bengaluru   \n",
       "8                                Bangalore/Bengaluru   \n",
       "9                                Bangalore/Bengaluru   \n",
       "\n",
       "                                       Company Name  \n",
       "0                                      Hitachi Ltd.  \n",
       "1                         Concentrix Daksh Services  \n",
       "2                                             Toppr  \n",
       "3                                             Bayer  \n",
       "4                                      Hitachi Ltd.  \n",
       "5                     Mobiotics IT Solution Pvt Ltd  \n",
       "6                                      Hitachi Ltd.  \n",
       "7  Bigshyft Hiring for PayTM (One97 Communications)  \n",
       "8                            IBM India Pvt. Limited  \n",
       "9                            IBM India Pvt. Limited  "
      ]
     },
     "execution_count": 26,
     "metadata": {},
     "output_type": "execute_result"
    }
   ],
   "source": [
    "# putting all scraped data in Data Frame\n",
    "df=pd.DataFrame(list(zip(job_title[0:10],job_loc[0:10],comp_name[0:10])),columns=[\"Job Title\",\"Job location\",\"Company Name\"])\n",
    "df"
   ]
  },
  {
   "cell_type": "markdown",
   "id": "c1022c5e",
   "metadata": {},
   "source": [
    "Ans 3.python program to scrape data for Designation \"Data Scientist\":"
   ]
  },
  {
   "cell_type": "code",
   "execution_count": 27,
   "id": "ab76745d",
   "metadata": {},
   "outputs": [],
   "source": [
    "# importing all the libraries\n",
    "import selenium\n",
    "import pandas as pd\n",
    "from selenium import webdriver\n",
    "from selenium.webdriver.chrome.service import Service\n",
    "from selenium.webdriver.common.by import By\n",
    "\n",
    "ser= Service (\"C:\\\\Users\\\\amitt\\\\Downloads\\\\chromedriver_win32\\\\chromedriver.exe\")\n",
    "driver=webdriver.Chrome(service=ser)"
   ]
  },
  {
   "cell_type": "code",
   "execution_count": 28,
   "id": "f9e6473d",
   "metadata": {},
   "outputs": [],
   "source": [
    "#Opening website\n",
    "driver.get(\"https://www.naukri.com/\")"
   ]
  },
  {
   "cell_type": "code",
   "execution_count": 29,
   "id": "8d9a9e96",
   "metadata": {},
   "outputs": [],
   "source": [
    "# typing Data Scientist in Skills, designation & companies box\n",
    "s_job=driver.find_element(By.ID,\"qsb-keyword-sugg\")\n",
    "s_job.send_keys(\"Data Scientist\")"
   ]
  },
  {
   "cell_type": "code",
   "execution_count": 30,
   "id": "a3e10b29",
   "metadata": {},
   "outputs": [],
   "source": [
    "# Clicking Search Button\n",
    "s_btn=driver.find_element(By.XPATH,\"//div[@class='search-btn']/button\")\n",
    "s_btn.click()"
   ]
  },
  {
   "cell_type": "code",
   "execution_count": 31,
   "id": "3af73415",
   "metadata": {},
   "outputs": [
    {
     "data": {
      "text/plain": [
       "'Delhi / NCR(2311)'"
      ]
     },
     "execution_count": 31,
     "metadata": {},
     "output_type": "execute_result"
    }
   ],
   "source": [
    "# applying Location Filter for Delhi/Ncr\n",
    "l_fil=driver.find_elements(By.XPATH,\"//div[@class='mt-8 chckBoxCont']\")\n",
    "l_fil[3].text.replace(\"\\n\",\"\")\n"
   ]
  },
  {
   "cell_type": "code",
   "execution_count": 32,
   "id": "7cca67ca",
   "metadata": {},
   "outputs": [],
   "source": [
    "#selecting the location\n",
    "l_fil[3].click()"
   ]
  },
  {
   "cell_type": "code",
   "execution_count": 33,
   "id": "4eeb02e4",
   "metadata": {},
   "outputs": [
    {
     "data": {
      "text/plain": [
       "'3-6 Lakhs(655)'"
      ]
     },
     "execution_count": 33,
     "metadata": {},
     "output_type": "execute_result"
    }
   ],
   "source": [
    "# applying Salary filter for 3-6 lakhs and clicking it\n",
    "s_fil=driver.find_elements(By.XPATH,\"//p[@class='grey-text lH20 fleft ml-8 txtLbl']\")\n",
    "s_fil[6].text.replace(\"\\n\",\"\").replace(\"(621)\",\"\")\n"
   ]
  },
  {
   "cell_type": "code",
   "execution_count": 34,
   "id": "1b948f30",
   "metadata": {},
   "outputs": [],
   "source": [
    "#Selecting the Salary\n",
    "s_fil[6].click()"
   ]
  },
  {
   "cell_type": "code",
   "execution_count": 35,
   "id": "d759bd82",
   "metadata": {},
   "outputs": [
    {
     "data": {
      "text/plain": [
       "[<selenium.webdriver.remote.webelement.WebElement (session=\"cd2c94338b09ed37d0db511a773e850e\", element=\"a7b00fd4-67ee-408a-86e5-b6f490f737cc\")>,\n",
       " <selenium.webdriver.remote.webelement.WebElement (session=\"cd2c94338b09ed37d0db511a773e850e\", element=\"4164d492-7fc1-4df7-868c-5bec074d960d\")>,\n",
       " <selenium.webdriver.remote.webelement.WebElement (session=\"cd2c94338b09ed37d0db511a773e850e\", element=\"81a13f99-fdf6-488e-9429-f0b0dde5bacd\")>,\n",
       " <selenium.webdriver.remote.webelement.WebElement (session=\"cd2c94338b09ed37d0db511a773e850e\", element=\"e4c38437-6cf7-4173-8a27-fc1d226a4d54\")>,\n",
       " <selenium.webdriver.remote.webelement.WebElement (session=\"cd2c94338b09ed37d0db511a773e850e\", element=\"bcaa3c44-a265-4d04-8d4b-9d02cca425ea\")>,\n",
       " <selenium.webdriver.remote.webelement.WebElement (session=\"cd2c94338b09ed37d0db511a773e850e\", element=\"81c927c8-9f8f-47e8-99f7-d4e7f841f76e\")>,\n",
       " <selenium.webdriver.remote.webelement.WebElement (session=\"cd2c94338b09ed37d0db511a773e850e\", element=\"77e540a2-91aa-47aa-9b5a-d88e0bfe183d\")>,\n",
       " <selenium.webdriver.remote.webelement.WebElement (session=\"cd2c94338b09ed37d0db511a773e850e\", element=\"f553526c-d925-4116-9832-5e5434a39d86\")>,\n",
       " <selenium.webdriver.remote.webelement.WebElement (session=\"cd2c94338b09ed37d0db511a773e850e\", element=\"1951f67a-c9cc-49a1-99a3-4a097711ff8b\")>,\n",
       " <selenium.webdriver.remote.webelement.WebElement (session=\"cd2c94338b09ed37d0db511a773e850e\", element=\"8387e441-d7b0-432d-924f-5f659bc95da6\")>]"
      ]
     },
     "execution_count": 35,
     "metadata": {},
     "output_type": "execute_result"
    }
   ],
   "source": [
    "#Extracting Job title\n",
    "j_title=driver.find_elements(By.XPATH,\"//a[@class='title fw500 ellipsis']\")\n",
    "j_title[0:10]"
   ]
  },
  {
   "cell_type": "code",
   "execution_count": 36,
   "id": "70383dc5",
   "metadata": {},
   "outputs": [
    {
     "data": {
      "text/plain": [
       "['Data Scientist - Insurance',\n",
       " 'Job Opportunity || Data Scientist || HCL Technologies',\n",
       " 'Data Scientist',\n",
       " 'Data Scientist III-2',\n",
       " 'Data Scientist',\n",
       " 'Data Scientist',\n",
       " 'Urgent Hiring || Data Scientist || Delhi',\n",
       " 'Data Scientist',\n",
       " 'Data Scientist Internship',\n",
       " 'Data Scientist']"
      ]
     },
     "execution_count": 36,
     "metadata": {},
     "output_type": "execute_result"
    }
   ],
   "source": [
    "job_title=[]\n",
    "for i in j_title:\n",
    "    job_title.append(i.text)\n",
    "job_title[0:10]"
   ]
  },
  {
   "cell_type": "code",
   "execution_count": 37,
   "id": "da8f6840",
   "metadata": {},
   "outputs": [
    {
     "data": {
      "text/plain": [
       "[<selenium.webdriver.remote.webelement.WebElement (session=\"cd2c94338b09ed37d0db511a773e850e\", element=\"0fba90a2-86c2-47d7-be9c-6bd681761608\")>,\n",
       " <selenium.webdriver.remote.webelement.WebElement (session=\"cd2c94338b09ed37d0db511a773e850e\", element=\"a76a834c-e28e-4122-807b-38e36630c69d\")>,\n",
       " <selenium.webdriver.remote.webelement.WebElement (session=\"cd2c94338b09ed37d0db511a773e850e\", element=\"1e935bde-f280-44d8-ad62-d865f2b3caff\")>,\n",
       " <selenium.webdriver.remote.webelement.WebElement (session=\"cd2c94338b09ed37d0db511a773e850e\", element=\"8f47f298-d45f-4d2a-9ee3-8eef1e7f2b52\")>,\n",
       " <selenium.webdriver.remote.webelement.WebElement (session=\"cd2c94338b09ed37d0db511a773e850e\", element=\"f1a60f93-8ee4-4a5a-9371-7cc0f373add2\")>,\n",
       " <selenium.webdriver.remote.webelement.WebElement (session=\"cd2c94338b09ed37d0db511a773e850e\", element=\"5e0989ea-c19f-4ed6-85fc-f2873338441d\")>,\n",
       " <selenium.webdriver.remote.webelement.WebElement (session=\"cd2c94338b09ed37d0db511a773e850e\", element=\"25e6a747-e35d-4d8f-8232-ac5338f6269d\")>,\n",
       " <selenium.webdriver.remote.webelement.WebElement (session=\"cd2c94338b09ed37d0db511a773e850e\", element=\"292d1d74-e78a-400c-a478-e97181596991\")>,\n",
       " <selenium.webdriver.remote.webelement.WebElement (session=\"cd2c94338b09ed37d0db511a773e850e\", element=\"e3ae0d67-c9d0-4591-82b2-bf8cbe72e6c7\")>,\n",
       " <selenium.webdriver.remote.webelement.WebElement (session=\"cd2c94338b09ed37d0db511a773e850e\", element=\"cd6a5339-b773-44fa-8976-92831f3cb04f\")>]"
      ]
     },
     "execution_count": 37,
     "metadata": {},
     "output_type": "execute_result"
    }
   ],
   "source": [
    "#Scrapping Job Location\n",
    "j_loc=driver.find_elements(By.XPATH,\"//li[@class='fleft grey-text br2 placeHolderLi location']/span[1]\")\n",
    "j_loc[0:10]"
   ]
  },
  {
   "cell_type": "code",
   "execution_count": 38,
   "id": "e48b3fd0",
   "metadata": {},
   "outputs": [
    {
     "data": {
      "text/plain": [
       "['Noida, Gurgaon/Gurugram',\n",
       " 'Delhi / NCR',\n",
       " 'Pune, Bangalore/Bengaluru, Delhi / NCR',\n",
       " 'Gurgaon/Gurugram',\n",
       " 'Noida(Sector-126 Noida)',\n",
       " 'Noida(Sector-126 Noida)',\n",
       " 'Delhi / NCR',\n",
       " 'Kochi/Cochin, Kolkata, Hyderabad/Secunderabad, Pune, Ahmedabad, Chennai, Bangalore/Bengaluru, Delhi / NCR, Mumbai (All Areas)',\n",
       " 'New Delhi',\n",
       " 'Noida, Gurgaon/Gurugram']"
      ]
     },
     "execution_count": 38,
     "metadata": {},
     "output_type": "execute_result"
    }
   ],
   "source": [
    "job_loc=[]\n",
    "for i in j_loc:\n",
    "    job_loc.append(i.text)\n",
    "job_loc[0:10]"
   ]
  },
  {
   "cell_type": "code",
   "execution_count": 39,
   "id": "d9a0ca83",
   "metadata": {},
   "outputs": [
    {
     "data": {
      "text/plain": [
       "[<selenium.webdriver.remote.webelement.WebElement (session=\"cd2c94338b09ed37d0db511a773e850e\", element=\"a4cf29af-a799-4cc4-b9a7-e9617798307d\")>,\n",
       " <selenium.webdriver.remote.webelement.WebElement (session=\"cd2c94338b09ed37d0db511a773e850e\", element=\"d9c1d018-726c-4407-8049-4d5c3c882335\")>,\n",
       " <selenium.webdriver.remote.webelement.WebElement (session=\"cd2c94338b09ed37d0db511a773e850e\", element=\"284f1b6d-9199-46ac-b447-63ced6fa1d49\")>,\n",
       " <selenium.webdriver.remote.webelement.WebElement (session=\"cd2c94338b09ed37d0db511a773e850e\", element=\"187017af-cb8c-433a-a94a-5fd648b6c169\")>,\n",
       " <selenium.webdriver.remote.webelement.WebElement (session=\"cd2c94338b09ed37d0db511a773e850e\", element=\"f3174910-1db1-4cc1-8c6c-69c9c3887e82\")>,\n",
       " <selenium.webdriver.remote.webelement.WebElement (session=\"cd2c94338b09ed37d0db511a773e850e\", element=\"555060f7-20a0-4144-9d03-1fc52b121249\")>,\n",
       " <selenium.webdriver.remote.webelement.WebElement (session=\"cd2c94338b09ed37d0db511a773e850e\", element=\"37de08fb-aa72-4bcd-b597-ed076191ed7d\")>,\n",
       " <selenium.webdriver.remote.webelement.WebElement (session=\"cd2c94338b09ed37d0db511a773e850e\", element=\"d87bba20-5bc9-4ea0-ab44-ad4ac994d619\")>,\n",
       " <selenium.webdriver.remote.webelement.WebElement (session=\"cd2c94338b09ed37d0db511a773e850e\", element=\"8b13e7e1-57da-4b03-b9e1-d78fa0c52bdc\")>,\n",
       " <selenium.webdriver.remote.webelement.WebElement (session=\"cd2c94338b09ed37d0db511a773e850e\", element=\"2a57dbd7-d4ac-4c42-8ff0-44901ab9b802\")>]"
      ]
     },
     "execution_count": 39,
     "metadata": {},
     "output_type": "execute_result"
    }
   ],
   "source": [
    "#Scraping Company Name\n",
    "c_name=driver.find_elements(By.XPATH,\"//a[@class='subTitle ellipsis fleft']\")\n",
    "c_name[0:10]"
   ]
  },
  {
   "cell_type": "code",
   "execution_count": 40,
   "id": "2c8c01a9",
   "metadata": {},
   "outputs": [
    {
     "data": {
      "text/plain": [
       "['Huquo Consulting Pvt. Ltd',\n",
       " 'HCL Technologies',\n",
       " 'ThinkBumblebee Analytics Pvt. Ltd.',\n",
       " 'Concentrix Daksh Services',\n",
       " 'MoMagic Technologies Pvt. Ltd.',\n",
       " 'MoMagic Technologies Pvt. Ltd.',\n",
       " 'Shriram Automall India Limited',\n",
       " 'Think i',\n",
       " 'iHackers Inc',\n",
       " 'Optum Global Solutions (India) Private Limited']"
      ]
     },
     "execution_count": 40,
     "metadata": {},
     "output_type": "execute_result"
    }
   ],
   "source": [
    "comp_name=[]\n",
    "for i in c_name:\n",
    "    comp_name.append(i.text)\n",
    "comp_name[0:10]"
   ]
  },
  {
   "cell_type": "code",
   "execution_count": 41,
   "id": "760e572c",
   "metadata": {},
   "outputs": [
    {
     "data": {
      "text/plain": [
       "[<selenium.webdriver.remote.webelement.WebElement (session=\"cd2c94338b09ed37d0db511a773e850e\", element=\"8649c7f0-ac75-4f94-bdd5-6b53aca8d37e\")>,\n",
       " <selenium.webdriver.remote.webelement.WebElement (session=\"cd2c94338b09ed37d0db511a773e850e\", element=\"562f4c2f-952a-4a00-8382-a3448feaa229\")>,\n",
       " <selenium.webdriver.remote.webelement.WebElement (session=\"cd2c94338b09ed37d0db511a773e850e\", element=\"ae100920-f896-4fb5-881f-952afc694b69\")>,\n",
       " <selenium.webdriver.remote.webelement.WebElement (session=\"cd2c94338b09ed37d0db511a773e850e\", element=\"0b9838fd-6d28-4130-aa6e-e3eae432e841\")>,\n",
       " <selenium.webdriver.remote.webelement.WebElement (session=\"cd2c94338b09ed37d0db511a773e850e\", element=\"68d6d46c-9040-45aa-8b08-b23001edae83\")>,\n",
       " <selenium.webdriver.remote.webelement.WebElement (session=\"cd2c94338b09ed37d0db511a773e850e\", element=\"e7353a83-2f91-41a7-97fd-7fc1a87c9934\")>,\n",
       " <selenium.webdriver.remote.webelement.WebElement (session=\"cd2c94338b09ed37d0db511a773e850e\", element=\"cf2293ee-34ad-4df1-8015-a22e700dfe48\")>,\n",
       " <selenium.webdriver.remote.webelement.WebElement (session=\"cd2c94338b09ed37d0db511a773e850e\", element=\"94095d0e-35f0-465a-a8a5-e5a3fe3d7739\")>,\n",
       " <selenium.webdriver.remote.webelement.WebElement (session=\"cd2c94338b09ed37d0db511a773e850e\", element=\"549720bd-080c-48aa-a850-94cb9237cd34\")>,\n",
       " <selenium.webdriver.remote.webelement.WebElement (session=\"cd2c94338b09ed37d0db511a773e850e\", element=\"fc493bc0-c7b5-4208-ae43-b9fbc14b4a51\")>]"
      ]
     },
     "execution_count": 41,
     "metadata": {},
     "output_type": "execute_result"
    }
   ],
   "source": [
    "# Scrapping experience required\n",
    "exp=driver.find_elements(By.XPATH,\"//li[@class='fleft grey-text br2 placeHolderLi experience']/span[1]\")\n",
    "exp[0:10]"
   ]
  },
  {
   "cell_type": "code",
   "execution_count": 42,
   "id": "b6f362b4",
   "metadata": {},
   "outputs": [
    {
     "data": {
      "text/plain": [
       "['2-7 Yrs',\n",
       " '4-7 Yrs',\n",
       " '2-6 Yrs',\n",
       " '3-8 Yrs',\n",
       " '4-6 Yrs',\n",
       " '4-6 Yrs',\n",
       " '2-7 Yrs',\n",
       " '0-2 Yrs',\n",
       " '0-1 Yrs',\n",
       " '2-6 Yrs']"
      ]
     },
     "execution_count": 42,
     "metadata": {},
     "output_type": "execute_result"
    }
   ],
   "source": [
    "req_exp=[]\n",
    "for i in exp:\n",
    "    req_exp.append(i.text)\n",
    "req_exp[0:10]"
   ]
  },
  {
   "cell_type": "code",
   "execution_count": 43,
   "id": "e7e2413a",
   "metadata": {},
   "outputs": [
    {
     "data": {
      "text/html": [
       "<div>\n",
       "<style scoped>\n",
       "    .dataframe tbody tr th:only-of-type {\n",
       "        vertical-align: middle;\n",
       "    }\n",
       "\n",
       "    .dataframe tbody tr th {\n",
       "        vertical-align: top;\n",
       "    }\n",
       "\n",
       "    .dataframe thead th {\n",
       "        text-align: right;\n",
       "    }\n",
       "</style>\n",
       "<table border=\"1\" class=\"dataframe\">\n",
       "  <thead>\n",
       "    <tr style=\"text-align: right;\">\n",
       "      <th></th>\n",
       "      <th>Job Title</th>\n",
       "      <th>Job Location</th>\n",
       "      <th>Company Name</th>\n",
       "      <th>Experience Required</th>\n",
       "    </tr>\n",
       "  </thead>\n",
       "  <tbody>\n",
       "    <tr>\n",
       "      <th>0</th>\n",
       "      <td>Data Scientist - Insurance</td>\n",
       "      <td>Noida, Gurgaon/Gurugram</td>\n",
       "      <td>Huquo Consulting Pvt. Ltd</td>\n",
       "      <td>2-7 Yrs</td>\n",
       "    </tr>\n",
       "    <tr>\n",
       "      <th>1</th>\n",
       "      <td>Job Opportunity || Data Scientist || HCL Techn...</td>\n",
       "      <td>Delhi / NCR</td>\n",
       "      <td>HCL Technologies</td>\n",
       "      <td>4-7 Yrs</td>\n",
       "    </tr>\n",
       "    <tr>\n",
       "      <th>2</th>\n",
       "      <td>Data Scientist</td>\n",
       "      <td>Pune, Bangalore/Bengaluru, Delhi / NCR</td>\n",
       "      <td>ThinkBumblebee Analytics Pvt. Ltd.</td>\n",
       "      <td>2-6 Yrs</td>\n",
       "    </tr>\n",
       "    <tr>\n",
       "      <th>3</th>\n",
       "      <td>Data Scientist III-2</td>\n",
       "      <td>Gurgaon/Gurugram</td>\n",
       "      <td>Concentrix Daksh Services</td>\n",
       "      <td>3-8 Yrs</td>\n",
       "    </tr>\n",
       "    <tr>\n",
       "      <th>4</th>\n",
       "      <td>Data Scientist</td>\n",
       "      <td>Noida(Sector-126 Noida)</td>\n",
       "      <td>MoMagic Technologies Pvt. Ltd.</td>\n",
       "      <td>4-6 Yrs</td>\n",
       "    </tr>\n",
       "    <tr>\n",
       "      <th>5</th>\n",
       "      <td>Data Scientist</td>\n",
       "      <td>Noida(Sector-126 Noida)</td>\n",
       "      <td>MoMagic Technologies Pvt. Ltd.</td>\n",
       "      <td>4-6 Yrs</td>\n",
       "    </tr>\n",
       "    <tr>\n",
       "      <th>6</th>\n",
       "      <td>Urgent Hiring || Data Scientist || Delhi</td>\n",
       "      <td>Delhi / NCR</td>\n",
       "      <td>Shriram Automall India Limited</td>\n",
       "      <td>2-7 Yrs</td>\n",
       "    </tr>\n",
       "    <tr>\n",
       "      <th>7</th>\n",
       "      <td>Data Scientist</td>\n",
       "      <td>Kochi/Cochin, Kolkata, Hyderabad/Secunderabad,...</td>\n",
       "      <td>Think i</td>\n",
       "      <td>0-2 Yrs</td>\n",
       "    </tr>\n",
       "    <tr>\n",
       "      <th>8</th>\n",
       "      <td>Data Scientist Internship</td>\n",
       "      <td>New Delhi</td>\n",
       "      <td>iHackers Inc</td>\n",
       "      <td>0-1 Yrs</td>\n",
       "    </tr>\n",
       "    <tr>\n",
       "      <th>9</th>\n",
       "      <td>Data Scientist</td>\n",
       "      <td>Noida, Gurgaon/Gurugram</td>\n",
       "      <td>Optum Global Solutions (India) Private Limited</td>\n",
       "      <td>2-6 Yrs</td>\n",
       "    </tr>\n",
       "  </tbody>\n",
       "</table>\n",
       "</div>"
      ],
      "text/plain": [
       "                                           Job Title  \\\n",
       "0                         Data Scientist - Insurance   \n",
       "1  Job Opportunity || Data Scientist || HCL Techn...   \n",
       "2                                     Data Scientist   \n",
       "3                               Data Scientist III-2   \n",
       "4                                     Data Scientist   \n",
       "5                                     Data Scientist   \n",
       "6           Urgent Hiring || Data Scientist || Delhi   \n",
       "7                                     Data Scientist   \n",
       "8                          Data Scientist Internship   \n",
       "9                                     Data Scientist   \n",
       "\n",
       "                                        Job Location  \\\n",
       "0                            Noida, Gurgaon/Gurugram   \n",
       "1                                        Delhi / NCR   \n",
       "2             Pune, Bangalore/Bengaluru, Delhi / NCR   \n",
       "3                                   Gurgaon/Gurugram   \n",
       "4                            Noida(Sector-126 Noida)   \n",
       "5                            Noida(Sector-126 Noida)   \n",
       "6                                        Delhi / NCR   \n",
       "7  Kochi/Cochin, Kolkata, Hyderabad/Secunderabad,...   \n",
       "8                                          New Delhi   \n",
       "9                            Noida, Gurgaon/Gurugram   \n",
       "\n",
       "                                     Company Name Experience Required  \n",
       "0                       Huquo Consulting Pvt. Ltd             2-7 Yrs  \n",
       "1                                HCL Technologies             4-7 Yrs  \n",
       "2              ThinkBumblebee Analytics Pvt. Ltd.             2-6 Yrs  \n",
       "3                       Concentrix Daksh Services             3-8 Yrs  \n",
       "4                  MoMagic Technologies Pvt. Ltd.             4-6 Yrs  \n",
       "5                  MoMagic Technologies Pvt. Ltd.             4-6 Yrs  \n",
       "6                  Shriram Automall India Limited             2-7 Yrs  \n",
       "7                                         Think i             0-2 Yrs  \n",
       "8                                    iHackers Inc             0-1 Yrs  \n",
       "9  Optum Global Solutions (India) Private Limited             2-6 Yrs  "
      ]
     },
     "execution_count": 43,
     "metadata": {},
     "output_type": "execute_result"
    }
   ],
   "source": [
    "# Assembling all scraped data in DataFrame\n",
    "df=pd.DataFrame(list(zip(job_title[0:10],job_loc[0:10],comp_name[0:10],req_exp[0:10])),columns=[\"Job Title\",\"Job Location\",\"Company Name\",\"Experience Required\"])\n",
    "df"
   ]
  },
  {
   "cell_type": "markdown",
   "id": "593b036c",
   "metadata": {},
   "source": [
    "Ans 4. Python Program to Scrape first 100 Sunglasses listings on Flipkart.com :-"
   ]
  },
  {
   "cell_type": "code",
   "execution_count": 44,
   "id": "bfcf16d8",
   "metadata": {},
   "outputs": [],
   "source": [
    "#Importing required Libraries\n",
    "import selenium\n",
    "import pandas as pd\n",
    "from selenium import webdriver\n",
    "from selenium.webdriver.chrome.service import Service\n",
    "from selenium.webdriver.common.by import By\n",
    "\n",
    "ser=Service (\"C:\\\\Users\\\\amitt\\Downloads\\\\chromedriver_win32\\\\chromedriver.exe\")\n",
    "driver=webdriver.Chrome(service = ser)"
   ]
  },
  {
   "cell_type": "code",
   "execution_count": 45,
   "id": "ad518a18",
   "metadata": {},
   "outputs": [],
   "source": [
    "#Opening website Flipkart.com\n",
    "driver.get(\"https://www.flipkart.com/\")"
   ]
  },
  {
   "cell_type": "code",
   "execution_count": 46,
   "id": "d6bfe568",
   "metadata": {},
   "outputs": [],
   "source": [
    "#closing the popup page which opens when we open flipkart.com\n",
    "close_popup=driver.find_element(By.XPATH,\"//button[@class='_2KpZ6l _2doB4z']\")\n",
    "close_popup.click()"
   ]
  },
  {
   "cell_type": "code",
   "execution_count": 47,
   "id": "f778d6db",
   "metadata": {},
   "outputs": [],
   "source": [
    "# Entering Sunglasses in search bar\n",
    "s_field=driver.find_element(By.XPATH,\"//Input[@class='_3704LK']\")\n",
    "s_field.send_keys(\"Sunglasses\")"
   ]
  },
  {
   "cell_type": "code",
   "execution_count": 48,
   "id": "d53ecaaa",
   "metadata": {},
   "outputs": [],
   "source": [
    "#Clicking Search Button\n",
    "s_button=driver.find_element(By.XPATH,\"//Button[@class='L0Z3Pu']\")\n",
    "s_button.click()"
   ]
  },
  {
   "cell_type": "code",
   "execution_count": 49,
   "id": "d0719fb9",
   "metadata": {},
   "outputs": [
    {
     "data": {
      "text/plain": [
       "[<selenium.webdriver.remote.webelement.WebElement (session=\"418cd5f6c7f12b05b409e7eaad5bcfae\", element=\"0fd41647-2f80-48ba-bde8-6260eb2bd956\")>,\n",
       " <selenium.webdriver.remote.webelement.WebElement (session=\"418cd5f6c7f12b05b409e7eaad5bcfae\", element=\"f3d6cc38-724f-4ad9-a8d7-c7ac85f189af\")>,\n",
       " <selenium.webdriver.remote.webelement.WebElement (session=\"418cd5f6c7f12b05b409e7eaad5bcfae\", element=\"52df0449-01ac-4bcc-88e5-72afbb6b7848\")>,\n",
       " <selenium.webdriver.remote.webelement.WebElement (session=\"418cd5f6c7f12b05b409e7eaad5bcfae\", element=\"825f5845-df84-4849-9880-077ce1e9ab35\")>,\n",
       " <selenium.webdriver.remote.webelement.WebElement (session=\"418cd5f6c7f12b05b409e7eaad5bcfae\", element=\"0c30cc5d-9403-4466-8f97-7a014ac40364\")>,\n",
       " <selenium.webdriver.remote.webelement.WebElement (session=\"418cd5f6c7f12b05b409e7eaad5bcfae\", element=\"af660039-6365-4235-8ee6-608044d32aad\")>,\n",
       " <selenium.webdriver.remote.webelement.WebElement (session=\"418cd5f6c7f12b05b409e7eaad5bcfae\", element=\"15348fd6-8c01-4c25-8f38-8f46dfde8234\")>,\n",
       " <selenium.webdriver.remote.webelement.WebElement (session=\"418cd5f6c7f12b05b409e7eaad5bcfae\", element=\"758da796-7c3f-41c2-8329-7a704ba79cef\")>,\n",
       " <selenium.webdriver.remote.webelement.WebElement (session=\"418cd5f6c7f12b05b409e7eaad5bcfae\", element=\"b9e742c7-ee5b-40e2-805b-2396a20e70df\")>,\n",
       " <selenium.webdriver.remote.webelement.WebElement (session=\"418cd5f6c7f12b05b409e7eaad5bcfae\", element=\"627fbd58-d6ac-4329-b3f6-ca1d1b36f7ff\")>,\n",
       " <selenium.webdriver.remote.webelement.WebElement (session=\"418cd5f6c7f12b05b409e7eaad5bcfae\", element=\"0d3a1341-7950-4e2f-b404-5dc7c62b89b6\")>,\n",
       " <selenium.webdriver.remote.webelement.WebElement (session=\"418cd5f6c7f12b05b409e7eaad5bcfae\", element=\"a0ca16a2-d5c7-4bab-9a6a-5c8480e705ac\")>,\n",
       " <selenium.webdriver.remote.webelement.WebElement (session=\"418cd5f6c7f12b05b409e7eaad5bcfae\", element=\"5e7c676c-0e1b-4281-afdf-7c7d92ea06cb\")>,\n",
       " <selenium.webdriver.remote.webelement.WebElement (session=\"418cd5f6c7f12b05b409e7eaad5bcfae\", element=\"bca7914f-9dfa-4fe5-a39e-4e80236b7ecf\")>,\n",
       " <selenium.webdriver.remote.webelement.WebElement (session=\"418cd5f6c7f12b05b409e7eaad5bcfae\", element=\"5fd2a861-d43f-46d8-82af-ff8a2b060039\")>,\n",
       " <selenium.webdriver.remote.webelement.WebElement (session=\"418cd5f6c7f12b05b409e7eaad5bcfae\", element=\"97f87a62-824c-4be5-98c5-fdefdb256303\")>,\n",
       " <selenium.webdriver.remote.webelement.WebElement (session=\"418cd5f6c7f12b05b409e7eaad5bcfae\", element=\"23c2e050-7bf2-45f8-b578-09943f808869\")>,\n",
       " <selenium.webdriver.remote.webelement.WebElement (session=\"418cd5f6c7f12b05b409e7eaad5bcfae\", element=\"c8c45c61-f728-487b-96f3-63f0a30b6242\")>,\n",
       " <selenium.webdriver.remote.webelement.WebElement (session=\"418cd5f6c7f12b05b409e7eaad5bcfae\", element=\"6e8bf978-27ed-44ab-b145-1d30ec85c6c9\")>,\n",
       " <selenium.webdriver.remote.webelement.WebElement (session=\"418cd5f6c7f12b05b409e7eaad5bcfae\", element=\"f32dd701-0d28-4ce4-b7b4-405eb283fe16\")>,\n",
       " <selenium.webdriver.remote.webelement.WebElement (session=\"418cd5f6c7f12b05b409e7eaad5bcfae\", element=\"a80d1657-c35e-4269-a52f-6d393fb033e8\")>,\n",
       " <selenium.webdriver.remote.webelement.WebElement (session=\"418cd5f6c7f12b05b409e7eaad5bcfae\", element=\"2f87b52c-4afe-4997-9f51-056e46169d5f\")>,\n",
       " <selenium.webdriver.remote.webelement.WebElement (session=\"418cd5f6c7f12b05b409e7eaad5bcfae\", element=\"ad5cec05-b393-4437-a2ec-775aceba03bc\")>,\n",
       " <selenium.webdriver.remote.webelement.WebElement (session=\"418cd5f6c7f12b05b409e7eaad5bcfae\", element=\"487e1e82-6e86-43fa-920f-1c0e9b0fa694\")>,\n",
       " <selenium.webdriver.remote.webelement.WebElement (session=\"418cd5f6c7f12b05b409e7eaad5bcfae\", element=\"a1ff36d3-2ce1-4451-8e77-e64d24c4d559\")>,\n",
       " <selenium.webdriver.remote.webelement.WebElement (session=\"418cd5f6c7f12b05b409e7eaad5bcfae\", element=\"d0c55c4d-efa1-48a3-8481-20ade9eebb6e\")>,\n",
       " <selenium.webdriver.remote.webelement.WebElement (session=\"418cd5f6c7f12b05b409e7eaad5bcfae\", element=\"1fd3b2ed-8f6f-4bdf-bf9c-8d3c5a152db3\")>,\n",
       " <selenium.webdriver.remote.webelement.WebElement (session=\"418cd5f6c7f12b05b409e7eaad5bcfae\", element=\"59386ff9-97de-4e0b-91c7-61cc223e0257\")>,\n",
       " <selenium.webdriver.remote.webelement.WebElement (session=\"418cd5f6c7f12b05b409e7eaad5bcfae\", element=\"e63551cb-4e39-486e-9630-88eee2bb4c23\")>,\n",
       " <selenium.webdriver.remote.webelement.WebElement (session=\"418cd5f6c7f12b05b409e7eaad5bcfae\", element=\"0e08a3d0-be9f-425e-b982-8205fc2927fb\")>,\n",
       " <selenium.webdriver.remote.webelement.WebElement (session=\"418cd5f6c7f12b05b409e7eaad5bcfae\", element=\"c2375501-666b-40f0-ac79-125379e84e00\")>,\n",
       " <selenium.webdriver.remote.webelement.WebElement (session=\"418cd5f6c7f12b05b409e7eaad5bcfae\", element=\"b6c2e134-c576-40ba-ab76-f2bbf6c3943d\")>,\n",
       " <selenium.webdriver.remote.webelement.WebElement (session=\"418cd5f6c7f12b05b409e7eaad5bcfae\", element=\"d8e62b0a-c312-4dad-9dee-13a098d5f8f0\")>,\n",
       " <selenium.webdriver.remote.webelement.WebElement (session=\"418cd5f6c7f12b05b409e7eaad5bcfae\", element=\"83dd27a6-e1d5-48df-b670-5a03f8ca0010\")>,\n",
       " <selenium.webdriver.remote.webelement.WebElement (session=\"418cd5f6c7f12b05b409e7eaad5bcfae\", element=\"46f38fbf-e315-4c87-aecc-d8e2bb88d5a2\")>,\n",
       " <selenium.webdriver.remote.webelement.WebElement (session=\"418cd5f6c7f12b05b409e7eaad5bcfae\", element=\"0becc890-4cf9-4e72-b919-3571a00bbb68\")>,\n",
       " <selenium.webdriver.remote.webelement.WebElement (session=\"418cd5f6c7f12b05b409e7eaad5bcfae\", element=\"c500e85a-3365-4351-b8a6-0c53cabead1c\")>,\n",
       " <selenium.webdriver.remote.webelement.WebElement (session=\"418cd5f6c7f12b05b409e7eaad5bcfae\", element=\"3bdfe029-3bf5-4cb8-81dc-8dc64990fce4\")>,\n",
       " <selenium.webdriver.remote.webelement.WebElement (session=\"418cd5f6c7f12b05b409e7eaad5bcfae\", element=\"e282bf19-a102-41af-b83a-f5dbd6c5cdd4\")>,\n",
       " <selenium.webdriver.remote.webelement.WebElement (session=\"418cd5f6c7f12b05b409e7eaad5bcfae\", element=\"687462b3-fb13-462c-be81-58e423f01881\")>]"
      ]
     },
     "execution_count": 49,
     "metadata": {},
     "output_type": "execute_result"
    }
   ],
   "source": [
    "#Scraping first 100 Brand names\n",
    "b=driver.find_elements(By.XPATH,\"//div[@class='_2WkVRV']\")\n",
    "b"
   ]
  },
  {
   "cell_type": "code",
   "execution_count": 50,
   "id": "e7d89533",
   "metadata": {},
   "outputs": [
    {
     "data": {
      "text/plain": [
       "['VINCENT CHASE',\n",
       " 'VINCENT CHASE',\n",
       " 'SUNBEE',\n",
       " 'Elligator',\n",
       " 'PIRASO',\n",
       " 'SHAAH COLLECTIONS',\n",
       " 'SHAAH COLLECTIONS',\n",
       " 'VINCENT CHASE',\n",
       " 'kingsunglasses',\n",
       " 'kingsunglasses',\n",
       " 'PIRASO',\n",
       " 'VINCENT CHASE',\n",
       " 'GANSTA',\n",
       " 'PHENOMENAL',\n",
       " 'hipe',\n",
       " 'VINCENT CHASE',\n",
       " 'Rich Club',\n",
       " 'New Specs',\n",
       " 'New Specs',\n",
       " 'VINCENT CHASE',\n",
       " 'ROZZETTA CRAFT',\n",
       " 'PIRASO',\n",
       " 'Fastrack',\n",
       " 'VINCENT CHASE',\n",
       " 'Elligator',\n",
       " 'ROYAL SON',\n",
       " 'NuVew',\n",
       " 'VINCENT CHASE',\n",
       " 'elegante',\n",
       " 'hipe',\n",
       " 'PHENOMENAL',\n",
       " 'VINCENT CHASE',\n",
       " 'Elligator',\n",
       " 'Fastrack',\n",
       " 'Fastrack',\n",
       " 'VILLAIN',\n",
       " 'kingsunglasses',\n",
       " 'HIPPON',\n",
       " 'SUNBEE',\n",
       " 'ROYAL SON']"
      ]
     },
     "execution_count": 50,
     "metadata": {},
     "output_type": "execute_result"
    }
   ],
   "source": [
    "brand=[]\n",
    "for i in b:\n",
    "    brand.append(i.text)\n",
    "brand"
   ]
  },
  {
   "cell_type": "code",
   "execution_count": 51,
   "id": "9146ae6e",
   "metadata": {},
   "outputs": [],
   "source": [
    "#click next for next page\n",
    "c_next=driver.find_element(By.XPATH,\"//a[@class='_1LKTO3']/span\")\n",
    "c_next.click()"
   ]
  },
  {
   "cell_type": "code",
   "execution_count": 52,
   "id": "90ae9199",
   "metadata": {},
   "outputs": [
    {
     "data": {
      "text/plain": [
       "[<selenium.webdriver.remote.webelement.WebElement (session=\"418cd5f6c7f12b05b409e7eaad5bcfae\", element=\"3f337775-42c9-4e91-9969-08fe825cd1e7\")>,\n",
       " <selenium.webdriver.remote.webelement.WebElement (session=\"418cd5f6c7f12b05b409e7eaad5bcfae\", element=\"e7cd967c-8f22-4381-bc91-fe403b074a29\")>,\n",
       " <selenium.webdriver.remote.webelement.WebElement (session=\"418cd5f6c7f12b05b409e7eaad5bcfae\", element=\"fa1225b4-dc85-4655-95b5-8870a62c79dc\")>,\n",
       " <selenium.webdriver.remote.webelement.WebElement (session=\"418cd5f6c7f12b05b409e7eaad5bcfae\", element=\"1e33ad4e-e06f-4420-9688-252de6864592\")>,\n",
       " <selenium.webdriver.remote.webelement.WebElement (session=\"418cd5f6c7f12b05b409e7eaad5bcfae\", element=\"059cf820-f9cf-41b2-a185-9abc8637bf7b\")>,\n",
       " <selenium.webdriver.remote.webelement.WebElement (session=\"418cd5f6c7f12b05b409e7eaad5bcfae\", element=\"d2e74272-7618-48b2-86a3-2cd7191fefa5\")>,\n",
       " <selenium.webdriver.remote.webelement.WebElement (session=\"418cd5f6c7f12b05b409e7eaad5bcfae\", element=\"a9b13f15-3512-44aa-85ac-bf8aab5eba5c\")>,\n",
       " <selenium.webdriver.remote.webelement.WebElement (session=\"418cd5f6c7f12b05b409e7eaad5bcfae\", element=\"50d38856-6b35-4505-800e-2e2fae6d9b82\")>,\n",
       " <selenium.webdriver.remote.webelement.WebElement (session=\"418cd5f6c7f12b05b409e7eaad5bcfae\", element=\"437e50ac-6198-4a9c-88fd-a97c95e2351d\")>,\n",
       " <selenium.webdriver.remote.webelement.WebElement (session=\"418cd5f6c7f12b05b409e7eaad5bcfae\", element=\"5f52e898-e14e-496e-bb47-cdcccedba299\")>,\n",
       " <selenium.webdriver.remote.webelement.WebElement (session=\"418cd5f6c7f12b05b409e7eaad5bcfae\", element=\"8b2dd63f-46c3-41dc-8171-70c55bed50bf\")>,\n",
       " <selenium.webdriver.remote.webelement.WebElement (session=\"418cd5f6c7f12b05b409e7eaad5bcfae\", element=\"7d3db196-cbc4-4385-90c8-08fdcecb093d\")>,\n",
       " <selenium.webdriver.remote.webelement.WebElement (session=\"418cd5f6c7f12b05b409e7eaad5bcfae\", element=\"979c78c1-7c91-4ac6-bc22-3662c19f4d98\")>,\n",
       " <selenium.webdriver.remote.webelement.WebElement (session=\"418cd5f6c7f12b05b409e7eaad5bcfae\", element=\"01b1f4f7-1430-419f-a799-4eac79de8a7e\")>,\n",
       " <selenium.webdriver.remote.webelement.WebElement (session=\"418cd5f6c7f12b05b409e7eaad5bcfae\", element=\"37fbb8a5-caff-4b0c-9f8c-9330b333148b\")>,\n",
       " <selenium.webdriver.remote.webelement.WebElement (session=\"418cd5f6c7f12b05b409e7eaad5bcfae\", element=\"5b3201a1-1ce4-477c-bded-48928feda713\")>,\n",
       " <selenium.webdriver.remote.webelement.WebElement (session=\"418cd5f6c7f12b05b409e7eaad5bcfae\", element=\"3d2d0c8a-4964-4c25-a3d4-f9cd224cdfa0\")>,\n",
       " <selenium.webdriver.remote.webelement.WebElement (session=\"418cd5f6c7f12b05b409e7eaad5bcfae\", element=\"1fa05392-0418-4c24-bd66-a2521aa798f1\")>,\n",
       " <selenium.webdriver.remote.webelement.WebElement (session=\"418cd5f6c7f12b05b409e7eaad5bcfae\", element=\"128669c5-9bb8-4f69-bbfe-c10c0dcdd17e\")>,\n",
       " <selenium.webdriver.remote.webelement.WebElement (session=\"418cd5f6c7f12b05b409e7eaad5bcfae\", element=\"e1a3376b-be7c-4882-92fa-4cc5d7943447\")>,\n",
       " <selenium.webdriver.remote.webelement.WebElement (session=\"418cd5f6c7f12b05b409e7eaad5bcfae\", element=\"8e1bd492-69bd-4732-869f-137f855ed749\")>,\n",
       " <selenium.webdriver.remote.webelement.WebElement (session=\"418cd5f6c7f12b05b409e7eaad5bcfae\", element=\"6314885d-7790-4fd3-bd5e-bd7481139f92\")>,\n",
       " <selenium.webdriver.remote.webelement.WebElement (session=\"418cd5f6c7f12b05b409e7eaad5bcfae\", element=\"62771218-2a39-4d06-9337-ae135a09b532\")>,\n",
       " <selenium.webdriver.remote.webelement.WebElement (session=\"418cd5f6c7f12b05b409e7eaad5bcfae\", element=\"4c6cff6e-28f9-4f69-807a-271f3a5b27f1\")>,\n",
       " <selenium.webdriver.remote.webelement.WebElement (session=\"418cd5f6c7f12b05b409e7eaad5bcfae\", element=\"95b30660-43ac-42b0-9859-6289de20f438\")>,\n",
       " <selenium.webdriver.remote.webelement.WebElement (session=\"418cd5f6c7f12b05b409e7eaad5bcfae\", element=\"8bd27e4e-54ad-4627-a5fe-675bad1b4bd2\")>,\n",
       " <selenium.webdriver.remote.webelement.WebElement (session=\"418cd5f6c7f12b05b409e7eaad5bcfae\", element=\"4146e7b9-1d65-42a3-8c32-e195acced381\")>,\n",
       " <selenium.webdriver.remote.webelement.WebElement (session=\"418cd5f6c7f12b05b409e7eaad5bcfae\", element=\"dd03079c-e095-4d96-b33d-70b3948a5e8a\")>,\n",
       " <selenium.webdriver.remote.webelement.WebElement (session=\"418cd5f6c7f12b05b409e7eaad5bcfae\", element=\"0ab361fe-8818-4f8e-9bc6-1da6f2b698ca\")>,\n",
       " <selenium.webdriver.remote.webelement.WebElement (session=\"418cd5f6c7f12b05b409e7eaad5bcfae\", element=\"219c6f3c-0c50-4e48-acce-5532f8a14436\")>,\n",
       " <selenium.webdriver.remote.webelement.WebElement (session=\"418cd5f6c7f12b05b409e7eaad5bcfae\", element=\"82f38628-9e52-4a74-9449-e583afb61f98\")>,\n",
       " <selenium.webdriver.remote.webelement.WebElement (session=\"418cd5f6c7f12b05b409e7eaad5bcfae\", element=\"42940457-9a2b-4b70-b0e7-689e30a87a38\")>,\n",
       " <selenium.webdriver.remote.webelement.WebElement (session=\"418cd5f6c7f12b05b409e7eaad5bcfae\", element=\"77e85e0e-3ed0-4474-a421-4d4435969d86\")>,\n",
       " <selenium.webdriver.remote.webelement.WebElement (session=\"418cd5f6c7f12b05b409e7eaad5bcfae\", element=\"5b655914-e790-45ab-8c39-4179de5cea89\")>,\n",
       " <selenium.webdriver.remote.webelement.WebElement (session=\"418cd5f6c7f12b05b409e7eaad5bcfae\", element=\"bd706565-04f4-4d24-9b6f-4324b8242838\")>,\n",
       " <selenium.webdriver.remote.webelement.WebElement (session=\"418cd5f6c7f12b05b409e7eaad5bcfae\", element=\"5d144abb-018e-45d9-ab5e-667e5d7107ea\")>,\n",
       " <selenium.webdriver.remote.webelement.WebElement (session=\"418cd5f6c7f12b05b409e7eaad5bcfae\", element=\"0ccf11f0-3b9e-4167-b9d4-f59abe06fe6a\")>,\n",
       " <selenium.webdriver.remote.webelement.WebElement (session=\"418cd5f6c7f12b05b409e7eaad5bcfae\", element=\"f99e9a7d-d564-449a-8947-7ad33c52fe6f\")>,\n",
       " <selenium.webdriver.remote.webelement.WebElement (session=\"418cd5f6c7f12b05b409e7eaad5bcfae\", element=\"05305405-d309-4a33-9ab4-54749849f686\")>,\n",
       " <selenium.webdriver.remote.webelement.WebElement (session=\"418cd5f6c7f12b05b409e7eaad5bcfae\", element=\"7565a7b5-db43-4277-81da-ead5bf2634a2\")>]"
      ]
     },
     "execution_count": 52,
     "metadata": {},
     "output_type": "execute_result"
    }
   ],
   "source": [
    "br=driver.find_elements(By.XPATH,\"//div[@class='_2WkVRV']\")\n",
    "br"
   ]
  },
  {
   "cell_type": "code",
   "execution_count": 53,
   "id": "c670e859",
   "metadata": {},
   "outputs": [
    {
     "data": {
      "text/plain": [
       "['Fastrack',\n",
       " 'HIPPON',\n",
       " 'SHAAH COLLECTIONS',\n",
       " 'VINCENT CHASE',\n",
       " 'GANSTA',\n",
       " 'Lee Topper',\n",
       " 'PIRASO',\n",
       " 'VINCENT CHASE',\n",
       " 'ROZZETTA CRAFT',\n",
       " 'Silver Kartz',\n",
       " 'povty',\n",
       " 'ROYAL SON',\n",
       " 'ROYAL SON',\n",
       " 'hipe',\n",
       " 'kingsunglasses',\n",
       " 'VINCENT CHASE',\n",
       " 'Fastrack',\n",
       " 'kingsunglasses',\n",
       " 'agera',\n",
       " 'PIRASO',\n",
       " 'Elligator',\n",
       " 'PHENOMENAL',\n",
       " 'PIRASO',\n",
       " 'kingsunglasses',\n",
       " 'PIRASO',\n",
       " 'SUNBEE',\n",
       " 'PIRASO',\n",
       " 'ROYAL SON',\n",
       " 'kingsunglasses',\n",
       " 'Elligator',\n",
       " 'Singco India',\n",
       " 'Elligator',\n",
       " 'hipe',\n",
       " 'PHENOMENAL',\n",
       " 'kingsunglasses',\n",
       " 'Singco India',\n",
       " 'DEIXELS',\n",
       " 'Elligator',\n",
       " 'Elligator',\n",
       " 'SRPM']"
      ]
     },
     "execution_count": 53,
     "metadata": {},
     "output_type": "execute_result"
    }
   ],
   "source": [
    "br_name=[]\n",
    "for i in br:\n",
    "    br_name.append(i.text)\n",
    "br_name"
   ]
  },
  {
   "cell_type": "code",
   "execution_count": 54,
   "id": "a89ed23e",
   "metadata": {},
   "outputs": [],
   "source": [
    "# Click next to reach page no. 3 and scrap remaining data\n",
    "c3=driver.find_element(By.XPATH,\"//a[@class='_1LKTO3'][2]/span\")\n",
    "c3.click()"
   ]
  },
  {
   "cell_type": "code",
   "execution_count": 55,
   "id": "93442536",
   "metadata": {},
   "outputs": [
    {
     "data": {
      "text/plain": [
       "[<selenium.webdriver.remote.webelement.WebElement (session=\"418cd5f6c7f12b05b409e7eaad5bcfae\", element=\"8017b313-30bf-4487-ba54-531d912e341d\")>,\n",
       " <selenium.webdriver.remote.webelement.WebElement (session=\"418cd5f6c7f12b05b409e7eaad5bcfae\", element=\"5619911e-9884-49a0-8dc8-dc60ba8e3b41\")>,\n",
       " <selenium.webdriver.remote.webelement.WebElement (session=\"418cd5f6c7f12b05b409e7eaad5bcfae\", element=\"ef0c7713-8a8b-45d6-8ae8-c024fd3c44a1\")>,\n",
       " <selenium.webdriver.remote.webelement.WebElement (session=\"418cd5f6c7f12b05b409e7eaad5bcfae\", element=\"700344b5-a322-4029-8e55-b63b92861cf4\")>,\n",
       " <selenium.webdriver.remote.webelement.WebElement (session=\"418cd5f6c7f12b05b409e7eaad5bcfae\", element=\"87ed9c92-22e9-4ea6-8937-59ac19995ba9\")>,\n",
       " <selenium.webdriver.remote.webelement.WebElement (session=\"418cd5f6c7f12b05b409e7eaad5bcfae\", element=\"a7688be9-24ac-44e5-89e2-20cd2c330dc2\")>,\n",
       " <selenium.webdriver.remote.webelement.WebElement (session=\"418cd5f6c7f12b05b409e7eaad5bcfae\", element=\"e18b8540-d21a-46b8-a714-f5df9525906a\")>,\n",
       " <selenium.webdriver.remote.webelement.WebElement (session=\"418cd5f6c7f12b05b409e7eaad5bcfae\", element=\"14580cc1-9923-4cc8-bfa8-45eb163e8d15\")>,\n",
       " <selenium.webdriver.remote.webelement.WebElement (session=\"418cd5f6c7f12b05b409e7eaad5bcfae\", element=\"3d855bd9-7416-4a45-8ae7-619a191e3209\")>,\n",
       " <selenium.webdriver.remote.webelement.WebElement (session=\"418cd5f6c7f12b05b409e7eaad5bcfae\", element=\"d95294fe-3939-4b3d-b42c-95d67fde95fd\")>,\n",
       " <selenium.webdriver.remote.webelement.WebElement (session=\"418cd5f6c7f12b05b409e7eaad5bcfae\", element=\"78b0113f-4c07-4b0a-9e8d-f38a2e90eaf5\")>,\n",
       " <selenium.webdriver.remote.webelement.WebElement (session=\"418cd5f6c7f12b05b409e7eaad5bcfae\", element=\"e1d4fa1e-1b82-480c-b464-a973d6439ae6\")>,\n",
       " <selenium.webdriver.remote.webelement.WebElement (session=\"418cd5f6c7f12b05b409e7eaad5bcfae\", element=\"6251ae07-4464-4d5a-986e-652595e57b9f\")>,\n",
       " <selenium.webdriver.remote.webelement.WebElement (session=\"418cd5f6c7f12b05b409e7eaad5bcfae\", element=\"5b31a4f9-c09f-4d9b-84b5-f47b69b086a6\")>,\n",
       " <selenium.webdriver.remote.webelement.WebElement (session=\"418cd5f6c7f12b05b409e7eaad5bcfae\", element=\"b2a5419e-e9e1-467d-9680-8d164f70f0d9\")>,\n",
       " <selenium.webdriver.remote.webelement.WebElement (session=\"418cd5f6c7f12b05b409e7eaad5bcfae\", element=\"5b967f1f-066e-4e52-ab62-e925aa4805cc\")>,\n",
       " <selenium.webdriver.remote.webelement.WebElement (session=\"418cd5f6c7f12b05b409e7eaad5bcfae\", element=\"103977b7-5fff-4dec-a45a-b97396e302b2\")>,\n",
       " <selenium.webdriver.remote.webelement.WebElement (session=\"418cd5f6c7f12b05b409e7eaad5bcfae\", element=\"39358ca7-336c-4f75-9b85-e11be08a8491\")>,\n",
       " <selenium.webdriver.remote.webelement.WebElement (session=\"418cd5f6c7f12b05b409e7eaad5bcfae\", element=\"ae6cad53-5fb5-4a11-b672-2a70af966410\")>,\n",
       " <selenium.webdriver.remote.webelement.WebElement (session=\"418cd5f6c7f12b05b409e7eaad5bcfae\", element=\"32da7657-1294-4933-9260-1de928aebe54\")>]"
      ]
     },
     "execution_count": 55,
     "metadata": {},
     "output_type": "execute_result"
    }
   ],
   "source": [
    "#Scraping 81-100 sunglasses\n",
    "b_n=driver.find_elements(By.XPATH,\"//div[@class='_2WkVRV']\")\n",
    "b_n[0:20]"
   ]
  },
  {
   "cell_type": "code",
   "execution_count": 56,
   "id": "a69a61df",
   "metadata": {},
   "outputs": [
    {
     "data": {
      "text/plain": [
       "['ROYAL SON',\n",
       " 'Rich Club',\n",
       " 'GANSTA',\n",
       " 'VINCENT CHASE',\n",
       " 'ROZZETTA CRAFT',\n",
       " 'ROYAL SON',\n",
       " 'ROYAL SON',\n",
       " 'kingsunglasses',\n",
       " 'MAXX',\n",
       " 'ROYAL SON',\n",
       " 'Fravy',\n",
       " 'ABNER',\n",
       " 'GANSTA',\n",
       " 'PIRASO',\n",
       " 'kingsunglasses',\n",
       " 'PHENOMENAL',\n",
       " 'PIRASO',\n",
       " 'ROYAL SON',\n",
       " 'Fastrack',\n",
       " 'Rich Club']"
      ]
     },
     "execution_count": 56,
     "metadata": {},
     "output_type": "execute_result"
    }
   ],
   "source": [
    "b_name=[]\n",
    "for i in b_n:\n",
    "    b_name.append(i.text)\n",
    "b_name[0:20]"
   ]
  },
  {
   "cell_type": "code",
   "execution_count": 57,
   "id": "bcd3b8af",
   "metadata": {},
   "outputs": [
    {
     "data": {
      "text/plain": [
       "['VINCENT CHASE',\n",
       " 'VINCENT CHASE',\n",
       " 'SUNBEE',\n",
       " 'Elligator',\n",
       " 'PIRASO',\n",
       " 'SHAAH COLLECTIONS',\n",
       " 'SHAAH COLLECTIONS',\n",
       " 'VINCENT CHASE',\n",
       " 'kingsunglasses',\n",
       " 'kingsunglasses',\n",
       " 'PIRASO',\n",
       " 'VINCENT CHASE',\n",
       " 'GANSTA',\n",
       " 'PHENOMENAL',\n",
       " 'hipe',\n",
       " 'VINCENT CHASE',\n",
       " 'Rich Club',\n",
       " 'New Specs',\n",
       " 'New Specs',\n",
       " 'VINCENT CHASE',\n",
       " 'ROZZETTA CRAFT',\n",
       " 'PIRASO',\n",
       " 'Fastrack',\n",
       " 'VINCENT CHASE',\n",
       " 'Elligator',\n",
       " 'ROYAL SON',\n",
       " 'NuVew',\n",
       " 'VINCENT CHASE',\n",
       " 'elegante',\n",
       " 'hipe',\n",
       " 'PHENOMENAL',\n",
       " 'VINCENT CHASE',\n",
       " 'Elligator',\n",
       " 'Fastrack',\n",
       " 'Fastrack',\n",
       " 'VILLAIN',\n",
       " 'kingsunglasses',\n",
       " 'HIPPON',\n",
       " 'SUNBEE',\n",
       " 'ROYAL SON',\n",
       " 'Fastrack',\n",
       " 'HIPPON',\n",
       " 'SHAAH COLLECTIONS',\n",
       " 'VINCENT CHASE',\n",
       " 'GANSTA',\n",
       " 'Lee Topper',\n",
       " 'PIRASO',\n",
       " 'VINCENT CHASE',\n",
       " 'ROZZETTA CRAFT',\n",
       " 'Silver Kartz',\n",
       " 'povty',\n",
       " 'ROYAL SON',\n",
       " 'ROYAL SON',\n",
       " 'hipe',\n",
       " 'kingsunglasses',\n",
       " 'VINCENT CHASE',\n",
       " 'Fastrack',\n",
       " 'kingsunglasses',\n",
       " 'agera',\n",
       " 'PIRASO',\n",
       " 'Elligator',\n",
       " 'PHENOMENAL',\n",
       " 'PIRASO',\n",
       " 'kingsunglasses',\n",
       " 'PIRASO',\n",
       " 'SUNBEE',\n",
       " 'PIRASO',\n",
       " 'ROYAL SON',\n",
       " 'kingsunglasses',\n",
       " 'Elligator',\n",
       " 'Singco India',\n",
       " 'Elligator',\n",
       " 'hipe',\n",
       " 'PHENOMENAL',\n",
       " 'kingsunglasses',\n",
       " 'Singco India',\n",
       " 'DEIXELS',\n",
       " 'Elligator',\n",
       " 'Elligator',\n",
       " 'SRPM',\n",
       " 'ROYAL SON',\n",
       " 'Rich Club',\n",
       " 'GANSTA',\n",
       " 'VINCENT CHASE',\n",
       " 'ROZZETTA CRAFT',\n",
       " 'ROYAL SON',\n",
       " 'ROYAL SON',\n",
       " 'kingsunglasses',\n",
       " 'MAXX',\n",
       " 'ROYAL SON',\n",
       " 'Fravy',\n",
       " 'ABNER',\n",
       " 'GANSTA',\n",
       " 'PIRASO',\n",
       " 'kingsunglasses',\n",
       " 'PHENOMENAL',\n",
       " 'PIRASO',\n",
       " 'ROYAL SON',\n",
       " 'Fastrack',\n",
       " 'Rich Club']"
      ]
     },
     "execution_count": 57,
     "metadata": {},
     "output_type": "execute_result"
    }
   ],
   "source": [
    "f_100_b_n=brand+br_name+b_name[0:20]\n",
    "f_100_b_n"
   ]
  },
  {
   "cell_type": "code",
   "execution_count": 58,
   "id": "e6432db9",
   "metadata": {},
   "outputs": [
    {
     "data": {
      "text/plain": [
       "100"
      ]
     },
     "execution_count": 58,
     "metadata": {},
     "output_type": "execute_result"
    }
   ],
   "source": [
    "#Checking total no. of brand name scrapped\n",
    "len(f_100_b_n)"
   ]
  },
  {
   "cell_type": "code",
   "execution_count": 59,
   "id": "42bf77a6",
   "metadata": {},
   "outputs": [],
   "source": [
    "#Click Back to 1st page\n",
    "f_page=driver.find_element(By.XPATH,\"//a[@class='_1LKTO3']/span\")\n",
    "f_page.click()"
   ]
  },
  {
   "cell_type": "code",
   "execution_count": 60,
   "id": "40cfcb7b",
   "metadata": {},
   "outputs": [],
   "source": [
    "f_page=driver.find_element(By.XPATH,\"//a[@class='_1LKTO3']/span\")\n",
    "f_page.click()"
   ]
  },
  {
   "cell_type": "code",
   "execution_count": 61,
   "id": "d6b57731",
   "metadata": {},
   "outputs": [
    {
     "data": {
      "text/plain": [
       "[<selenium.webdriver.remote.webelement.WebElement (session=\"418cd5f6c7f12b05b409e7eaad5bcfae\", element=\"5045cf1b-f9e4-40e4-9762-5f00fe02a858\")>,\n",
       " <selenium.webdriver.remote.webelement.WebElement (session=\"418cd5f6c7f12b05b409e7eaad5bcfae\", element=\"f96b8d76-feaf-42b3-9a05-7b25cb120541\")>,\n",
       " <selenium.webdriver.remote.webelement.WebElement (session=\"418cd5f6c7f12b05b409e7eaad5bcfae\", element=\"24b5e366-bc29-4a12-8bfa-b2941398b3ad\")>,\n",
       " <selenium.webdriver.remote.webelement.WebElement (session=\"418cd5f6c7f12b05b409e7eaad5bcfae\", element=\"ea3e73a0-e670-4366-a032-a8407fe126dd\")>,\n",
       " <selenium.webdriver.remote.webelement.WebElement (session=\"418cd5f6c7f12b05b409e7eaad5bcfae\", element=\"009290a6-dd6d-4e2c-bf5a-913cce758c89\")>,\n",
       " <selenium.webdriver.remote.webelement.WebElement (session=\"418cd5f6c7f12b05b409e7eaad5bcfae\", element=\"4306adbd-0e77-4a9b-a3b9-5164803ed4cf\")>,\n",
       " <selenium.webdriver.remote.webelement.WebElement (session=\"418cd5f6c7f12b05b409e7eaad5bcfae\", element=\"aee7ce8b-d8ba-4b83-9b0d-4e9064ed90f3\")>,\n",
       " <selenium.webdriver.remote.webelement.WebElement (session=\"418cd5f6c7f12b05b409e7eaad5bcfae\", element=\"053207ed-f49e-4c82-ae4f-f2805d31e19b\")>,\n",
       " <selenium.webdriver.remote.webelement.WebElement (session=\"418cd5f6c7f12b05b409e7eaad5bcfae\", element=\"d6fdc024-80ed-40dc-9de2-873964a3b0cf\")>,\n",
       " <selenium.webdriver.remote.webelement.WebElement (session=\"418cd5f6c7f12b05b409e7eaad5bcfae\", element=\"b82f3187-26da-44a8-8d43-8a540aa3345b\")>,\n",
       " <selenium.webdriver.remote.webelement.WebElement (session=\"418cd5f6c7f12b05b409e7eaad5bcfae\", element=\"444c6d7e-3209-4c90-b7ea-306b850728d7\")>,\n",
       " <selenium.webdriver.remote.webelement.WebElement (session=\"418cd5f6c7f12b05b409e7eaad5bcfae\", element=\"91f53a7b-96e6-440d-94c9-bc8ca79065c8\")>,\n",
       " <selenium.webdriver.remote.webelement.WebElement (session=\"418cd5f6c7f12b05b409e7eaad5bcfae\", element=\"e7619a8c-e956-46e8-a37f-1957bc8c81a7\")>,\n",
       " <selenium.webdriver.remote.webelement.WebElement (session=\"418cd5f6c7f12b05b409e7eaad5bcfae\", element=\"1a369360-13f4-4d33-a4e1-b88f44a26c8f\")>,\n",
       " <selenium.webdriver.remote.webelement.WebElement (session=\"418cd5f6c7f12b05b409e7eaad5bcfae\", element=\"e4b30fab-385a-4db6-8103-6389f4da59da\")>,\n",
       " <selenium.webdriver.remote.webelement.WebElement (session=\"418cd5f6c7f12b05b409e7eaad5bcfae\", element=\"6b83f1d2-0a87-4231-85d1-99b485984596\")>,\n",
       " <selenium.webdriver.remote.webelement.WebElement (session=\"418cd5f6c7f12b05b409e7eaad5bcfae\", element=\"7444f482-36eb-474d-94f4-831bff9ec12b\")>,\n",
       " <selenium.webdriver.remote.webelement.WebElement (session=\"418cd5f6c7f12b05b409e7eaad5bcfae\", element=\"5bca293e-377e-47e7-bca7-bf8d58931c47\")>,\n",
       " <selenium.webdriver.remote.webelement.WebElement (session=\"418cd5f6c7f12b05b409e7eaad5bcfae\", element=\"ff26a5e9-bcb3-4a40-9d58-4d924d86f60d\")>,\n",
       " <selenium.webdriver.remote.webelement.WebElement (session=\"418cd5f6c7f12b05b409e7eaad5bcfae\", element=\"a1664eac-d204-49e0-a39f-deb528a75b98\")>,\n",
       " <selenium.webdriver.remote.webelement.WebElement (session=\"418cd5f6c7f12b05b409e7eaad5bcfae\", element=\"e6b46fee-7683-492f-b51c-8fa4bad28df5\")>,\n",
       " <selenium.webdriver.remote.webelement.WebElement (session=\"418cd5f6c7f12b05b409e7eaad5bcfae\", element=\"ad233607-bf4b-48d5-a09c-55167d8b2425\")>,\n",
       " <selenium.webdriver.remote.webelement.WebElement (session=\"418cd5f6c7f12b05b409e7eaad5bcfae\", element=\"1ac7e9b9-7df0-4160-bebe-50240b2c276e\")>,\n",
       " <selenium.webdriver.remote.webelement.WebElement (session=\"418cd5f6c7f12b05b409e7eaad5bcfae\", element=\"7817808b-3edc-4f36-9d43-bdb78fa7fcd4\")>,\n",
       " <selenium.webdriver.remote.webelement.WebElement (session=\"418cd5f6c7f12b05b409e7eaad5bcfae\", element=\"789d7b04-4857-4417-be89-6cf96dbe2cda\")>,\n",
       " <selenium.webdriver.remote.webelement.WebElement (session=\"418cd5f6c7f12b05b409e7eaad5bcfae\", element=\"26583b18-61fb-4d0e-9d48-4a6f932d0357\")>,\n",
       " <selenium.webdriver.remote.webelement.WebElement (session=\"418cd5f6c7f12b05b409e7eaad5bcfae\", element=\"f41d614f-6e87-4eb4-8de0-d95bb19e65e1\")>,\n",
       " <selenium.webdriver.remote.webelement.WebElement (session=\"418cd5f6c7f12b05b409e7eaad5bcfae\", element=\"da4ee64b-5b8d-452c-8e89-36831cfcb476\")>,\n",
       " <selenium.webdriver.remote.webelement.WebElement (session=\"418cd5f6c7f12b05b409e7eaad5bcfae\", element=\"bc1249aa-fc2e-484f-b6de-5a80a987244b\")>,\n",
       " <selenium.webdriver.remote.webelement.WebElement (session=\"418cd5f6c7f12b05b409e7eaad5bcfae\", element=\"b4f4172c-9814-4234-abb3-6a0fecfe3ed3\")>,\n",
       " <selenium.webdriver.remote.webelement.WebElement (session=\"418cd5f6c7f12b05b409e7eaad5bcfae\", element=\"c458639f-8639-446e-9363-fa763aee5699\")>,\n",
       " <selenium.webdriver.remote.webelement.WebElement (session=\"418cd5f6c7f12b05b409e7eaad5bcfae\", element=\"683e7f37-dda8-4334-a48e-2944f29f9e49\")>,\n",
       " <selenium.webdriver.remote.webelement.WebElement (session=\"418cd5f6c7f12b05b409e7eaad5bcfae\", element=\"662a713a-2e33-4dda-b738-638f473ede25\")>,\n",
       " <selenium.webdriver.remote.webelement.WebElement (session=\"418cd5f6c7f12b05b409e7eaad5bcfae\", element=\"6b63dfbd-46dd-448f-8d09-72a504a955a8\")>,\n",
       " <selenium.webdriver.remote.webelement.WebElement (session=\"418cd5f6c7f12b05b409e7eaad5bcfae\", element=\"294900e4-3be4-4ad2-b8b4-62f30c6bcc90\")>,\n",
       " <selenium.webdriver.remote.webelement.WebElement (session=\"418cd5f6c7f12b05b409e7eaad5bcfae\", element=\"d3eaf6b5-c8eb-4434-a0b8-508e6c111e8c\")>,\n",
       " <selenium.webdriver.remote.webelement.WebElement (session=\"418cd5f6c7f12b05b409e7eaad5bcfae\", element=\"338a4d41-9cb7-4e2a-b22c-2218babdd904\")>,\n",
       " <selenium.webdriver.remote.webelement.WebElement (session=\"418cd5f6c7f12b05b409e7eaad5bcfae\", element=\"3b95cbdc-e9af-411d-94e6-a159c7b67f85\")>,\n",
       " <selenium.webdriver.remote.webelement.WebElement (session=\"418cd5f6c7f12b05b409e7eaad5bcfae\", element=\"35e40269-f86c-4098-8118-4cc9392b7afa\")>,\n",
       " <selenium.webdriver.remote.webelement.WebElement (session=\"418cd5f6c7f12b05b409e7eaad5bcfae\", element=\"9b0ee77a-efef-440d-8f92-b48b7379de70\")>]"
      ]
     },
     "execution_count": 61,
     "metadata": {},
     "output_type": "execute_result"
    }
   ],
   "source": [
    "# Scrapping product description\n",
    "p_d=driver.find_elements(By.XPATH,\"//a[@class='IRpwTa']\")\n",
    "p_d"
   ]
  },
  {
   "cell_type": "code",
   "execution_count": 62,
   "id": "59859740",
   "metadata": {},
   "outputs": [
    {
     "data": {
      "text/plain": [
       "['UV Protection Aviator Sunglasses (53)',\n",
       " 'by Lenskart Polarized, UV Protection Wayfarer Sunglasse...',\n",
       " 'UV Protection Wayfarer Sunglasses (56)',\n",
       " 'UV Protection, Polarized, Mirrored Round Sunglasses (Fr...',\n",
       " 'UV Protection Round Sunglasses (54)',\n",
       " 'UV Protection Rectangular Sunglasses (Free Size)',\n",
       " 'UV Protection Aviator Sunglasses (54)',\n",
       " 'Polarized, UV Protection Wayfarer Sunglasses (57)',\n",
       " 'UV Protection, Polarized, Mirrored Rectangular Sunglass...',\n",
       " 'UV Protection, Polarized, Mirrored Rectangular Sunglass...',\n",
       " 'UV Protection Round Sunglasses (54)',\n",
       " 'Polarized, UV Protection Wayfarer Sunglasses (57)',\n",
       " 'Mirrored, UV Protection Wayfarer Sunglasses (Free Size)',\n",
       " 'UV Protection Aviator Sunglasses (54)',\n",
       " 'UV Protection Aviator Sunglasses (57)',\n",
       " 'by Lenskart Polarized, UV Protection Round Sunglasses (...',\n",
       " 'UV Protection Retro Square Sunglasses (Free Size)',\n",
       " 'Mirrored, UV Protection, Gradient Round Sunglasses (55)',\n",
       " 'Polarized Round Sunglasses (48)',\n",
       " 'Polarized, UV Protection Aviator Sunglasses (58)',\n",
       " 'UV Protection Rectangular Sunglasses (Free Size)',\n",
       " 'Mirrored, UV Protection, Riding Glasses, Others Round S...',\n",
       " 'UV Protection Retro Square Sunglasses (Free Size)',\n",
       " 'Polarized, UV Protection Wayfarer Sunglasses (53)',\n",
       " 'UV Protection Aviator Sunglasses (54)',\n",
       " 'UV Protection Round Sunglasses (55)',\n",
       " 'UV Protection Aviator Sunglasses (Free Size)',\n",
       " 'Polarized, UV Protection Wayfarer Sunglasses (Free Size...',\n",
       " 'Mirrored Aviator Sunglasses (55)',\n",
       " 'UV Protection, Night Vision, Riding Glasses Sports Sung...',\n",
       " 'UV Protection, Mirrored Retro Square Sunglasses (53)',\n",
       " 'UV Protection, Gradient Over-sized Sunglasses (56)',\n",
       " 'UV Protection, Gradient, Mirrored, Riding Glasses Aviat...',\n",
       " 'Mirrored Round Sunglasses (Free Size)',\n",
       " 'Gradient, UV Protection Wayfarer Sunglasses (Free Size)',\n",
       " 'UV Protection Aviator Sunglasses (Free Size)',\n",
       " 'UV Protection Rectangular Sunglasses (55)',\n",
       " 'UV Protection, Polarized, Mirrored Wayfarer Sunglasses ...',\n",
       " 'UV Protection Aviator Sunglasses (55)',\n",
       " 'Others Wayfarer Sunglasses (Free Size)']"
      ]
     },
     "execution_count": 62,
     "metadata": {},
     "output_type": "execute_result"
    }
   ],
   "source": [
    "p_des=[]\n",
    "for i in p_d:\n",
    "    p_des.append(i.text)\n",
    "p_des"
   ]
  },
  {
   "cell_type": "code",
   "execution_count": 63,
   "id": "79086d92",
   "metadata": {},
   "outputs": [],
   "source": [
    "#Clicking next button to reach page 2\n",
    "c_next=driver.find_element(By.XPATH,\"//a[@class='_1LKTO3']/span\")\n",
    "c_next.click()"
   ]
  },
  {
   "cell_type": "code",
   "execution_count": 64,
   "id": "a595dcde",
   "metadata": {},
   "outputs": [
    {
     "data": {
      "text/plain": [
       "[<selenium.webdriver.remote.webelement.WebElement (session=\"418cd5f6c7f12b05b409e7eaad5bcfae\", element=\"321a5ab6-113b-4e9d-aa51-b7184b00cf3f\")>,\n",
       " <selenium.webdriver.remote.webelement.WebElement (session=\"418cd5f6c7f12b05b409e7eaad5bcfae\", element=\"d03d3a6d-b421-40fd-bb96-286afef6a209\")>,\n",
       " <selenium.webdriver.remote.webelement.WebElement (session=\"418cd5f6c7f12b05b409e7eaad5bcfae\", element=\"407e7e41-fc04-4728-91b4-cf5ff3b615bf\")>,\n",
       " <selenium.webdriver.remote.webelement.WebElement (session=\"418cd5f6c7f12b05b409e7eaad5bcfae\", element=\"912f5f20-bc71-4b5d-9abc-94ae3fc444a8\")>,\n",
       " <selenium.webdriver.remote.webelement.WebElement (session=\"418cd5f6c7f12b05b409e7eaad5bcfae\", element=\"497a75c0-f73e-4d67-a450-4cca86c5c351\")>,\n",
       " <selenium.webdriver.remote.webelement.WebElement (session=\"418cd5f6c7f12b05b409e7eaad5bcfae\", element=\"4af66357-fbc5-4526-a4c8-15345c015ed3\")>,\n",
       " <selenium.webdriver.remote.webelement.WebElement (session=\"418cd5f6c7f12b05b409e7eaad5bcfae\", element=\"6a8e7da0-5dd6-4c4e-8f2c-12b52f9c18c2\")>,\n",
       " <selenium.webdriver.remote.webelement.WebElement (session=\"418cd5f6c7f12b05b409e7eaad5bcfae\", element=\"1855d07a-bf15-4989-9a5d-9e56ffa59de0\")>,\n",
       " <selenium.webdriver.remote.webelement.WebElement (session=\"418cd5f6c7f12b05b409e7eaad5bcfae\", element=\"c25b2cdf-e56b-454c-843f-87a3091348aa\")>,\n",
       " <selenium.webdriver.remote.webelement.WebElement (session=\"418cd5f6c7f12b05b409e7eaad5bcfae\", element=\"017b10fb-3619-490e-a840-7d16cb5b98af\")>,\n",
       " <selenium.webdriver.remote.webelement.WebElement (session=\"418cd5f6c7f12b05b409e7eaad5bcfae\", element=\"0dc4a418-565b-4652-b7d0-cb49b6c0fcf7\")>,\n",
       " <selenium.webdriver.remote.webelement.WebElement (session=\"418cd5f6c7f12b05b409e7eaad5bcfae\", element=\"f48b11a5-575b-46af-b23a-08cfdda538dc\")>,\n",
       " <selenium.webdriver.remote.webelement.WebElement (session=\"418cd5f6c7f12b05b409e7eaad5bcfae\", element=\"6162c132-c2d2-461b-b275-f4d741c870c5\")>,\n",
       " <selenium.webdriver.remote.webelement.WebElement (session=\"418cd5f6c7f12b05b409e7eaad5bcfae\", element=\"5b8c20d7-c2f5-4ba9-93ee-9a4ba6f4a812\")>,\n",
       " <selenium.webdriver.remote.webelement.WebElement (session=\"418cd5f6c7f12b05b409e7eaad5bcfae\", element=\"824c2958-753e-4c5c-aa13-a5769a3b3527\")>,\n",
       " <selenium.webdriver.remote.webelement.WebElement (session=\"418cd5f6c7f12b05b409e7eaad5bcfae\", element=\"7837fdbe-ec6e-4808-9b6d-4e9e9062d518\")>,\n",
       " <selenium.webdriver.remote.webelement.WebElement (session=\"418cd5f6c7f12b05b409e7eaad5bcfae\", element=\"4da9f6b5-8307-4a33-8002-9715b1ba4a1a\")>,\n",
       " <selenium.webdriver.remote.webelement.WebElement (session=\"418cd5f6c7f12b05b409e7eaad5bcfae\", element=\"4aabf0e4-179c-4ca2-8d05-c00eeaf94496\")>,\n",
       " <selenium.webdriver.remote.webelement.WebElement (session=\"418cd5f6c7f12b05b409e7eaad5bcfae\", element=\"544119c1-8425-4490-ba34-7fe53b084b1f\")>,\n",
       " <selenium.webdriver.remote.webelement.WebElement (session=\"418cd5f6c7f12b05b409e7eaad5bcfae\", element=\"cea96475-8542-466f-80b1-8bfcf6c59d93\")>,\n",
       " <selenium.webdriver.remote.webelement.WebElement (session=\"418cd5f6c7f12b05b409e7eaad5bcfae\", element=\"fc75d603-5efb-4b60-b33b-2908c61cd1e8\")>,\n",
       " <selenium.webdriver.remote.webelement.WebElement (session=\"418cd5f6c7f12b05b409e7eaad5bcfae\", element=\"3e771bde-8615-4dfb-a145-4909de291c00\")>,\n",
       " <selenium.webdriver.remote.webelement.WebElement (session=\"418cd5f6c7f12b05b409e7eaad5bcfae\", element=\"6d1d58f4-12cd-4dc9-b6d5-eb7ab68a4910\")>,\n",
       " <selenium.webdriver.remote.webelement.WebElement (session=\"418cd5f6c7f12b05b409e7eaad5bcfae\", element=\"e41c2db8-204e-4961-a914-5a454ebd69ad\")>,\n",
       " <selenium.webdriver.remote.webelement.WebElement (session=\"418cd5f6c7f12b05b409e7eaad5bcfae\", element=\"6dfb07b1-ebfc-4a50-a76a-1ba97aecc48c\")>,\n",
       " <selenium.webdriver.remote.webelement.WebElement (session=\"418cd5f6c7f12b05b409e7eaad5bcfae\", element=\"8b46f30d-47f5-4530-b4ca-9be4372ca687\")>,\n",
       " <selenium.webdriver.remote.webelement.WebElement (session=\"418cd5f6c7f12b05b409e7eaad5bcfae\", element=\"4903ae6f-a997-4d69-9e6b-6fde9bbd8d95\")>,\n",
       " <selenium.webdriver.remote.webelement.WebElement (session=\"418cd5f6c7f12b05b409e7eaad5bcfae\", element=\"82eb5d0e-fdb7-4412-9b69-dbf81482a260\")>,\n",
       " <selenium.webdriver.remote.webelement.WebElement (session=\"418cd5f6c7f12b05b409e7eaad5bcfae\", element=\"006ee5a9-bb54-4f30-a6a0-b7a22d77d86f\")>,\n",
       " <selenium.webdriver.remote.webelement.WebElement (session=\"418cd5f6c7f12b05b409e7eaad5bcfae\", element=\"c07b5760-929a-471b-8da4-a95443482603\")>,\n",
       " <selenium.webdriver.remote.webelement.WebElement (session=\"418cd5f6c7f12b05b409e7eaad5bcfae\", element=\"1598fc7e-ca6c-4126-9fde-e19e7341fc46\")>,\n",
       " <selenium.webdriver.remote.webelement.WebElement (session=\"418cd5f6c7f12b05b409e7eaad5bcfae\", element=\"d217b08f-a1b8-4f82-b90c-2ad3339af97b\")>,\n",
       " <selenium.webdriver.remote.webelement.WebElement (session=\"418cd5f6c7f12b05b409e7eaad5bcfae\", element=\"475d8425-8b6f-4576-9860-6c8e7e07e6b0\")>,\n",
       " <selenium.webdriver.remote.webelement.WebElement (session=\"418cd5f6c7f12b05b409e7eaad5bcfae\", element=\"b9391e49-fcca-4f4a-8aee-1ab577e06860\")>,\n",
       " <selenium.webdriver.remote.webelement.WebElement (session=\"418cd5f6c7f12b05b409e7eaad5bcfae\", element=\"026fe50b-f655-4d1e-9b27-5b26c49c2c41\")>,\n",
       " <selenium.webdriver.remote.webelement.WebElement (session=\"418cd5f6c7f12b05b409e7eaad5bcfae\", element=\"71eaee31-29eb-4e96-b243-785bffa7b277\")>,\n",
       " <selenium.webdriver.remote.webelement.WebElement (session=\"418cd5f6c7f12b05b409e7eaad5bcfae\", element=\"26eaa854-c8d9-44fd-995b-8235a59ce37f\")>,\n",
       " <selenium.webdriver.remote.webelement.WebElement (session=\"418cd5f6c7f12b05b409e7eaad5bcfae\", element=\"8816d89f-5b33-46e7-b0a2-287b322faa91\")>,\n",
       " <selenium.webdriver.remote.webelement.WebElement (session=\"418cd5f6c7f12b05b409e7eaad5bcfae\", element=\"fc93a54e-c757-4d87-a14d-4976ad1f5f40\")>,\n",
       " <selenium.webdriver.remote.webelement.WebElement (session=\"418cd5f6c7f12b05b409e7eaad5bcfae\", element=\"2c54a1af-9bb6-4de4-9225-a88431a0bed8\")>]"
      ]
     },
     "execution_count": 64,
     "metadata": {},
     "output_type": "execute_result"
    }
   ],
   "source": [
    "p_d2=driver.find_elements(By.XPATH,\"//a[@class='IRpwTa']\")\n",
    "p_d2"
   ]
  },
  {
   "cell_type": "code",
   "execution_count": 65,
   "id": "cdde89cd",
   "metadata": {},
   "outputs": [
    {
     "data": {
      "text/plain": [
       "['UV Protection Wayfarer Sunglasses (Free Size)',\n",
       " 'UV Protection Wayfarer Sunglasses (55)',\n",
       " 'UV Protection Round Sunglasses (Free Size)',\n",
       " 'Polarized, UV Protection Wayfarer Sunglasses (53)',\n",
       " 'UV Protection, Riding Glasses Wayfarer Sunglasses (53)',\n",
       " 'Riding Glasses, Night Vision Wrap-around Sunglasses (Fr...',\n",
       " 'UV Protection Aviator Sunglasses (58)',\n",
       " 'Polarized, UV Protection Aviator Sunglasses (58)',\n",
       " 'UV Protection, Gradient Rectangular Sunglasses (Free Si...',\n",
       " 'UV Protection Wayfarer Sunglasses (Free Size)',\n",
       " 'UV Protection Retro Square Sunglasses (Free Size)',\n",
       " 'by Lenskart Polarized, UV Protection Rectangular Sungla...',\n",
       " 'UV Protection Rectangular Sunglasses (58)',\n",
       " 'UV Protection, Night Vision, Riding Glasses, Gradient, ...',\n",
       " 'UV Protection, Mirrored Round Sunglasses (Free Size)',\n",
       " 'UV Protection, Gradient Over-sized Sunglasses (56)',\n",
       " 'UV Protection Wayfarer Sunglasses (57)',\n",
       " 'Mirrored, UV Protection Wayfarer Sunglasses (Free Size)',\n",
       " 'Gradient Aviator Sunglasses (55)',\n",
       " 'UV Protection, Polarized Aviator Sunglasses (32)',\n",
       " 'UV Protection, Riding Glasses Rectangular, Retro Square...',\n",
       " 'UV Protection, Mirrored Retro Square Sunglasses (Free S...',\n",
       " 'UV Protection Aviator Sunglasses (54)',\n",
       " 'UV Protection, Mirrored Round Sunglasses (54)',\n",
       " 'UV Protection Butterfly Sunglasses (65)',\n",
       " 'UV Protection, Polarized, Mirrored Round Sunglasses (Fr...',\n",
       " 'UV Protection Wayfarer Sunglasses (32)',\n",
       " 'UV Protection Round Sunglasses (50)',\n",
       " 'UV Protection Round Sunglasses (Free Size)',\n",
       " 'UV Protection, Riding Glasses Rectangular, Retro Square...',\n",
       " 'Riding Glasses, UV Protection, Others Aviator Sunglasse...',\n",
       " 'UV Protection Round Sunglasses (54)',\n",
       " 'UV Protection, Night Vision, Gradient, Mirrored Round, ...',\n",
       " 'UV Protection, Mirrored Retro Square Sunglasses (53)',\n",
       " 'Mirrored, UV Protection Wayfarer Sunglasses (53)',\n",
       " 'UV Protection, Riding Glasses, Others Aviator, Wayfarer...',\n",
       " 'Polarized, UV Protection, Riding Glasses Wayfarer Sungl...',\n",
       " 'Mirrored Round Sunglasses (53)',\n",
       " 'UV Protection, Riding Glasses Rectangular, Retro Square...',\n",
       " 'UV Protection Wayfarer Sunglasses (53)']"
      ]
     },
     "execution_count": 65,
     "metadata": {},
     "output_type": "execute_result"
    }
   ],
   "source": [
    "pr_d=[]\n",
    "for i in p_d2:\n",
    "    pr_d.append(i.text)\n",
    "pr_d"
   ]
  },
  {
   "cell_type": "code",
   "execution_count": 66,
   "id": "f12b0fd0",
   "metadata": {},
   "outputs": [],
   "source": [
    "# Click next to reach page no. 3 and scrap remaining data\n",
    "c3=driver.find_element(By.XPATH,\"//a[@class='_1LKTO3'][2]/span\")\n",
    "c3.click()"
   ]
  },
  {
   "cell_type": "code",
   "execution_count": 67,
   "id": "084f2527",
   "metadata": {},
   "outputs": [
    {
     "data": {
      "text/plain": [
       "[<selenium.webdriver.remote.webelement.WebElement (session=\"418cd5f6c7f12b05b409e7eaad5bcfae\", element=\"83cf3bd6-e030-468d-a80d-0c69acdbf6aa\")>,\n",
       " <selenium.webdriver.remote.webelement.WebElement (session=\"418cd5f6c7f12b05b409e7eaad5bcfae\", element=\"5dc629f0-33a7-46bc-9e09-40d9cdc94ea5\")>,\n",
       " <selenium.webdriver.remote.webelement.WebElement (session=\"418cd5f6c7f12b05b409e7eaad5bcfae\", element=\"e5b12e47-d527-400f-8ad5-2f49c9d286d7\")>,\n",
       " <selenium.webdriver.remote.webelement.WebElement (session=\"418cd5f6c7f12b05b409e7eaad5bcfae\", element=\"d1751867-7f82-466b-bb5c-c55b6a76ebc8\")>,\n",
       " <selenium.webdriver.remote.webelement.WebElement (session=\"418cd5f6c7f12b05b409e7eaad5bcfae\", element=\"a2f5cacb-2e4f-4670-9343-d92021517068\")>,\n",
       " <selenium.webdriver.remote.webelement.WebElement (session=\"418cd5f6c7f12b05b409e7eaad5bcfae\", element=\"82f187f8-738b-46d6-8760-3d46b73ebdec\")>,\n",
       " <selenium.webdriver.remote.webelement.WebElement (session=\"418cd5f6c7f12b05b409e7eaad5bcfae\", element=\"7045e902-76a7-4977-9464-fb126254d70c\")>,\n",
       " <selenium.webdriver.remote.webelement.WebElement (session=\"418cd5f6c7f12b05b409e7eaad5bcfae\", element=\"75091dea-144f-4756-abf0-14259a256929\")>,\n",
       " <selenium.webdriver.remote.webelement.WebElement (session=\"418cd5f6c7f12b05b409e7eaad5bcfae\", element=\"8e592b36-f9bd-496d-9d68-ddc0c50d9457\")>,\n",
       " <selenium.webdriver.remote.webelement.WebElement (session=\"418cd5f6c7f12b05b409e7eaad5bcfae\", element=\"a3e02400-3465-47c6-9201-55e22d6ad6c6\")>,\n",
       " <selenium.webdriver.remote.webelement.WebElement (session=\"418cd5f6c7f12b05b409e7eaad5bcfae\", element=\"b3de4457-3c2d-4147-a4fb-15838efea7fa\")>,\n",
       " <selenium.webdriver.remote.webelement.WebElement (session=\"418cd5f6c7f12b05b409e7eaad5bcfae\", element=\"ad05c235-93a2-4905-bcc2-cf167ebf8f32\")>,\n",
       " <selenium.webdriver.remote.webelement.WebElement (session=\"418cd5f6c7f12b05b409e7eaad5bcfae\", element=\"94f237dc-58e9-491b-b992-645be2160cca\")>,\n",
       " <selenium.webdriver.remote.webelement.WebElement (session=\"418cd5f6c7f12b05b409e7eaad5bcfae\", element=\"f2c62f5e-35ce-4ad8-8167-b2d5ac752a81\")>,\n",
       " <selenium.webdriver.remote.webelement.WebElement (session=\"418cd5f6c7f12b05b409e7eaad5bcfae\", element=\"2f6b22d0-32d2-4203-8fbd-3013496feb4b\")>,\n",
       " <selenium.webdriver.remote.webelement.WebElement (session=\"418cd5f6c7f12b05b409e7eaad5bcfae\", element=\"60c56925-c73b-4292-9e5f-19bbc015527a\")>,\n",
       " <selenium.webdriver.remote.webelement.WebElement (session=\"418cd5f6c7f12b05b409e7eaad5bcfae\", element=\"6583d8d0-c3df-495e-9a9f-df3ec181a29f\")>,\n",
       " <selenium.webdriver.remote.webelement.WebElement (session=\"418cd5f6c7f12b05b409e7eaad5bcfae\", element=\"670f383e-930c-4ec3-9b53-c8ed6b14f626\")>,\n",
       " <selenium.webdriver.remote.webelement.WebElement (session=\"418cd5f6c7f12b05b409e7eaad5bcfae\", element=\"c0022b05-349f-44ef-a442-432c08b12ab7\")>,\n",
       " <selenium.webdriver.remote.webelement.WebElement (session=\"418cd5f6c7f12b05b409e7eaad5bcfae\", element=\"a846f388-af5b-4bbc-9806-7fcc005b9797\")>]"
      ]
     },
     "execution_count": 67,
     "metadata": {},
     "output_type": "execute_result"
    }
   ],
   "source": [
    "#Scrapping product description from page 3\n",
    "pd3=driver.find_elements(By.XPATH,\"//a[@class='IRpwTa']\")\n",
    "pd3[0:20]"
   ]
  },
  {
   "cell_type": "code",
   "execution_count": 68,
   "id": "21955ee9",
   "metadata": {},
   "outputs": [
    {
     "data": {
      "text/plain": [
       "['Polarized Rectangular Sunglasses (65)',\n",
       " 'Polarized Round Sunglasses (48)',\n",
       " 'UV Protection, Mirrored Wayfarer Sunglasses (53)',\n",
       " 'UV Protection, Gradient Retro Square Sunglasses (Free S...',\n",
       " 'UV Protection Rectangular Sunglasses (Free Size)',\n",
       " 'UV Protection Retro Square Sunglasses (88)',\n",
       " 'UV Protection Rectangular Sunglasses (55)',\n",
       " 'UV Protection Aviator Sunglasses (Free Size)',\n",
       " 'UV Protection, Gradient Butterfly Sunglasses (57)',\n",
       " 'UV Protection Retro Square Sunglasses (Free Size)',\n",
       " 'UV Protection Retro Square Sunglasses (Free Size)',\n",
       " 'UV Protection, Night Vision, Riding Glasses Aviator Sun...',\n",
       " 'UV Protection Aviator Sunglasses (58)',\n",
       " 'UV Protection, Riding Glasses, Mirrored Wayfarer Sungla...',\n",
       " 'UV Protection Round Sunglasses (53)',\n",
       " 'UV Protection Aviator Sunglasses (54)',\n",
       " 'Mirrored Aviator Sunglasses (58)',\n",
       " 'UV Protection Wayfarer Sunglasses (Free Size)',\n",
       " 'UV Protection, Others Round Sunglasses (48)',\n",
       " 'UV Protection, Night Vision Wayfarer Sunglasses (Free S...']"
      ]
     },
     "execution_count": 68,
     "metadata": {},
     "output_type": "execute_result"
    }
   ],
   "source": [
    "p_d3=[]\n",
    "for i in pd3:\n",
    "    p_d3.append(i.text)\n",
    "p_d3[0:20]"
   ]
  },
  {
   "cell_type": "code",
   "execution_count": 69,
   "id": "6c95afbf",
   "metadata": {},
   "outputs": [
    {
     "data": {
      "text/plain": [
       "['UV Protection Aviator Sunglasses (53)',\n",
       " 'by Lenskart Polarized, UV Protection Wayfarer Sunglasse...',\n",
       " 'UV Protection Wayfarer Sunglasses (56)',\n",
       " 'UV Protection, Polarized, Mirrored Round Sunglasses (Fr...',\n",
       " 'UV Protection Round Sunglasses (54)',\n",
       " 'UV Protection Rectangular Sunglasses (Free Size)',\n",
       " 'UV Protection Aviator Sunglasses (54)',\n",
       " 'Polarized, UV Protection Wayfarer Sunglasses (57)',\n",
       " 'UV Protection, Polarized, Mirrored Rectangular Sunglass...',\n",
       " 'UV Protection, Polarized, Mirrored Rectangular Sunglass...',\n",
       " 'UV Protection Round Sunglasses (54)',\n",
       " 'Polarized, UV Protection Wayfarer Sunglasses (57)',\n",
       " 'Mirrored, UV Protection Wayfarer Sunglasses (Free Size)',\n",
       " 'UV Protection Aviator Sunglasses (54)',\n",
       " 'UV Protection Aviator Sunglasses (57)',\n",
       " 'by Lenskart Polarized, UV Protection Round Sunglasses (...',\n",
       " 'UV Protection Retro Square Sunglasses (Free Size)',\n",
       " 'Mirrored, UV Protection, Gradient Round Sunglasses (55)',\n",
       " 'Polarized Round Sunglasses (48)',\n",
       " 'Polarized, UV Protection Aviator Sunglasses (58)',\n",
       " 'UV Protection Rectangular Sunglasses (Free Size)',\n",
       " 'Mirrored, UV Protection, Riding Glasses, Others Round S...',\n",
       " 'UV Protection Retro Square Sunglasses (Free Size)',\n",
       " 'Polarized, UV Protection Wayfarer Sunglasses (53)',\n",
       " 'UV Protection Aviator Sunglasses (54)',\n",
       " 'UV Protection Round Sunglasses (55)',\n",
       " 'UV Protection Aviator Sunglasses (Free Size)',\n",
       " 'Polarized, UV Protection Wayfarer Sunglasses (Free Size...',\n",
       " 'Mirrored Aviator Sunglasses (55)',\n",
       " 'UV Protection, Night Vision, Riding Glasses Sports Sung...',\n",
       " 'UV Protection, Mirrored Retro Square Sunglasses (53)',\n",
       " 'UV Protection, Gradient Over-sized Sunglasses (56)',\n",
       " 'UV Protection, Gradient, Mirrored, Riding Glasses Aviat...',\n",
       " 'Mirrored Round Sunglasses (Free Size)',\n",
       " 'Gradient, UV Protection Wayfarer Sunglasses (Free Size)',\n",
       " 'UV Protection Aviator Sunglasses (Free Size)',\n",
       " 'UV Protection Rectangular Sunglasses (55)',\n",
       " 'UV Protection, Polarized, Mirrored Wayfarer Sunglasses ...',\n",
       " 'UV Protection Aviator Sunglasses (55)',\n",
       " 'Others Wayfarer Sunglasses (Free Size)',\n",
       " 'UV Protection Wayfarer Sunglasses (Free Size)',\n",
       " 'UV Protection Wayfarer Sunglasses (55)',\n",
       " 'UV Protection Round Sunglasses (Free Size)',\n",
       " 'Polarized, UV Protection Wayfarer Sunglasses (53)',\n",
       " 'UV Protection, Riding Glasses Wayfarer Sunglasses (53)',\n",
       " 'Riding Glasses, Night Vision Wrap-around Sunglasses (Fr...',\n",
       " 'UV Protection Aviator Sunglasses (58)',\n",
       " 'Polarized, UV Protection Aviator Sunglasses (58)',\n",
       " 'UV Protection, Gradient Rectangular Sunglasses (Free Si...',\n",
       " 'UV Protection Wayfarer Sunglasses (Free Size)',\n",
       " 'UV Protection Retro Square Sunglasses (Free Size)',\n",
       " 'by Lenskart Polarized, UV Protection Rectangular Sungla...',\n",
       " 'UV Protection Rectangular Sunglasses (58)',\n",
       " 'UV Protection, Night Vision, Riding Glasses, Gradient, ...',\n",
       " 'UV Protection, Mirrored Round Sunglasses (Free Size)',\n",
       " 'UV Protection, Gradient Over-sized Sunglasses (56)',\n",
       " 'UV Protection Wayfarer Sunglasses (57)',\n",
       " 'Mirrored, UV Protection Wayfarer Sunglasses (Free Size)',\n",
       " 'Gradient Aviator Sunglasses (55)',\n",
       " 'UV Protection, Polarized Aviator Sunglasses (32)',\n",
       " 'UV Protection, Riding Glasses Rectangular, Retro Square...',\n",
       " 'UV Protection, Mirrored Retro Square Sunglasses (Free S...',\n",
       " 'UV Protection Aviator Sunglasses (54)',\n",
       " 'UV Protection, Mirrored Round Sunglasses (54)',\n",
       " 'UV Protection Butterfly Sunglasses (65)',\n",
       " 'UV Protection, Polarized, Mirrored Round Sunglasses (Fr...',\n",
       " 'UV Protection Wayfarer Sunglasses (32)',\n",
       " 'UV Protection Round Sunglasses (50)',\n",
       " 'UV Protection Round Sunglasses (Free Size)',\n",
       " 'UV Protection, Riding Glasses Rectangular, Retro Square...',\n",
       " 'Riding Glasses, UV Protection, Others Aviator Sunglasse...',\n",
       " 'UV Protection Round Sunglasses (54)',\n",
       " 'UV Protection, Night Vision, Gradient, Mirrored Round, ...',\n",
       " 'UV Protection, Mirrored Retro Square Sunglasses (53)',\n",
       " 'Mirrored, UV Protection Wayfarer Sunglasses (53)',\n",
       " 'UV Protection, Riding Glasses, Others Aviator, Wayfarer...',\n",
       " 'Polarized, UV Protection, Riding Glasses Wayfarer Sungl...',\n",
       " 'Mirrored Round Sunglasses (53)',\n",
       " 'UV Protection, Riding Glasses Rectangular, Retro Square...',\n",
       " 'UV Protection Wayfarer Sunglasses (53)',\n",
       " 'Polarized Rectangular Sunglasses (65)',\n",
       " 'Polarized Round Sunglasses (48)',\n",
       " 'UV Protection, Mirrored Wayfarer Sunglasses (53)',\n",
       " 'UV Protection, Gradient Retro Square Sunglasses (Free S...',\n",
       " 'UV Protection Rectangular Sunglasses (Free Size)',\n",
       " 'UV Protection Retro Square Sunglasses (88)',\n",
       " 'UV Protection Rectangular Sunglasses (55)',\n",
       " 'UV Protection Aviator Sunglasses (Free Size)',\n",
       " 'UV Protection, Gradient Butterfly Sunglasses (57)',\n",
       " 'UV Protection Retro Square Sunglasses (Free Size)',\n",
       " 'UV Protection Retro Square Sunglasses (Free Size)',\n",
       " 'UV Protection, Night Vision, Riding Glasses Aviator Sun...',\n",
       " 'UV Protection Aviator Sunglasses (58)',\n",
       " 'UV Protection, Riding Glasses, Mirrored Wayfarer Sungla...',\n",
       " 'UV Protection Round Sunglasses (53)',\n",
       " 'UV Protection Aviator Sunglasses (54)',\n",
       " 'Mirrored Aviator Sunglasses (58)',\n",
       " 'UV Protection Wayfarer Sunglasses (Free Size)',\n",
       " 'UV Protection, Others Round Sunglasses (48)',\n",
       " 'UV Protection, Night Vision Wayfarer Sunglasses (Free S...']"
      ]
     },
     "execution_count": 69,
     "metadata": {},
     "output_type": "execute_result"
    }
   ],
   "source": [
    "product_desc=p_des+pr_d+p_d3[0:20]\n",
    "product_desc"
   ]
  },
  {
   "cell_type": "code",
   "execution_count": 70,
   "id": "2e01dd76",
   "metadata": {},
   "outputs": [
    {
     "data": {
      "text/plain": [
       "100"
      ]
     },
     "execution_count": 70,
     "metadata": {},
     "output_type": "execute_result"
    }
   ],
   "source": [
    "len(product_desc)"
   ]
  },
  {
   "cell_type": "code",
   "execution_count": 71,
   "id": "c983e669",
   "metadata": {},
   "outputs": [],
   "source": [
    "#Click Back to 1st page\n",
    "f_page=driver.find_element(By.XPATH,\"//a[@class='_1LKTO3']/span\")\n",
    "f_page.click()"
   ]
  },
  {
   "cell_type": "code",
   "execution_count": 72,
   "id": "83ab38ef",
   "metadata": {},
   "outputs": [],
   "source": [
    "f_page=driver.find_element(By.XPATH,\"//a[@class='_1LKTO3']/span\")\n",
    "f_page.click()"
   ]
  },
  {
   "cell_type": "code",
   "execution_count": 73,
   "id": "124defad",
   "metadata": {},
   "outputs": [
    {
     "data": {
      "text/plain": [
       "[<selenium.webdriver.remote.webelement.WebElement (session=\"418cd5f6c7f12b05b409e7eaad5bcfae\", element=\"28206776-7083-4c64-aaf8-d121e65f5ba2\")>,\n",
       " <selenium.webdriver.remote.webelement.WebElement (session=\"418cd5f6c7f12b05b409e7eaad5bcfae\", element=\"939be3e6-b8f0-438b-86bc-46c0cc7c2e2a\")>,\n",
       " <selenium.webdriver.remote.webelement.WebElement (session=\"418cd5f6c7f12b05b409e7eaad5bcfae\", element=\"fb4679e9-cc16-46c8-8dcc-f04a8f4793d3\")>,\n",
       " <selenium.webdriver.remote.webelement.WebElement (session=\"418cd5f6c7f12b05b409e7eaad5bcfae\", element=\"65b03dc3-735a-4462-b41f-2086319dfc73\")>,\n",
       " <selenium.webdriver.remote.webelement.WebElement (session=\"418cd5f6c7f12b05b409e7eaad5bcfae\", element=\"37402ef2-996a-4cc9-a550-fcb52b47bdba\")>,\n",
       " <selenium.webdriver.remote.webelement.WebElement (session=\"418cd5f6c7f12b05b409e7eaad5bcfae\", element=\"f22cd941-b569-4de1-a093-c4db3119981d\")>,\n",
       " <selenium.webdriver.remote.webelement.WebElement (session=\"418cd5f6c7f12b05b409e7eaad5bcfae\", element=\"fb1c93c1-ab40-4fa7-8f06-ae7ce1372edf\")>,\n",
       " <selenium.webdriver.remote.webelement.WebElement (session=\"418cd5f6c7f12b05b409e7eaad5bcfae\", element=\"7b9ab865-c076-4f39-9c24-70feea619cfc\")>,\n",
       " <selenium.webdriver.remote.webelement.WebElement (session=\"418cd5f6c7f12b05b409e7eaad5bcfae\", element=\"6207d696-4808-46d2-9f3e-99aaaf9ae4e4\")>,\n",
       " <selenium.webdriver.remote.webelement.WebElement (session=\"418cd5f6c7f12b05b409e7eaad5bcfae\", element=\"7fc3cca9-324f-4d8a-8098-8a07fe127a85\")>,\n",
       " <selenium.webdriver.remote.webelement.WebElement (session=\"418cd5f6c7f12b05b409e7eaad5bcfae\", element=\"9e49eb80-f69a-48a2-ae6e-f6a162ed1d2a\")>,\n",
       " <selenium.webdriver.remote.webelement.WebElement (session=\"418cd5f6c7f12b05b409e7eaad5bcfae\", element=\"d148aecd-5d0f-4de4-9f45-0422684e2035\")>,\n",
       " <selenium.webdriver.remote.webelement.WebElement (session=\"418cd5f6c7f12b05b409e7eaad5bcfae\", element=\"96ed8d8a-4292-46c3-933f-ec3eb1d9c092\")>,\n",
       " <selenium.webdriver.remote.webelement.WebElement (session=\"418cd5f6c7f12b05b409e7eaad5bcfae\", element=\"3c036d47-2649-41ad-bbe8-9752501e6292\")>,\n",
       " <selenium.webdriver.remote.webelement.WebElement (session=\"418cd5f6c7f12b05b409e7eaad5bcfae\", element=\"16ad74c5-e493-4be3-9dd1-9a5f0d7d235d\")>,\n",
       " <selenium.webdriver.remote.webelement.WebElement (session=\"418cd5f6c7f12b05b409e7eaad5bcfae\", element=\"ab0f9a64-235e-428b-9a28-99e3c466effc\")>,\n",
       " <selenium.webdriver.remote.webelement.WebElement (session=\"418cd5f6c7f12b05b409e7eaad5bcfae\", element=\"44048062-9a51-4213-a8a7-5dfb1c451928\")>,\n",
       " <selenium.webdriver.remote.webelement.WebElement (session=\"418cd5f6c7f12b05b409e7eaad5bcfae\", element=\"4d58d2df-278c-44b7-bae4-f25c5b9059e0\")>,\n",
       " <selenium.webdriver.remote.webelement.WebElement (session=\"418cd5f6c7f12b05b409e7eaad5bcfae\", element=\"f4130502-d1ed-4b86-a803-2a575dd51783\")>,\n",
       " <selenium.webdriver.remote.webelement.WebElement (session=\"418cd5f6c7f12b05b409e7eaad5bcfae\", element=\"2cf1b932-9958-41c6-98d6-ff614f332522\")>,\n",
       " <selenium.webdriver.remote.webelement.WebElement (session=\"418cd5f6c7f12b05b409e7eaad5bcfae\", element=\"76f7da82-610f-451b-a988-2d069e654c83\")>,\n",
       " <selenium.webdriver.remote.webelement.WebElement (session=\"418cd5f6c7f12b05b409e7eaad5bcfae\", element=\"ff27b64f-a8da-42bf-bcb1-3c12e02d5e74\")>,\n",
       " <selenium.webdriver.remote.webelement.WebElement (session=\"418cd5f6c7f12b05b409e7eaad5bcfae\", element=\"05178353-ea79-4520-9ed8-0c10a86bd2ac\")>,\n",
       " <selenium.webdriver.remote.webelement.WebElement (session=\"418cd5f6c7f12b05b409e7eaad5bcfae\", element=\"6e9dafc8-5047-46f6-82c1-530c7a9e993c\")>,\n",
       " <selenium.webdriver.remote.webelement.WebElement (session=\"418cd5f6c7f12b05b409e7eaad5bcfae\", element=\"6146d5c2-142f-41bb-820b-28831323385d\")>,\n",
       " <selenium.webdriver.remote.webelement.WebElement (session=\"418cd5f6c7f12b05b409e7eaad5bcfae\", element=\"79f75cf3-5f82-4fe6-9480-a079bd6f5213\")>,\n",
       " <selenium.webdriver.remote.webelement.WebElement (session=\"418cd5f6c7f12b05b409e7eaad5bcfae\", element=\"cd33bda4-8add-4984-a829-284430e56059\")>,\n",
       " <selenium.webdriver.remote.webelement.WebElement (session=\"418cd5f6c7f12b05b409e7eaad5bcfae\", element=\"b9680de3-9ec6-4e04-8078-417984c35142\")>,\n",
       " <selenium.webdriver.remote.webelement.WebElement (session=\"418cd5f6c7f12b05b409e7eaad5bcfae\", element=\"70328c9d-d3c6-4424-adc5-f46d8b8e0f01\")>,\n",
       " <selenium.webdriver.remote.webelement.WebElement (session=\"418cd5f6c7f12b05b409e7eaad5bcfae\", element=\"9255e6b8-81f6-4b08-8d38-16d2e40de2b4\")>,\n",
       " <selenium.webdriver.remote.webelement.WebElement (session=\"418cd5f6c7f12b05b409e7eaad5bcfae\", element=\"e2cd6e8f-15f8-4719-a4ee-826f1df3e2ac\")>,\n",
       " <selenium.webdriver.remote.webelement.WebElement (session=\"418cd5f6c7f12b05b409e7eaad5bcfae\", element=\"59e88be2-2c28-4fdf-8877-38cb67ab907f\")>,\n",
       " <selenium.webdriver.remote.webelement.WebElement (session=\"418cd5f6c7f12b05b409e7eaad5bcfae\", element=\"64815897-85c1-4c0f-8262-b018764c0d57\")>,\n",
       " <selenium.webdriver.remote.webelement.WebElement (session=\"418cd5f6c7f12b05b409e7eaad5bcfae\", element=\"48159af2-47c2-4cde-9602-acf147ce8b3a\")>,\n",
       " <selenium.webdriver.remote.webelement.WebElement (session=\"418cd5f6c7f12b05b409e7eaad5bcfae\", element=\"1cad64d9-f5e6-4896-8e97-2c95558ae3fd\")>,\n",
       " <selenium.webdriver.remote.webelement.WebElement (session=\"418cd5f6c7f12b05b409e7eaad5bcfae\", element=\"ee6b8efe-1cc3-4dec-a194-23e3ce894259\")>,\n",
       " <selenium.webdriver.remote.webelement.WebElement (session=\"418cd5f6c7f12b05b409e7eaad5bcfae\", element=\"2229e8df-c27f-4366-90e8-ef533b53e8e6\")>,\n",
       " <selenium.webdriver.remote.webelement.WebElement (session=\"418cd5f6c7f12b05b409e7eaad5bcfae\", element=\"54edec81-c3a8-4bd3-b2a5-e164b593b08f\")>,\n",
       " <selenium.webdriver.remote.webelement.WebElement (session=\"418cd5f6c7f12b05b409e7eaad5bcfae\", element=\"66f1e361-a254-4c49-9b6e-cc67b50c7c27\")>,\n",
       " <selenium.webdriver.remote.webelement.WebElement (session=\"418cd5f6c7f12b05b409e7eaad5bcfae\", element=\"f669131a-6c37-4f99-aa1d-36c2e1fb6bcc\")>]"
      ]
     },
     "execution_count": 73,
     "metadata": {},
     "output_type": "execute_result"
    }
   ],
   "source": [
    "# Scrapping price of sunglasses\n",
    "p_s=driver.find_elements(By.XPATH,\"//div[@class='_30jeq3']\")\n",
    "p_s"
   ]
  },
  {
   "cell_type": "code",
   "execution_count": 74,
   "id": "9963fa6a",
   "metadata": {},
   "outputs": [
    {
     "data": {
      "text/plain": [
       "['₹999',\n",
       " '₹799',\n",
       " '₹188',\n",
       " '₹276',\n",
       " '₹248',\n",
       " '₹639',\n",
       " '₹200',\n",
       " '₹799',\n",
       " '₹177',\n",
       " '₹189',\n",
       " '₹189',\n",
       " '₹1,415',\n",
       " '₹259',\n",
       " '₹187',\n",
       " '₹269',\n",
       " '₹999',\n",
       " '₹329',\n",
       " '₹189',\n",
       " '₹189',\n",
       " '₹999',\n",
       " '₹259',\n",
       " '₹269',\n",
       " '₹499',\n",
       " '₹1,533',\n",
       " '₹187',\n",
       " '₹239',\n",
       " '₹689',\n",
       " '₹664',\n",
       " '₹359',\n",
       " '₹270',\n",
       " '₹311',\n",
       " '₹999',\n",
       " '₹209',\n",
       " '₹340',\n",
       " '₹509',\n",
       " '₹799',\n",
       " '₹259',\n",
       " '₹215',\n",
       " '₹294',\n",
       " '₹799']"
      ]
     },
     "execution_count": 74,
     "metadata": {},
     "output_type": "execute_result"
    }
   ],
   "source": [
    "pr_s=[]\n",
    "for i in p_s:\n",
    "    pr_s.append(i.text)\n",
    "pr_s"
   ]
  },
  {
   "cell_type": "code",
   "execution_count": 75,
   "id": "f4f9eed3",
   "metadata": {},
   "outputs": [],
   "source": [
    "# click on Next to reach page no. 2\n",
    "c_next=driver.find_element(By.XPATH,\"//a[@class='_1LKTO3']/span\")\n",
    "c_next.click()"
   ]
  },
  {
   "cell_type": "code",
   "execution_count": 76,
   "id": "086a7ed0",
   "metadata": {},
   "outputs": [
    {
     "data": {
      "text/plain": [
       "[<selenium.webdriver.remote.webelement.WebElement (session=\"418cd5f6c7f12b05b409e7eaad5bcfae\", element=\"a22dd5ff-5da5-4322-b4e2-54fa466707b5\")>,\n",
       " <selenium.webdriver.remote.webelement.WebElement (session=\"418cd5f6c7f12b05b409e7eaad5bcfae\", element=\"7acf6911-c626-444b-8e5a-0074813d3602\")>,\n",
       " <selenium.webdriver.remote.webelement.WebElement (session=\"418cd5f6c7f12b05b409e7eaad5bcfae\", element=\"1a7bdceb-308a-442b-98b7-2686c226ad03\")>,\n",
       " <selenium.webdriver.remote.webelement.WebElement (session=\"418cd5f6c7f12b05b409e7eaad5bcfae\", element=\"e308a2c9-7035-4f4e-ae52-e22fc81fad9a\")>,\n",
       " <selenium.webdriver.remote.webelement.WebElement (session=\"418cd5f6c7f12b05b409e7eaad5bcfae\", element=\"488c7f05-3d99-4cd2-b13e-cec723851549\")>,\n",
       " <selenium.webdriver.remote.webelement.WebElement (session=\"418cd5f6c7f12b05b409e7eaad5bcfae\", element=\"ef319aa4-a53c-448f-b680-aede12203427\")>,\n",
       " <selenium.webdriver.remote.webelement.WebElement (session=\"418cd5f6c7f12b05b409e7eaad5bcfae\", element=\"e4f4394e-0293-4b3a-9d61-58ef192cc7e9\")>,\n",
       " <selenium.webdriver.remote.webelement.WebElement (session=\"418cd5f6c7f12b05b409e7eaad5bcfae\", element=\"3fbccd79-a183-454d-8bbc-37554284029b\")>,\n",
       " <selenium.webdriver.remote.webelement.WebElement (session=\"418cd5f6c7f12b05b409e7eaad5bcfae\", element=\"e6dbb393-7ba4-4c29-9122-4213d56a3d8f\")>,\n",
       " <selenium.webdriver.remote.webelement.WebElement (session=\"418cd5f6c7f12b05b409e7eaad5bcfae\", element=\"6fde6253-127b-48ba-a7d9-7f2e271ac4cb\")>,\n",
       " <selenium.webdriver.remote.webelement.WebElement (session=\"418cd5f6c7f12b05b409e7eaad5bcfae\", element=\"5776d45f-27c7-4ad1-88e3-3e2e051249b5\")>,\n",
       " <selenium.webdriver.remote.webelement.WebElement (session=\"418cd5f6c7f12b05b409e7eaad5bcfae\", element=\"de214ac2-c942-4bcd-accf-1ee0d8162fcf\")>,\n",
       " <selenium.webdriver.remote.webelement.WebElement (session=\"418cd5f6c7f12b05b409e7eaad5bcfae\", element=\"18a2a526-7367-4382-86ab-08f052701044\")>,\n",
       " <selenium.webdriver.remote.webelement.WebElement (session=\"418cd5f6c7f12b05b409e7eaad5bcfae\", element=\"3e2a509b-098d-4b72-96e2-6e611230fb7f\")>,\n",
       " <selenium.webdriver.remote.webelement.WebElement (session=\"418cd5f6c7f12b05b409e7eaad5bcfae\", element=\"1af6c90d-6637-4c62-a601-f0b1e73701d2\")>,\n",
       " <selenium.webdriver.remote.webelement.WebElement (session=\"418cd5f6c7f12b05b409e7eaad5bcfae\", element=\"e82fbf18-5463-4e86-8e40-702c551f65fd\")>,\n",
       " <selenium.webdriver.remote.webelement.WebElement (session=\"418cd5f6c7f12b05b409e7eaad5bcfae\", element=\"0b4d7dc5-6709-4492-8e14-e1803d02c5cb\")>,\n",
       " <selenium.webdriver.remote.webelement.WebElement (session=\"418cd5f6c7f12b05b409e7eaad5bcfae\", element=\"a9d6643e-ac25-4a7d-a8ea-d68dde2ddb46\")>,\n",
       " <selenium.webdriver.remote.webelement.WebElement (session=\"418cd5f6c7f12b05b409e7eaad5bcfae\", element=\"0f4c96d6-77c7-4226-8346-a1356942f017\")>,\n",
       " <selenium.webdriver.remote.webelement.WebElement (session=\"418cd5f6c7f12b05b409e7eaad5bcfae\", element=\"e36b2233-152f-44f6-89c2-67fd7d2a5cc3\")>,\n",
       " <selenium.webdriver.remote.webelement.WebElement (session=\"418cd5f6c7f12b05b409e7eaad5bcfae\", element=\"9aad18bb-79d4-413f-9440-5d9a054b913d\")>,\n",
       " <selenium.webdriver.remote.webelement.WebElement (session=\"418cd5f6c7f12b05b409e7eaad5bcfae\", element=\"bea0d6bd-d64f-4a0a-beae-67fae1d22613\")>,\n",
       " <selenium.webdriver.remote.webelement.WebElement (session=\"418cd5f6c7f12b05b409e7eaad5bcfae\", element=\"5b590f77-25b1-4343-99b5-5f293b8dc26e\")>,\n",
       " <selenium.webdriver.remote.webelement.WebElement (session=\"418cd5f6c7f12b05b409e7eaad5bcfae\", element=\"dd49ac55-0074-4d45-8572-14d9948fb731\")>,\n",
       " <selenium.webdriver.remote.webelement.WebElement (session=\"418cd5f6c7f12b05b409e7eaad5bcfae\", element=\"2ad2a071-b102-425a-8b56-d271004abdb9\")>,\n",
       " <selenium.webdriver.remote.webelement.WebElement (session=\"418cd5f6c7f12b05b409e7eaad5bcfae\", element=\"349779ff-0894-4ede-a931-9f651a1e42c3\")>,\n",
       " <selenium.webdriver.remote.webelement.WebElement (session=\"418cd5f6c7f12b05b409e7eaad5bcfae\", element=\"0fe88811-df9a-4a8f-9535-d87db81ce576\")>,\n",
       " <selenium.webdriver.remote.webelement.WebElement (session=\"418cd5f6c7f12b05b409e7eaad5bcfae\", element=\"bd17e77a-6d0c-4171-8cf8-09b30d9ac7e9\")>,\n",
       " <selenium.webdriver.remote.webelement.WebElement (session=\"418cd5f6c7f12b05b409e7eaad5bcfae\", element=\"945a0029-9bfe-4034-9021-12aaecfcfa37\")>,\n",
       " <selenium.webdriver.remote.webelement.WebElement (session=\"418cd5f6c7f12b05b409e7eaad5bcfae\", element=\"508a44a5-c4ce-4627-be99-19141d8e56f8\")>,\n",
       " <selenium.webdriver.remote.webelement.WebElement (session=\"418cd5f6c7f12b05b409e7eaad5bcfae\", element=\"b636cdb6-7621-4e2e-ace1-4e3eb7b974b3\")>,\n",
       " <selenium.webdriver.remote.webelement.WebElement (session=\"418cd5f6c7f12b05b409e7eaad5bcfae\", element=\"f544ebf9-f835-469d-8ddd-65b71637d51c\")>,\n",
       " <selenium.webdriver.remote.webelement.WebElement (session=\"418cd5f6c7f12b05b409e7eaad5bcfae\", element=\"e0233808-ee3e-40a2-b0da-31515e308d91\")>,\n",
       " <selenium.webdriver.remote.webelement.WebElement (session=\"418cd5f6c7f12b05b409e7eaad5bcfae\", element=\"1cb5d927-ab8d-4066-9254-d1b57c3d8a6f\")>,\n",
       " <selenium.webdriver.remote.webelement.WebElement (session=\"418cd5f6c7f12b05b409e7eaad5bcfae\", element=\"b3ec6650-b9a2-4aff-ac22-447a102d2203\")>,\n",
       " <selenium.webdriver.remote.webelement.WebElement (session=\"418cd5f6c7f12b05b409e7eaad5bcfae\", element=\"3236547e-5f6a-4f5d-b311-de5f508b6331\")>,\n",
       " <selenium.webdriver.remote.webelement.WebElement (session=\"418cd5f6c7f12b05b409e7eaad5bcfae\", element=\"5c1dd115-a317-4d2c-8c0d-88d4dbf34b0c\")>,\n",
       " <selenium.webdriver.remote.webelement.WebElement (session=\"418cd5f6c7f12b05b409e7eaad5bcfae\", element=\"f13eb0eb-d4e2-4611-923e-dc0b5cc23c60\")>,\n",
       " <selenium.webdriver.remote.webelement.WebElement (session=\"418cd5f6c7f12b05b409e7eaad5bcfae\", element=\"071fb4f4-e02e-4e1d-ab53-b66e59e61cb9\")>,\n",
       " <selenium.webdriver.remote.webelement.WebElement (session=\"418cd5f6c7f12b05b409e7eaad5bcfae\", element=\"57bc8b8d-17db-412a-805a-fb7f1d2b7b6e\")>]"
      ]
     },
     "execution_count": 76,
     "metadata": {},
     "output_type": "execute_result"
    }
   ],
   "source": [
    "p_s2=driver.find_elements(By.XPATH,\"//div[@class='_30jeq3']\")\n",
    "p_s2"
   ]
  },
  {
   "cell_type": "code",
   "execution_count": 77,
   "id": "25277fe3",
   "metadata": {},
   "outputs": [
    {
     "data": {
      "text/plain": [
       "['₹759',\n",
       " '₹231',\n",
       " '₹296',\n",
       " '₹549',\n",
       " '₹198',\n",
       " '₹276',\n",
       " '₹299',\n",
       " '₹1,533',\n",
       " '₹383',\n",
       " '₹246',\n",
       " '₹319',\n",
       " '₹664',\n",
       " '₹449',\n",
       " '₹189',\n",
       " '₹249',\n",
       " '₹799',\n",
       " '₹499',\n",
       " '₹259',\n",
       " '₹196',\n",
       " '₹164',\n",
       " '₹318',\n",
       " '₹329',\n",
       " '₹250',\n",
       " '₹219',\n",
       " '₹336',\n",
       " '₹276',\n",
       " '₹187',\n",
       " '₹359',\n",
       " '₹299',\n",
       " '₹276',\n",
       " '₹252',\n",
       " '₹275',\n",
       " '₹189',\n",
       " '₹311',\n",
       " '₹299',\n",
       " '₹229',\n",
       " '₹249',\n",
       " '₹263',\n",
       " '₹332',\n",
       " '₹220']"
      ]
     },
     "execution_count": 77,
     "metadata": {},
     "output_type": "execute_result"
    }
   ],
   "source": [
    "pr_s2=[]\n",
    "for i in p_s2:\n",
    "    pr_s2.append(i.text)\n",
    "pr_s2"
   ]
  },
  {
   "cell_type": "code",
   "execution_count": 78,
   "id": "d6059b94",
   "metadata": {},
   "outputs": [],
   "source": [
    "# Click next to reach page no. 3 and scrap remaining data\n",
    "c3=driver.find_element(By.XPATH,\"//a[@class='_1LKTO3'][2]/span\")\n",
    "c3.click()"
   ]
  },
  {
   "cell_type": "code",
   "execution_count": 79,
   "id": "1796eb16",
   "metadata": {},
   "outputs": [
    {
     "data": {
      "text/plain": [
       "[<selenium.webdriver.remote.webelement.WebElement (session=\"418cd5f6c7f12b05b409e7eaad5bcfae\", element=\"a13865c8-b6ba-4186-83d1-764a4a26fa13\")>,\n",
       " <selenium.webdriver.remote.webelement.WebElement (session=\"418cd5f6c7f12b05b409e7eaad5bcfae\", element=\"25c7068b-20c9-486e-9fe3-4508de65dead\")>,\n",
       " <selenium.webdriver.remote.webelement.WebElement (session=\"418cd5f6c7f12b05b409e7eaad5bcfae\", element=\"5cbf916a-6015-4e47-ad1e-cafaf00618ee\")>,\n",
       " <selenium.webdriver.remote.webelement.WebElement (session=\"418cd5f6c7f12b05b409e7eaad5bcfae\", element=\"d315dd53-b3a0-492d-973d-b2f7911f81cc\")>,\n",
       " <selenium.webdriver.remote.webelement.WebElement (session=\"418cd5f6c7f12b05b409e7eaad5bcfae\", element=\"5f29ade7-36f1-4b2b-9561-bfcc558e36e3\")>,\n",
       " <selenium.webdriver.remote.webelement.WebElement (session=\"418cd5f6c7f12b05b409e7eaad5bcfae\", element=\"7a7095b9-7361-4db3-b768-33d1283f84a2\")>,\n",
       " <selenium.webdriver.remote.webelement.WebElement (session=\"418cd5f6c7f12b05b409e7eaad5bcfae\", element=\"e75def22-7676-492e-8e81-75fa93ad1dd9\")>,\n",
       " <selenium.webdriver.remote.webelement.WebElement (session=\"418cd5f6c7f12b05b409e7eaad5bcfae\", element=\"93f0f4eb-9164-451c-9eb4-bbf5e47bb5a3\")>,\n",
       " <selenium.webdriver.remote.webelement.WebElement (session=\"418cd5f6c7f12b05b409e7eaad5bcfae\", element=\"7b53b4ec-3e32-4e00-b4b5-fcf80f2e7e72\")>,\n",
       " <selenium.webdriver.remote.webelement.WebElement (session=\"418cd5f6c7f12b05b409e7eaad5bcfae\", element=\"f6d472c4-be08-42a1-8ef7-8685cbdb65ab\")>,\n",
       " <selenium.webdriver.remote.webelement.WebElement (session=\"418cd5f6c7f12b05b409e7eaad5bcfae\", element=\"14c39d12-e2b5-4324-87bd-865731254b52\")>,\n",
       " <selenium.webdriver.remote.webelement.WebElement (session=\"418cd5f6c7f12b05b409e7eaad5bcfae\", element=\"40f5437c-b548-4215-812a-152d4d255977\")>,\n",
       " <selenium.webdriver.remote.webelement.WebElement (session=\"418cd5f6c7f12b05b409e7eaad5bcfae\", element=\"3fa76bfb-8cca-4200-87c2-7b0833bef57e\")>,\n",
       " <selenium.webdriver.remote.webelement.WebElement (session=\"418cd5f6c7f12b05b409e7eaad5bcfae\", element=\"852d05d5-26ba-4ad6-863e-b706521a47fc\")>,\n",
       " <selenium.webdriver.remote.webelement.WebElement (session=\"418cd5f6c7f12b05b409e7eaad5bcfae\", element=\"63625fa6-df5a-4f4e-bdba-b03016e3f000\")>,\n",
       " <selenium.webdriver.remote.webelement.WebElement (session=\"418cd5f6c7f12b05b409e7eaad5bcfae\", element=\"0ff3833f-c0d2-4db1-8217-4931c8210c0d\")>,\n",
       " <selenium.webdriver.remote.webelement.WebElement (session=\"418cd5f6c7f12b05b409e7eaad5bcfae\", element=\"9168c8dd-442b-48d8-81f7-150f372492f7\")>,\n",
       " <selenium.webdriver.remote.webelement.WebElement (session=\"418cd5f6c7f12b05b409e7eaad5bcfae\", element=\"eb22b3b5-455e-421c-a950-be12245eb07b\")>,\n",
       " <selenium.webdriver.remote.webelement.WebElement (session=\"418cd5f6c7f12b05b409e7eaad5bcfae\", element=\"7eac5898-f978-4af1-b9c9-2299ef6499a6\")>,\n",
       " <selenium.webdriver.remote.webelement.WebElement (session=\"418cd5f6c7f12b05b409e7eaad5bcfae\", element=\"127ed546-645b-412a-b1d6-c2672c2d3139\")>,\n",
       " <selenium.webdriver.remote.webelement.WebElement (session=\"418cd5f6c7f12b05b409e7eaad5bcfae\", element=\"4dd2425e-5b39-4254-9e28-0a7e7241e2b1\")>,\n",
       " <selenium.webdriver.remote.webelement.WebElement (session=\"418cd5f6c7f12b05b409e7eaad5bcfae\", element=\"f3bd5dea-199e-49c9-b6d3-4128c4796a31\")>,\n",
       " <selenium.webdriver.remote.webelement.WebElement (session=\"418cd5f6c7f12b05b409e7eaad5bcfae\", element=\"419a65ba-d1a2-4277-b469-baa1203e1b55\")>,\n",
       " <selenium.webdriver.remote.webelement.WebElement (session=\"418cd5f6c7f12b05b409e7eaad5bcfae\", element=\"1c365434-7985-4e0b-b949-0859d9c8a721\")>,\n",
       " <selenium.webdriver.remote.webelement.WebElement (session=\"418cd5f6c7f12b05b409e7eaad5bcfae\", element=\"c02e3111-9e0f-4b69-afb0-69112b9f375f\")>,\n",
       " <selenium.webdriver.remote.webelement.WebElement (session=\"418cd5f6c7f12b05b409e7eaad5bcfae\", element=\"d2ba3acc-f026-4919-847e-2b0aa9fb7f98\")>,\n",
       " <selenium.webdriver.remote.webelement.WebElement (session=\"418cd5f6c7f12b05b409e7eaad5bcfae\", element=\"636dd44e-16ac-45a0-a5a8-cc406e750ddb\")>,\n",
       " <selenium.webdriver.remote.webelement.WebElement (session=\"418cd5f6c7f12b05b409e7eaad5bcfae\", element=\"fb953b3a-44d2-4f64-a17c-1927a91bc843\")>,\n",
       " <selenium.webdriver.remote.webelement.WebElement (session=\"418cd5f6c7f12b05b409e7eaad5bcfae\", element=\"7caf8256-c6bf-4d56-a07b-2fc2b590fc46\")>,\n",
       " <selenium.webdriver.remote.webelement.WebElement (session=\"418cd5f6c7f12b05b409e7eaad5bcfae\", element=\"f01de9ec-67ad-424e-9c6e-8a2cd692eeef\")>,\n",
       " <selenium.webdriver.remote.webelement.WebElement (session=\"418cd5f6c7f12b05b409e7eaad5bcfae\", element=\"5d4586f2-add9-4103-91f0-97fe12c2bb1c\")>,\n",
       " <selenium.webdriver.remote.webelement.WebElement (session=\"418cd5f6c7f12b05b409e7eaad5bcfae\", element=\"175c80a2-d197-40d2-a46e-93b06fb2668e\")>,\n",
       " <selenium.webdriver.remote.webelement.WebElement (session=\"418cd5f6c7f12b05b409e7eaad5bcfae\", element=\"d6045420-7e0a-4c24-b1af-a0594042f2d1\")>,\n",
       " <selenium.webdriver.remote.webelement.WebElement (session=\"418cd5f6c7f12b05b409e7eaad5bcfae\", element=\"c22c2f72-f7be-40b0-bc9b-786fc07f82e8\")>,\n",
       " <selenium.webdriver.remote.webelement.WebElement (session=\"418cd5f6c7f12b05b409e7eaad5bcfae\", element=\"a61a432d-0d5d-49e1-8cdc-d6707c4ca827\")>,\n",
       " <selenium.webdriver.remote.webelement.WebElement (session=\"418cd5f6c7f12b05b409e7eaad5bcfae\", element=\"c9930f6e-9f6c-4403-a63e-d80b52e35b6c\")>,\n",
       " <selenium.webdriver.remote.webelement.WebElement (session=\"418cd5f6c7f12b05b409e7eaad5bcfae\", element=\"6e0985b2-1976-4c55-95f0-88e41b686fc0\")>,\n",
       " <selenium.webdriver.remote.webelement.WebElement (session=\"418cd5f6c7f12b05b409e7eaad5bcfae\", element=\"d697c0d5-4fbd-40a1-a440-7cc04cef4125\")>,\n",
       " <selenium.webdriver.remote.webelement.WebElement (session=\"418cd5f6c7f12b05b409e7eaad5bcfae\", element=\"84c490b8-54df-4c8f-89e0-d710f0905dbf\")>,\n",
       " <selenium.webdriver.remote.webelement.WebElement (session=\"418cd5f6c7f12b05b409e7eaad5bcfae\", element=\"a358c494-de04-43c5-8f5f-50f934b2e1d5\")>]"
      ]
     },
     "execution_count": 79,
     "metadata": {},
     "output_type": "execute_result"
    }
   ],
   "source": [
    "p_s3=driver.find_elements(By.XPATH,\"//div[@class='_30jeq3']\")\n",
    "p_s3"
   ]
  },
  {
   "cell_type": "code",
   "execution_count": 80,
   "id": "f72808c2",
   "metadata": {},
   "outputs": [
    {
     "data": {
      "text/plain": [
       "['₹664',\n",
       " '₹179',\n",
       " '₹196',\n",
       " '₹349',\n",
       " '₹449',\n",
       " '₹569',\n",
       " '₹169',\n",
       " '₹175',\n",
       " '₹664',\n",
       " '₹269',\n",
       " '₹329',\n",
       " '₹295',\n",
       " '₹299',\n",
       " '₹199',\n",
       " '₹249',\n",
       " '₹187',\n",
       " '₹359',\n",
       " '₹689',\n",
       " '₹260',\n",
       " '₹299']"
      ]
     },
     "execution_count": 80,
     "metadata": {},
     "output_type": "execute_result"
    }
   ],
   "source": [
    "pr_s3=[]\n",
    "for i in p_s3:\n",
    "    pr_s3.append(i.text)\n",
    "pr_s3[0:20]"
   ]
  },
  {
   "cell_type": "code",
   "execution_count": 81,
   "id": "431b647b",
   "metadata": {},
   "outputs": [
    {
     "data": {
      "text/plain": [
       "['₹999',\n",
       " '₹799',\n",
       " '₹188',\n",
       " '₹276',\n",
       " '₹248',\n",
       " '₹639',\n",
       " '₹200',\n",
       " '₹799',\n",
       " '₹177',\n",
       " '₹189',\n",
       " '₹189',\n",
       " '₹1,415',\n",
       " '₹259',\n",
       " '₹187',\n",
       " '₹269',\n",
       " '₹999',\n",
       " '₹329',\n",
       " '₹189',\n",
       " '₹189',\n",
       " '₹999',\n",
       " '₹259',\n",
       " '₹269',\n",
       " '₹499',\n",
       " '₹1,533',\n",
       " '₹187',\n",
       " '₹239',\n",
       " '₹689',\n",
       " '₹664',\n",
       " '₹359',\n",
       " '₹270',\n",
       " '₹311',\n",
       " '₹999',\n",
       " '₹209',\n",
       " '₹340',\n",
       " '₹509',\n",
       " '₹799',\n",
       " '₹259',\n",
       " '₹215',\n",
       " '₹294',\n",
       " '₹799',\n",
       " '₹759',\n",
       " '₹231',\n",
       " '₹296',\n",
       " '₹549',\n",
       " '₹198',\n",
       " '₹276',\n",
       " '₹299',\n",
       " '₹1,533',\n",
       " '₹383',\n",
       " '₹246',\n",
       " '₹319',\n",
       " '₹664',\n",
       " '₹449',\n",
       " '₹189',\n",
       " '₹249',\n",
       " '₹799',\n",
       " '₹499',\n",
       " '₹259',\n",
       " '₹196',\n",
       " '₹164',\n",
       " '₹318',\n",
       " '₹329',\n",
       " '₹250',\n",
       " '₹219',\n",
       " '₹336',\n",
       " '₹276',\n",
       " '₹187',\n",
       " '₹359',\n",
       " '₹299',\n",
       " '₹276',\n",
       " '₹252',\n",
       " '₹275',\n",
       " '₹189',\n",
       " '₹311',\n",
       " '₹299',\n",
       " '₹229',\n",
       " '₹249',\n",
       " '₹263',\n",
       " '₹332',\n",
       " '₹220',\n",
       " '₹664',\n",
       " '₹179',\n",
       " '₹196',\n",
       " '₹349',\n",
       " '₹449',\n",
       " '₹569',\n",
       " '₹169',\n",
       " '₹175',\n",
       " '₹664',\n",
       " '₹269',\n",
       " '₹329',\n",
       " '₹295',\n",
       " '₹299',\n",
       " '₹199',\n",
       " '₹249',\n",
       " '₹187',\n",
       " '₹359',\n",
       " '₹689',\n",
       " '₹260',\n",
       " '₹299']"
      ]
     },
     "execution_count": 81,
     "metadata": {},
     "output_type": "execute_result"
    }
   ],
   "source": [
    "sunglasses_price=pr_s+pr_s2+pr_s3[0:20]\n",
    "sunglasses_price"
   ]
  },
  {
   "cell_type": "code",
   "execution_count": 82,
   "id": "fd4e5d49",
   "metadata": {},
   "outputs": [
    {
     "data": {
      "text/plain": [
       "100"
      ]
     },
     "execution_count": 82,
     "metadata": {},
     "output_type": "execute_result"
    }
   ],
   "source": [
    "len(sunglasses_price)"
   ]
  },
  {
   "cell_type": "code",
   "execution_count": 83,
   "id": "e043afad",
   "metadata": {},
   "outputs": [
    {
     "data": {
      "text/html": [
       "<div>\n",
       "<style scoped>\n",
       "    .dataframe tbody tr th:only-of-type {\n",
       "        vertical-align: middle;\n",
       "    }\n",
       "\n",
       "    .dataframe tbody tr th {\n",
       "        vertical-align: top;\n",
       "    }\n",
       "\n",
       "    .dataframe thead th {\n",
       "        text-align: right;\n",
       "    }\n",
       "</style>\n",
       "<table border=\"1\" class=\"dataframe\">\n",
       "  <thead>\n",
       "    <tr style=\"text-align: right;\">\n",
       "      <th></th>\n",
       "      <th>Brand Name</th>\n",
       "      <th>Product Description</th>\n",
       "      <th>Price</th>\n",
       "    </tr>\n",
       "  </thead>\n",
       "  <tbody>\n",
       "    <tr>\n",
       "      <th>0</th>\n",
       "      <td>VINCENT CHASE</td>\n",
       "      <td>UV Protection Aviator Sunglasses (53)</td>\n",
       "      <td>₹999</td>\n",
       "    </tr>\n",
       "    <tr>\n",
       "      <th>1</th>\n",
       "      <td>VINCENT CHASE</td>\n",
       "      <td>by Lenskart Polarized, UV Protection Wayfarer ...</td>\n",
       "      <td>₹799</td>\n",
       "    </tr>\n",
       "    <tr>\n",
       "      <th>2</th>\n",
       "      <td>SUNBEE</td>\n",
       "      <td>UV Protection Wayfarer Sunglasses (56)</td>\n",
       "      <td>₹188</td>\n",
       "    </tr>\n",
       "    <tr>\n",
       "      <th>3</th>\n",
       "      <td>Elligator</td>\n",
       "      <td>UV Protection, Polarized, Mirrored Round Sungl...</td>\n",
       "      <td>₹276</td>\n",
       "    </tr>\n",
       "    <tr>\n",
       "      <th>4</th>\n",
       "      <td>PIRASO</td>\n",
       "      <td>UV Protection Round Sunglasses (54)</td>\n",
       "      <td>₹248</td>\n",
       "    </tr>\n",
       "    <tr>\n",
       "      <th>...</th>\n",
       "      <td>...</td>\n",
       "      <td>...</td>\n",
       "      <td>...</td>\n",
       "    </tr>\n",
       "    <tr>\n",
       "      <th>95</th>\n",
       "      <td>PHENOMENAL</td>\n",
       "      <td>UV Protection Aviator Sunglasses (54)</td>\n",
       "      <td>₹187</td>\n",
       "    </tr>\n",
       "    <tr>\n",
       "      <th>96</th>\n",
       "      <td>PIRASO</td>\n",
       "      <td>Mirrored Aviator Sunglasses (58)</td>\n",
       "      <td>₹359</td>\n",
       "    </tr>\n",
       "    <tr>\n",
       "      <th>97</th>\n",
       "      <td>ROYAL SON</td>\n",
       "      <td>UV Protection Wayfarer Sunglasses (Free Size)</td>\n",
       "      <td>₹689</td>\n",
       "    </tr>\n",
       "    <tr>\n",
       "      <th>98</th>\n",
       "      <td>Fastrack</td>\n",
       "      <td>UV Protection, Others Round Sunglasses (48)</td>\n",
       "      <td>₹260</td>\n",
       "    </tr>\n",
       "    <tr>\n",
       "      <th>99</th>\n",
       "      <td>Rich Club</td>\n",
       "      <td>UV Protection, Night Vision Wayfarer Sunglasse...</td>\n",
       "      <td>₹299</td>\n",
       "    </tr>\n",
       "  </tbody>\n",
       "</table>\n",
       "<p>100 rows × 3 columns</p>\n",
       "</div>"
      ],
      "text/plain": [
       "       Brand Name                                Product Description Price\n",
       "0   VINCENT CHASE              UV Protection Aviator Sunglasses (53)  ₹999\n",
       "1   VINCENT CHASE  by Lenskart Polarized, UV Protection Wayfarer ...  ₹799\n",
       "2          SUNBEE             UV Protection Wayfarer Sunglasses (56)  ₹188\n",
       "3       Elligator  UV Protection, Polarized, Mirrored Round Sungl...  ₹276\n",
       "4          PIRASO                UV Protection Round Sunglasses (54)  ₹248\n",
       "..            ...                                                ...   ...\n",
       "95     PHENOMENAL              UV Protection Aviator Sunglasses (54)  ₹187\n",
       "96         PIRASO                   Mirrored Aviator Sunglasses (58)  ₹359\n",
       "97      ROYAL SON      UV Protection Wayfarer Sunglasses (Free Size)  ₹689\n",
       "98       Fastrack        UV Protection, Others Round Sunglasses (48)  ₹260\n",
       "99      Rich Club  UV Protection, Night Vision Wayfarer Sunglasse...  ₹299\n",
       "\n",
       "[100 rows x 3 columns]"
      ]
     },
     "execution_count": 83,
     "metadata": {},
     "output_type": "execute_result"
    }
   ],
   "source": [
    "#preparing dataframe for scrapped data\n",
    "df=pd.DataFrame(list(zip(f_100_b_n,product_desc,sunglasses_price)),columns=[\"Brand Name\",\"Product Description\", \"Price\"])\n",
    "df"
   ]
  },
  {
   "cell_type": "markdown",
   "id": "d5016764",
   "metadata": {},
   "source": [
    "Ans 5. python program to scrape data for first 100 reviews for iphone 11 from flipkart.com:-"
   ]
  },
  {
   "cell_type": "code",
   "execution_count": 84,
   "id": "d41462b2",
   "metadata": {},
   "outputs": [],
   "source": [
    "# Importing required libraries\n",
    "import selenium\n",
    "import pandas as pd\n",
    "from selenium import webdriver\n",
    "from selenium.webdriver.chrome.service import Service\n",
    "from selenium.webdriver.common.by import By\n",
    "import time\n",
    "\n",
    "\n",
    "driver=webdriver.Chrome (service = ser)\n",
    "driver.get(\"https://www.flipkart.com/apple-iphone-11-black-64-gb-includes-earpods-power-adapter/product-reviews/itm0f37c2240b217?pid=MOBFKCTSVZAXUHGR&lid=LSTMOBFKCTSVZAXUHGREPBFGI&marketplace=FLIPKART&page=\")"
   ]
  },
  {
   "cell_type": "code",
   "execution_count": 87,
   "id": "db2cae06",
   "metadata": {},
   "outputs": [
    {
     "name": "stdout",
     "output_type": "stream",
     "text": [
      "['5', '5', '5', '5', '5', '5', '5', '4', '5', '5']\n",
      "['Brilliant', 'Simply awesome', 'Perfect product!', 'Worth every penny', 'Best in the market!', 'Fabulous!', 'Great product', 'Good choice', 'Worth every penny', 'Highly recommended']\n",
      "['The Best Phone for the Money\\n\\nThe iPhone 11 offers superb cameras, a more durable design and excellent battery life for an affordable price.\\n\\nCompelling ultra-wide camera\\nNew Night mode is excellent\\nLong battery life', 'Really satisfied with the Product I received... It’s totally genuine and the packaging was also really good so if ur planning to buy just go for it.', 'Amazing phone with great cameras and better battery which gives you the best performance. I just love the camera .', 'Previously I was using one plus 3t it was a great phone\\nAnd then I decided to upgrade I am stuck between Samsung s10 plus or iPhone 11\\nI have seen the specs and everything were good except the display it’s somewhere between 720-1080 and it’s not even an amoled it’s an LCD display\\nBut I decided to go with iPhone because I have never used an IOS device I have Been an android user from the past 9 years I ordered IPhone 11 (128gb) product red\\nMy experience after using 3 weeks\\n1. The delivery ...\\nREAD MORE', 'Great iPhone very snappy experience as apple kind. Upgraded from iPhone 7.\\nPros\\n-Camera top class\\n- Battery top performed\\n-Chipset no need to say as apple kind\\n-Security as you expect from apple\\n- Display super bright industry leading colour\\naccuracy and super responsive\\n-Build quality as expect from apple sturdy\\npremium durable beautiful stylish.\\n-Os most stable os in smartphone industry\\n\\nCons\\n-No 5G\\n-Display is not based on OLED technology\\n-Charger headphones and 1 apple stic...\\nREAD MORE', 'This is my first iOS phone. I am very happy with this product. Very much satisfied with this. I love this phone.', 'Amazing Powerful and Durable Gadget.\\n\\nI’m am very happy with the camera picture quality, Amazing face id unlocked in dark room, Strong battery with perfect screen size as you can carry easily in pocket. This is my third iPhone.\\n\\nI shifted from android Samsung Note series to iPhone because of the strong build quality and peace of mind for next 3-4 years.\\n\\nDon’t think to much just go for it and I suggest you to go for minimum 128gb variant or more 256gb.\\n\\nI’ve attached my puppy pics and no fi...\\nREAD MORE', 'So far it’s been an AMAZING experience coming back to iOS after nearly a decade but it’s not as versatile as android though phone is sturdy dropped it accidentally a couple of times and nothing happened fortunately camera is awesome', 'i11 is worthy to buy, too much happy with the product. Thank u flipkart I received the item on time..loved it..', 'iphone 11 is a very good phone to buy only if you can compromise for the display. The display on this is device is pretty good but you can get other options with better displays in this price segment.\\nIf you can survive with an HD+ LCD panel with thicker bezels and a notch up top then this is a very good phone for you.\\nCameras are awesome, battery backup excellent, great performance and a decent premium look. Good job Apple !']\n"
     ]
    }
   ],
   "source": [
    "#scraping ratings, review_summary and full review from first page\n",
    "ratings1=[]\n",
    "review_summary1=[]\n",
    "full_review1=[]\n",
    "rating=driver.find_elements(By.XPATH,\"//div[@class='_3LWZlK _1BLPMq']\")\n",
    "review=driver.find_elements(By.XPATH,\"//p[@class='_2-N8zT']\")\n",
    "full_reviews=driver.find_elements(By.XPATH,\"//div[@class='t-ZTKy']\")\n",
    "\n",
    "#using for loop and len function in range to iterate it same no. of times\n",
    "for j in range(len(rating)):\n",
    "    ratings1.append(rating[j].text)\n",
    "    review_summary1.append(review[j].text)\n",
    "    full_review1.append(full_reviews[j].text)\n",
    "print(ratings1)\n",
    "print(review_summary1)\n",
    "print(full_review1)\n",
    "\n",
    "#scraping code for next button and clicking it to reach page 2\n",
    "next=driver.find_element(By.XPATH,\"//a[@class='_1LKTO3']/span\")\n",
    "next.click()"
   ]
  },
  {
   "cell_type": "code",
   "execution_count": 88,
   "id": "b40f6649",
   "metadata": {},
   "outputs": [
    {
     "name": "stdout",
     "output_type": "stream",
     "text": [
      "['5', '5', '5', '5', '5', '5', '5', '5', '5', '5']\n",
      "['Highly recommended', 'Perfect product!', 'Perfect product!', 'Classy product', 'Simply awesome', 'Worth every penny', 'Perfect product!', 'Highly recommended', 'Worth every penny', 'Worth every penny']\n",
      "['What a camera .....just awesome ..you can feel this iPhone just awesome . Good for gaming also ...try pubg in hd it’s just wow', 'It’s a must buy who is looking for an upgrade from previous generation of iPhones. If you are using XR then still you can hold on for sometime and upgrade to 2020 model else this phone is a must buy . Camera quality is amazing and wide angle is something to count upon. Performance wise it’s amazing and feels premium while holding in hand. So a big YES for this device. Go for 128 GB variant as the 4K videos will occupy lots of space and the storage can get over very quickly. Try to buy it with...\\nREAD MORE', 'Value for money❤️❤️\\nIts awesome mobile phone in the world ...\\nDisplay was very good and bright ..\\nTrust me freinds you r never regret after Buying..\\nJust go for it....\\nI love this phone and i switch to iphone x to 11', 'Totally in love with this ❤ the camera quality is amazing just love it 😘😘😘 itsss dammnnnnnn amazing... Must buy iPhone 11 this is my best experience ever ☀👌👌🧡🧡🧡🧡🧡 thanku apple ❤', 'Excellent camera, good performance, no lag. The lcd display is also good.. but difference come when we watch movie in prime and Netflix, the colours are not vibrant.. as we see in amoled display.. and the charger in box is of 5 watts.. takes more than 3 hours to charge from 0 to 100.. so guys be prepare to buy 18 watts charger . Finally I am an android user, it was my first Iapple phone, I promise u guys the iOS is so smooth.. overall the phone is damn good.... close eyes to buy it.. thanks t...\\nREAD MORE', 'Best budget Iphone till date ❤️ go for it guys without second thought. Let me explain you guys about Camera, Display, battery, and performance.\\n\\nCamera: at this price range there is no comparison of camera, you’ll love the picture quality as well as video quality. I am a Vlogger I wanted an iPhone with 4k video by front camera and I got this phone and I am more than happy 😃\\n\\nBattery: I use this phone roughly as I am active social media person and I have a youtube channel. so the battery ba...\\nREAD MORE', \"Iphone is just awesome.. battery backup is very very nice.. continuously for 10 hours we can use it.camera is just awesome.. display is just fab.i love it alot..i had to wait 15 days for it as i pre ordered it..overalll it's worth the price..these all images are clicked by my iPhone..and i love it.\", \"It's my first time to use iOS phone and I am loving my upgradation 😍😍 I love the color, I love the assebility of the phone....I need to learn more about its functionality, but as far as I have seen, it's quite easy and it has a lot of functions to work on, specially if you are a content writer or a blogger you get a lot of content creation platforms and they are really amazing.\\n\\nThis phone not only for good quality photography but a lot of other task too.😍💯\", 'It’s been almost a month since I have been using this phone. I upgraded from an iPhone 8. The main issue with my 8 was battery and this phone is just awesome when it comes to battery. It lasts a day and a half for me with my regular use , internet connected always with 4g\\nCan’t move forward without saying this. Battery of this phone is a life saver when I am traveling or at work when I don’t get the option to charge\\nCamera is superb. Front cam selfies and back cam photos are just awesome.\\n...\\nREAD MORE', 'Smooth like butter, camera like fantabulous, sound is crystal clear & its red color is damn attractive, i am just loving it. Must buy if you love photography.\\n\\nLucky to get it in sale, thank you Flipkart.']\n",
      "['5', '5', '5', '5', '5', '5', '5', '5', '5', '5']\n",
      "['Highly recommended', 'Perfect product!', 'Perfect product!', 'Classy product', 'Simply awesome', 'Worth every penny', 'Perfect product!', 'Highly recommended', 'Worth every penny', 'Worth every penny']\n",
      "['What a camera .....just awesome ..you can feel this iPhone just awesome . Good for gaming also ...try pubg in hd it’s just wow', 'It’s a must buy who is looking for an upgrade from previous generation of iPhones. If you are using XR then still you can hold on for sometime and upgrade to 2020 model else this phone is a must buy . Camera quality is amazing and wide angle is something to count upon. Performance wise it’s amazing and feels premium while holding in hand. So a big YES for this device. Go for 128 GB variant as the 4K videos will occupy lots of space and the storage can get over very quickly. Try to buy it with...\\nREAD MORE', 'Value for money❤️❤️\\nIts awesome mobile phone in the world ...\\nDisplay was very good and bright ..\\nTrust me freinds you r never regret after Buying..\\nJust go for it....\\nI love this phone and i switch to iphone x to 11', 'Totally in love with this ❤ the camera quality is amazing just love it 😘😘😘 itsss dammnnnnnn amazing... Must buy iPhone 11 this is my best experience ever ☀👌👌🧡🧡🧡🧡🧡 thanku apple ❤', 'Excellent camera, good performance, no lag. The lcd display is also good.. but difference come when we watch movie in prime and Netflix, the colours are not vibrant.. as we see in amoled display.. and the charger in box is of 5 watts.. takes more than 3 hours to charge from 0 to 100.. so guys be prepare to buy 18 watts charger . Finally I am an android user, it was my first Iapple phone, I promise u guys the iOS is so smooth.. overall the phone is damn good.... close eyes to buy it.. thanks t...\\nREAD MORE', 'Best budget Iphone till date ❤️ go for it guys without second thought. Let me explain you guys about Camera, Display, battery, and performance.\\n\\nCamera: at this price range there is no comparison of camera, you’ll love the picture quality as well as video quality. I am a Vlogger I wanted an iPhone with 4k video by front camera and I got this phone and I am more than happy 😃\\n\\nBattery: I use this phone roughly as I am active social media person and I have a youtube channel. so the battery ba...\\nREAD MORE', \"Iphone is just awesome.. battery backup is very very nice.. continuously for 10 hours we can use it.camera is just awesome.. display is just fab.i love it alot..i had to wait 15 days for it as i pre ordered it..overalll it's worth the price..these all images are clicked by my iPhone..and i love it.\", \"It's my first time to use iOS phone and I am loving my upgradation 😍😍 I love the color, I love the assebility of the phone....I need to learn more about its functionality, but as far as I have seen, it's quite easy and it has a lot of functions to work on, specially if you are a content writer or a blogger you get a lot of content creation platforms and they are really amazing.\\n\\nThis phone not only for good quality photography but a lot of other task too.😍💯\", 'It’s been almost a month since I have been using this phone. I upgraded from an iPhone 8. The main issue with my 8 was battery and this phone is just awesome when it comes to battery. It lasts a day and a half for me with my regular use , internet connected always with 4g\\nCan’t move forward without saying this. Battery of this phone is a life saver when I am traveling or at work when I don’t get the option to charge\\nCamera is superb. Front cam selfies and back cam photos are just awesome.\\n...\\nREAD MORE', 'Smooth like butter, camera like fantabulous, sound is crystal clear & its red color is damn attractive, i am just loving it. Must buy if you love photography.\\n\\nLucky to get it in sale, thank you Flipkart.']\n",
      "['5', '5', '4', '5', '5', '5', '5', '4', '5', '5']\n",
      "['Terrific', 'Wonderful', 'Nice product', 'Perfect product!', 'Brilliant', 'Classy product', 'Must buy!', 'Good choice', 'Wonderful', 'Perfect product!']\n",
      "['Really worth of money. i just love it. It is the best phone ever.', 'This is my first ever I phone. Before this I was using my google nexus 5. But moving from android to iOS is a great experience. It’s worth at this price. I will highly recommend it if you want to move to iOS. The best part of this phone is it’s camera and it’s battery life. This two things have won my heart. I loved it. Happy to have it in my hand. Still exploring its features. And can’t forget to mention Flipkart service. Very prompt service and fast delivery.', 'Awesome Phone. Slightly high price but worth. Better than iPhone XR.\\nCamera is superb and wide angle camera is very clear.\\n12MP selfie camera is also very good.\\nA13 Chip gives a very good and smooth performance.', 'Battery backup is extraordinary, camera is decent & performance offered by A13 bionic is awsome. The display is good in practical usage like the visibility of display is very good in direct sun light compare to pro models. Iam extremely satisfied for the money I spent.', 'I have migrated from OP 7pro... and trust me, iPhone 11 is totally worth it.. following are the reasons:-\\n1)there is ABSOLUTELY NO ISSUE WITH THE DISPLAY... its crisp, sharp and I found it to be much much better than OP7 pro. Netflix, Prime video all run crisply... you won’t miss a thing. True Tone works flawlessly...the display brightness is perfect. OP have not calibrated their screens properly.\\n2) iPhone 11 series have really good cameras... others have spoken in depth about them.\\n3) bat...\\nREAD MORE', 'Superb Product !!!\\nA big and worthy upgrade from mi 3S to iphone 11 .\\nTotally loved it !', 'It’s an amazing product from apple and the camera is simply superb. Phone is faster.Night shot is simply superb and detailing and colour differentiation from camera is an added advantage\\n\\nThis review I have written from iPhone 11 only and I am glad to say outside.\\n\\nCons wise if we see HD+ display only, no battery percentage indicator as in older iPhone 8.\\nNo assistive touch control button in it\\nNo oleophobic coating on back panel glass and finger prints are visible but since I bought mint gr...\\nREAD MORE', 'Looking so good 👍 😍 super 👌 stylish 😎 phone\\nClean box 📦 good 👍 delivery 👌 fast delivery\\nOriginal box Original iphone 📱 👌 😍😍😍', 'I just directly switch from iphone 6s to iphone 11 .The best premium smartphone I recommend to everyone. Excellent quality and colors the iphone have in 11 series.\\nCamera quality is just awesome and the major feel when we hold in our hands. The sound quality and volume is also higher then the previous models.\\nI will recommend to buy iphone 11 instead of pro models , there is nothing much difference as this model contains everything which fulfill our needs.\\n\\nOnly one thing that I dislike abo...\\nREAD MORE', 'After 1 month use I found camera quality best compared to my previous Samsung note 10+.Display not good as note 10 also charging too slow.Apple should add fast charger like 11 plus and pro.Best phone for daily use']\n"
     ]
    },
    {
     "name": "stdout",
     "output_type": "stream",
     "text": [
      "['5', '5', '5', '5', '5', '5', '5', '4', '5']\n",
      "['Terrific purchase', 'Simply awesome', 'Great product', 'Terrific purchase', 'Mind-blowing purchase', 'Excellent', 'Simply awesome', 'Good quality product', 'Very poor']\n",
      "['Upgraded from iphone 6 to 11 best phone for iphone users battery is much better than other iphones camera is awesome love to use it.camera is so clear in night.', \"It's very high performances devise i am like the service of flipkart delevary very fast and packing very nice perfect phone\", 'Well you all know the specifications . One of a kind. Best iPhone till date. Many enhancements to the camera app with many options. Love the glass body with matte finish in the lens area on the back. Lovely colours to choose from. Best battery in an iPhone till date, enough to last more than a day in normal usage. I tested my iPhone 11 battery and lasted for than 24 hours after full charge still with 30% battery charge left. Watched movies for some time. Normal usage on calls, browsing, musi...\\nREAD MORE', 'The built quality is not very premium.\\nThe battery back is great .\\nThe LCD panel is not so sharp but the brightness level is very High .\\nCamera is super duper awesome.\\nThe red colour which people think is bright is actually very soothing and excellent colour to choose from .\\nThe A13 Bionic chip is really a flagship processor and can beat any phone which even has 12 gb ram .\\nCamera module is very great and looks very stylish.', 'This will help you more. See if you are planning to buy iPhone 11. I will say. Yes. But there are some plans I just want to disclose before you buy. 1) If you are an existing iPhone X/XS/XS Max/ XR user, better you guys do not think it to buy. You guys have more or less better gadget. 2) If you are an android user and planning to buy premium phone. I will suggest them to please buy iPhone instead of buying an Android. I bet you will never go back to android after using IOS. Now I want to shar...\\nREAD MORE', 'Amazing camera and feel super machine I am not describe my feeling but this is amazing Phone I am so lucky I have this', 'Really good actually this is my first apple product am using its really awesome performance wise excellent. Am really happy with this iphone11', 'it is very good at performance. Camera is best like before and very smooth response even in water. Don’t buy 12 mini buy iPhone 11 , it is far better than 12 mini believe me ! Have a nice day \\uf8ff ☺️', 'Reviewing again after 5 months. At the beginning the battery and performance was good but it degraded soon. Also I was facing heating issues. The mobile will heat up like a stove sometimes. You cannot even play Pubg even in low settings properly, performance is not a problem but heating is. Also if you play that game for 10 mins the brightness will be automatically down due to over heating even when the auto brightness is set to off. This will not be solved even if u manually increase the bri...\\nREAD MORE']\n",
      "['5', '5', '5', '5', '5', '5', '5', '4', '5', '5']\n",
      "['Perfect product!', 'Must buy!', 'Fabulous!', 'Mind-blowing purchase', 'Mind-blowing purchase', 'Wonderful', 'Great product', 'Very Good', 'Classy product', 'Perfect product!']\n",
      "['It is just awesome mobile for this price from Apple,\\n\\nAfter 10 days review\\n\\nBattery enough for 1 day even 24*7 Internet will be on and mostly internet usage\\n\\nCamera is just awesome cool , android 64 MP is equal to this just 12 MP\\n\\nA13 Bionic chip will give more high performance without hanging\\n\\nAudio stereo speakers will give Dolby atoms sound with crystal clear\\n\\nVideo recording is like cinematic shots of every sec can be a 4K 60fps. Just awesome this phone\\niPhone 11 loved one', 'Best Apple iPhone that i have bought at a very reasonable price, camera quality is next level just awesome n of superior quality android phones not even close(RIP) to that and also battery is really good but packaging by Flipkart of iPhone was very poor of such a expensive product, firstly im bit worried about the quality of product if i purchased it through online how was the product but i think now this was mine best decision to bought it through Flipkart online because i got genuine Apple...\\nREAD MORE', \"I can say I'm damn impressed with iPhone 11. As they says iPhone 11 have the toughest glass ever in the smartphone which you'll find on the front and back and it's totally smooth. The fit and finish is full apple quality - there's no sense that any cheaping out has happened in the construction. Without saying it's camera features this review won't complete. The iPhone 11 has a dual camera system, consisting of a wide angle len's that's pretty much same as found on the iPhone XR last year, but...\\nREAD MORE\", 'Best Quality Product OF iPhone Series , Sound Quality & Camera quality is very awesome, Battery Life is very Sufficient for 24 hr Backup With Full Internet Access , I love this this Product too much , It is very fast & making me Very fast in all my daily Routine\\nHighlights;\\n1.Camera: 5 STAR\\n2.Video Recording: 5 star\\n3.Night mODE sHOOTING & Camera:4 star\\n4. Audio Quality: Awesome\\n5. Battery : 5 Star\\n6. Touch:5 Star\\n7. Processor: Very Fast\\nThe M...\\nREAD MORE', 'First thanks to Flipkart for this amazing deal and phone is outstanding. I upgraded from iPhone 7 and this is like very big upgrade. But the packaging was very basic I expected a good packaging as they only wrapped one layer of bubble wrap which I don’t think is enough to protect this expensive phone. And I recommend this phone and seller as well.\\n\\nAnd I’m posting this review after using it for 4 days.', 'Superfast delivery by Flipkart. Thanks.\\n\\n1. iPhone 11 is a pretty solid phone for the money you are paying.\\n2. All the bad reviews about the display is confusing. It’s not that bad.\\n3. I switched from a Oneplus 7t. I have no complaints about the display quality of iPhone. Yes, it’s not OLED, so, we are missing on the deep blacks. But that’s it. It is a very colour accurate display. Gets adequately bright and I could not find any pixelation.\\n4. Performance is one of the best, if not best, in ...\\nREAD MORE', \"Again back to apple iphone after a gap of 2-3 years. It's pleasure to use iOS and the quality product by Apple. Iphone 11 still works like a beast in 2021 also. It really capable of doing day to day usage as well as hard core gaming. Battery is awesome. I'm really too much satisfied with it. Apart fto the very gorgious IPS LCD (AMOLED will be better) everything is mind boggling. Iphone💕.\", 'impressive super phone and best in class camera ,sound and face unlock is super fast just see and phone is unlock and fast in daily apps use', 'Well while switching from android to iOS the first thing you need to be careful about is that you will loose all your whatsapp chat backups as both are different operating systems. Camera clarity is awesome and though being an lcd screen clarity and resolution is good. Battery backup is also good unlike previous gen iPhone. So far the experience is good will Padre after a few months of usage.\\n\\nP.S the black is more of a dark grey shade and not jet black', 'In love with this iphone great performance,camera ,battery everything. Go for it have a uncompareble battery backup, no doubts in iPhone camera here You can see the picture which is shot on my iPhone In love with this iphone great performance,camera ,battery everything. Go for it have a uncompareble battery backup, no doubts in iPhone camera here You can see the picture which is shot on my iPhone In love with this iphone great performance,camera ,battery everything. Go for it have a uncompare...\\nREAD MORE']\n",
      "['5', '5', '4', '5', '5', '5', '5', '5', '5', '5']\n",
      "['Just wow!', 'Awesome', 'Pretty good', 'Terrific purchase', 'Awesome', 'Classy product', 'Brilliant', 'Terrific', 'Perfect product!', 'Awesome']\n",
      "['Best in class. Battery backup is good especially when you play games like Pubg COD. But it is sort of heavy when you hold in hands. Portrait mode is best to click pictures. Stage light effect is awesome. Try to click photos outside in nature because photos inside home or room will not give you the quality in any phone even in DSLR.', 'Very excited to have this phone. This phone has the real power unlike the android phones having SD 855 . The battery life is very good and the camera quality is excellent as comapred to redmi and other phones except google pixel. I M enjoying every single bit of it. Would recommed only if you have the budget.', 'I was using Iphone 6s and also Oneplus 6t. Both mobiles were perfectly alright in Photos, gaming, and smooth interface . My 6s mobile getting battery issue. thought upgrade to 11. Really like this mobile of its Internal storage (compare to 6s) , camera and its touch feeling. Its a worth buying mobile for me.', 'Its Very awesome product working and good camera quality and all about best product and also flipkart is very great deal and offer nice price', 'I am using this phone for 5 days and its one of the best camera out there ❤️ the screen is not oled and i am coming from iphone xs so its little bit not up to the mark i would say\\nBut overall value for money💕😍the battery back up is far better than my iphone xs and its worth in my apple ecosystem💫❤️if u are an apple User and have the eco system then go for it❤️though i will be getting the new iphone but its pretty good💫', 'Best and amazing product.....phone looks so premium.... battary is also good as expected .... Wide angle camera is so addictive ...if you are a IOS lover....then this phone will be the best choice for you all!!💯🔥', 'Excellent camera and display touching very nice and smooth very improvement against iPhone XR and new processor is very fast', \"I got this beast today. And I must say the picture quality of its camera is awesome. Both the cameras works fine.\\n\\nAs for as the processing is concerned, it runs without any lag. You can play and do whatever you want without a glitch.\\n\\nThe battery runs for a day with medium and high workload.\\n\\nThe display is good and the speakers are working fine.\\n\\nThe earphones doesn't have any base and you can use it for calling mostly.\\n\\nThe charging time is approximately for 90 minutes for full charging...\\nREAD MORE\", 'Awesome purchase. Amazing phone with good battery backup. It’s a top notch device. White colour looks amazing. Phone has a few extra feature than iPhone XR. Overall, this is value for money', 'Always love the apple products, upgraded from old iPhone 6S plus to this after having my first baby. I just love to click baby’s photos with it. Overall I just love this phone. Battery back up is okay, sound quality is good. Haven’t tested yet waterproof yet. Only one thing I hate is apple could have given charger & headphones in box.']\n"
     ]
    },
    {
     "name": "stdout",
     "output_type": "stream",
     "text": [
      "['5', '5', '5', '5', '4', '5', '5', '5', '4']\n",
      "['Perfect product!', 'Very poor', 'Fabulous!', 'Excellent', 'Must buy!', 'Value-for-money', 'Best in the market!', 'Brilliant', 'Terrific purchase']\n",
      "['Value for money\\n5 star rating\\nExcellent camera\\nBattery backup full day in single charge.\\n\\nTougher and water resistant design, glossy back.\\nThe screen has excellent brightness and contrast.\\nApple A13 Bionic is the fastest smartphone chip on the planet.\\nExcellent battery life, fast charging support.\\nStereo speakers with great quality.', 'Please DONT buy from here,\\n\\nI purchased Apple iPhone 11. with an exchange of IPhone 7, the exchange did not go well, iPhone 7 had a small scratch out side screen which i could never identify till date, but the FLIPKART person could, so he reduced 50% from exchange rate. I decided not to trade in, but paid money.\\n\\niPhone 11 Detail Below\\n---------------------------------------------\\nIt came with no charging, then i have put for charging, it took lot of time for charging, the phone also showe...\\nREAD MORE', 'awesome phone to have. it has got many smart features apart from mind blowing looks, camera, display, battery and sound. have fallen in love with this phone. must buy phone if you have got enough money. thanks to flipkart and apple of course..', 'Its a fabulous mobile look awesome performance unbeaten camera like dslr battery good i think this is a beast of mobile', 'Dear friends... I want to share my experience with you about this amazing I phone 11....this is my first iPhone and special things about this mobile is it has great camera, battery backup and awesome display.... I mean everything is perfect.loved it 👍👍👍', \"Just got this iphone 11\\nAnd it is most powerful mobile phone I have used ever\\n\\nSo,go for it if you want a phone with best specification like camera,battery backup,display, A13 bionic chip\\n\\nThat's my review about this phone but yours can be differ from me....\", \"The best all rounder iphone. Flipkart is doing a great job. They're delivery services are blazing fast. I got delivery on the same day. Genuine Apple Product. Working great. Talking about review There's no need of review for iphones. They're simply the best.\", 'Amazing phone and on great deal I received with super fast delivery by Flipkart...', 'finally an iPhone with very nice battery backup. update from iPhone 7 and happy to have it. camera is not up to the mark in low light but overall a recommended phone if your budget allows 😀']\n",
      "['5', '5', '5', '4', '5', '5', '5', '5', '5']\n",
      "['Best in the market!', 'Perfect product!', 'Awesome', 'Value-for-money', 'Just wow!', 'Worthless', 'Super!', 'Classy product', 'Must buy!']\n",
      "['Damn this phone is a blast . Upgraded from android to ios and is a duperb experience. Battery backup is top notch and display also pretty good', 'Worth the money’ starting first from its performance it beats out all phones , second the smoothness of camera is awesome, contrast ratio is much than expected. Price will not matter if u r a quality person, if not other phones are available with better discount', 'I dreamt about this day from a long time.... Getting an iPhone with my own money.... Super happy and worth spending every penny', \"I'm Really happy with the product\\nDelivery was fast as well\\n..it was a gift for my sister and she loved it so much.\", 'Great iphone.\\nI am writing this review after 2 months of usage.\\nCamera is excellent, especially the nightmode\\nDisplay perfect\\nBattery backup awesome\\nSound quality very good\\nOverall Apple gives you a perfect iphone in this range.\\nReally in love with iPhone 11', \"Phone is awesome no doubt. But Camera & Display is not great. Performance is mind blowing.\\nBut the phone is heating too much when charging or when you regularly used. It's experience after using 1 week. It's heating extrem when I play PUBG for 30 minutes.\\nGo for iPhone 11 pro or 12. Otherwise go for Android phone you will get much better phone in less price.\", 'Did an upgrade from 6s plus to iphone 11.\\nAo far the experience is well and good. Felt smoother than 6s plus. The camera quality is superb. Battery backup is descent. Not a heavy user, and gets power more than a day. Go for it if you need an alrounder iphone in a competitve price.', 'Gifted my man on his 30th birthday 🎂 He loves it.. Him happy so i am more than happy 😍😘❤️🥰', 'I rate this product 5* as it has got amazing user experience with the best performing A13 bionic processor. The screen responds and graphics rendering is top notch. With casual gaming and internet browsing, the battery lasts for approx. 1 day. Camera is very good. You will fall in love with the portrait mode. You can call me a loyal Apple customer or whatever but I won’t stop praising the products and overall experience. That user experience matters and is worth every penny you pay.\\n\\nBelow ar...\\nREAD MORE']\n",
      "['4', '5', '5', '5', '5', '5', '5', '5', '5', '5']\n",
      "['Nice product', 'Mind-blowing purchase', 'Wonderful', 'Terrific', 'Excellent', 'Mind-blowing purchase', 'Highly recommended', 'Worth every penny', 'Fabulous!', 'Brilliant']\n",
      "[\"If you are looking for a premium phone under 55k, this is the one for you.Got the iPhone 11 during the Republic day sale. Performance is top notch in this price range. Camera's do a perfect job in taking good quality photos and videos. Battery backup too is satisfactory. Writing this review after using for a week. Any further observations would be updated.\", 'awesome Phone Smooth Touch Too good Sexyy looks one word Awesome', 'Super and marvellous phone look very cute and nice sound. I love this phone i think white is good colur.Excellent camer 5*😍😘♥️♥️', 'I bought iPhone 11 On March 2021, And I am Writing this review after using the phone for 4 Months. I would Say Everything is fine, Top Performance, Nice Camera as Anyone would Expect from any series of iPhone but when the Question comes to Battery it is complicated. The Battery is fully optimised and it comes 3110 mAh capacity but the problem is with the charger. Honestly Apple Removed charger from in Box items in the name of Environment and they are also forcing us to buy any 20W PD 3rd part...\\nREAD MORE', \"Just go for it.\\nThis phone is really amazing. I ordered it for my wife and we click photos on this thing which are better than dslr. I own OnePlus 6t but it's camera sucks. iPhone is really amazing when it comes to camera. It's worth spending 50k on this. Cons- only display is lcd. While using u don't feel it but if u compare with other phone then u can see difference quite easily.\\nChanging from Android to iphone is bit difficult coz most of things u don't know but I liked it. Some of the a...\\nREAD MORE\", 'Absolutely powerful gadget. Loved it’s look! Soo glassy and classy. I would definitely recommend this model of Apple. Only disappointed with the 5W charger, one should purchase an 18W adapter for fast charging. Though battery backup is great. Bought it in September 2020, reviewing after so long so I’m gonna put the genuine review here.✅', 'Thanks Flipkart For this amazing deal! I had a dream of owning a iphone since i had known about.\\nIm very happy with my purchase & it is totally worth it.\\nAmazing experience all over !!\\n\\nAnyone who’s thinking of buying it in 2021, i would simply say go for it without any second thoughts ❤️', 'Here is the thing\\n\\nThe only reason why you should buy this phone is for the camera, iOS, and if you have headaches looking at AMOLED display.\\n\\nI’m not an avid gamer but watch a lot of movies on smartphone. However, my migraine attacks increased considerably after using AMOLED Smartphone. That’s why I made a calculated decision to buy iPhone 11. It has the best LCD display and the blacks, though not as natural as an AMOLED, is better than some of the other smartphones.\\n\\nAdding to this the ste...\\nREAD MORE', 'Everything is perfect pictures come out so clearly and at first I wasn’t sure when I got it then when I started to use it and get the hang of it it was amazing!! I can’t wait to see what the next future phones will be like. The screen display on this bad boy are unbelievable they are so clear and never fail me. The performance is super cool there is a lot of cool features as well I like this phone because I feel that it is easy to use and one of my favorite things about this phone is the Face...\\nREAD MORE', 'A wort full value for money decision it’s . Simply go for it in 2021 its still a good decision . Awesome camera , Super smothered performance, Heck of build quality. And Most important it protects your privacy.']\n"
     ]
    },
    {
     "name": "stdout",
     "output_type": "stream",
     "text": [
      "['5', '4', '5', '5', '5', '5', '5', '5', '5', '3']\n",
      "['Worth every penny', 'Pretty good', 'Fabulous!', 'Mind-blowing purchase', 'Excellent', 'Super!', 'Just wow!', 'Terrific purchase', 'Awesome', 'Decent product']\n",
      "['Undoubtedly Iphone 11 is the most successful model till now and its performance is extraordinary and the security features are very impressive, display is more vibrant sound quality Camera Quality 5*****, but Iphone should add accessories too and act like scrooge.', \"I've used this phone for over a month now and here are my takeaways.\\nI would like to first talk about the best things about this phone and then the cons of it.\\n\\nPros:\\nThis phone is a performance beast. It handles large games and applications effortlessly and you won't find any stutters or lags while playing graphic intensive games like pubg, cod , mortal kombat and asphalt.\\n\\nThis phone has only 4gb ram and yet the ram management is amazing, it can keep 3 heavy games in memory without reload...\\nREAD MORE\", 'I purchased the iPhone 11 a month back. I must say Apple has impressed me yet again . I have been an Apple user for past 5 years . The phone is power packed with amazing features . What impressed me the most was the battery backup the phone offers . Battery can easily run upto 1.5 days in single charge with moderate to\\nHeavy usage . If you’re looking for a value for money device , I don’t see any other phone in the price range which can match the iPhone 11 .\\nOne thing I didn’t like was that ...\\nREAD MORE', 'Excellent camera 📸 And Display touching very Nice And Smooth and very improvement against\\nI phone 11 and new processor is very fast', 'A perfect phone and a good battery super camera and the sound is dynamic overall the phone is perfect for upgrading from lower iPhone model to iPhone 11', 'This is my first ever iPhone.\\nAnd I truly don’t regret switching to IOS from my Android.\\n\\nIt is easily an alternative to a DSLR camera.\\nIf you’re obsessed with photos and videos, just don’t think twice or don’t compare to other androids(Samsung S10 lite or OnePlus 8/8T), as it’s far better from them in every field.\\nComparing will only make you confused.\\n\\nI am getting an average Screen on Time of around 10 hours with 30 percent left. I haven’t let my device discharged below 30 % as it aff...\\nREAD MORE', 'The ultimate performance\\nCamera is superb\\nThe battery backup also very good i never saw iphone gives this much of battery backup\\nIf any one wana buy iphone 11 definitely i will recommend this mobile\\nIt has the better battery and powerfull processer peak performance glorious camera and the display also 100% high quality lcd display if u had money for for 12 if u dont wana invest much money on that then go for iphone 11 it has maximum same specs only main difference between the 12 and 11 is...\\nREAD MORE', 'I use a Note10+ and have been using both iOS and Android devices.\\n\\nCamera has really good features and portraits are super good, better than Samsung flagship. Overall camera setup can still be enhanced and hopeful for better upgrades on software in next release\\n\\nOperating system is quite a breeze and user experience of daily usage is very high as compared to Android. I moved to iOS very swiftly in 2 days for all my office work from Note10+\\n\\nBattery holds up quite well with 4 hrs of call and ...\\nREAD MORE', 'The phone is completely good\\nAs far as camera Apple is king of it\\nAnd its a beast in performance\\nAnd the battery is pretty good too', 'Everything u ll like it when u use this iPhone. Simple changes only not many to lower models but it’s nice to use. Little heavy compared to previous models like 7,8']\n"
     ]
    }
   ],
   "source": [
    "# Using for loop in range(10) to scrape data from next 10 pages\n",
    "for i in range(10):\n",
    "\n",
    "# used no.2 as except page 1 code for next button is same for all other pages\n",
    "    ratings2=[]\n",
    "    review_summary2=[]\n",
    "    full_review2=[]\n",
    "    rating=driver.find_elements(By.XPATH,\"//div[@class='_3LWZlK _1BLPMq']\")\n",
    "    review=driver.find_elements(By.XPATH,\"//p[@class='_2-N8zT']\")\n",
    "    full_reviews=driver.find_elements(By.XPATH,\"//div[@class='t-ZTKy']\")\n",
    "\n",
    "    #used for loop and len function in range to iterate same no. of time.\n",
    "    for j in range(len(rating)):\n",
    "        ratings2.append(rating[j].text)\n",
    "        review_summary2.append(review[j].text)\n",
    "        full_review2.append(full_reviews[j].text)\n",
    "    print(ratings2)\n",
    "    print(review_summary2)\n",
    "    print(full_review2)\n",
    "\n",
    "    #this code for next button is same for all the pages from page 2 and clicking next button\n",
    "    next=driver.find_element(By.XPATH,\"//a[@class='_1LKTO3'][2]/span\")\n",
    "    next.click()\n",
    "    \n",
    "    # using time sleep to give gap of 2 seconds to load next page after clicking next button before scraping the data.\n",
    "    time.sleep(2)"
   ]
  },
  {
   "cell_type": "code",
   "execution_count": 89,
   "id": "64abd0eb",
   "metadata": {},
   "outputs": [],
   "source": [
    "#Adding data of page 1 with all other pages to scrape first 100 reviews\n",
    "ratings=ratings1+ratings2\n",
    "review_summary=review_summary1+review_summary2\n",
    "full_review=full_review1+full_review2"
   ]
  },
  {
   "cell_type": "code",
   "execution_count": 90,
   "id": "71432eef",
   "metadata": {},
   "outputs": [
    {
     "data": {
      "text/html": [
       "<div>\n",
       "<style scoped>\n",
       "    .dataframe tbody tr th:only-of-type {\n",
       "        vertical-align: middle;\n",
       "    }\n",
       "\n",
       "    .dataframe tbody tr th {\n",
       "        vertical-align: top;\n",
       "    }\n",
       "\n",
       "    .dataframe thead th {\n",
       "        text-align: right;\n",
       "    }\n",
       "</style>\n",
       "<table border=\"1\" class=\"dataframe\">\n",
       "  <thead>\n",
       "    <tr style=\"text-align: right;\">\n",
       "      <th></th>\n",
       "      <th>Ratings</th>\n",
       "      <th>Review summary</th>\n",
       "      <th>Full Review</th>\n",
       "    </tr>\n",
       "  </thead>\n",
       "  <tbody>\n",
       "    <tr>\n",
       "      <th>0</th>\n",
       "      <td>5</td>\n",
       "      <td>Brilliant</td>\n",
       "      <td>The Best Phone for the Money\\n\\nThe iPhone 11 ...</td>\n",
       "    </tr>\n",
       "    <tr>\n",
       "      <th>1</th>\n",
       "      <td>5</td>\n",
       "      <td>Simply awesome</td>\n",
       "      <td>Really satisfied with the Product I received.....</td>\n",
       "    </tr>\n",
       "    <tr>\n",
       "      <th>2</th>\n",
       "      <td>5</td>\n",
       "      <td>Perfect product!</td>\n",
       "      <td>Amazing phone with great cameras and better ba...</td>\n",
       "    </tr>\n",
       "    <tr>\n",
       "      <th>3</th>\n",
       "      <td>5</td>\n",
       "      <td>Worth every penny</td>\n",
       "      <td>Previously I was using one plus 3t it was a gr...</td>\n",
       "    </tr>\n",
       "    <tr>\n",
       "      <th>4</th>\n",
       "      <td>5</td>\n",
       "      <td>Best in the market!</td>\n",
       "      <td>Great iPhone very snappy experience as apple k...</td>\n",
       "    </tr>\n",
       "    <tr>\n",
       "      <th>5</th>\n",
       "      <td>5</td>\n",
       "      <td>Fabulous!</td>\n",
       "      <td>This is my first iOS phone. I am very happy wi...</td>\n",
       "    </tr>\n",
       "    <tr>\n",
       "      <th>6</th>\n",
       "      <td>5</td>\n",
       "      <td>Great product</td>\n",
       "      <td>Amazing Powerful and Durable Gadget.\\n\\nI’m am...</td>\n",
       "    </tr>\n",
       "    <tr>\n",
       "      <th>7</th>\n",
       "      <td>4</td>\n",
       "      <td>Good choice</td>\n",
       "      <td>So far it’s been an AMAZING experience coming ...</td>\n",
       "    </tr>\n",
       "    <tr>\n",
       "      <th>8</th>\n",
       "      <td>5</td>\n",
       "      <td>Worth every penny</td>\n",
       "      <td>i11 is worthy to buy, too much happy with the ...</td>\n",
       "    </tr>\n",
       "    <tr>\n",
       "      <th>9</th>\n",
       "      <td>5</td>\n",
       "      <td>Highly recommended</td>\n",
       "      <td>iphone 11 is a very good phone to buy only if ...</td>\n",
       "    </tr>\n",
       "    <tr>\n",
       "      <th>10</th>\n",
       "      <td>5</td>\n",
       "      <td>Worth every penny</td>\n",
       "      <td>Undoubtedly Iphone 11 is the most successful m...</td>\n",
       "    </tr>\n",
       "    <tr>\n",
       "      <th>11</th>\n",
       "      <td>4</td>\n",
       "      <td>Pretty good</td>\n",
       "      <td>I've used this phone for over a month now and ...</td>\n",
       "    </tr>\n",
       "    <tr>\n",
       "      <th>12</th>\n",
       "      <td>5</td>\n",
       "      <td>Fabulous!</td>\n",
       "      <td>I purchased the iPhone 11 a month back. I must...</td>\n",
       "    </tr>\n",
       "    <tr>\n",
       "      <th>13</th>\n",
       "      <td>5</td>\n",
       "      <td>Mind-blowing purchase</td>\n",
       "      <td>Excellent camera 📸 And Display touching very N...</td>\n",
       "    </tr>\n",
       "    <tr>\n",
       "      <th>14</th>\n",
       "      <td>5</td>\n",
       "      <td>Excellent</td>\n",
       "      <td>A perfect phone and a good battery super camer...</td>\n",
       "    </tr>\n",
       "    <tr>\n",
       "      <th>15</th>\n",
       "      <td>5</td>\n",
       "      <td>Super!</td>\n",
       "      <td>This is my first ever iPhone.\\nAnd I truly don...</td>\n",
       "    </tr>\n",
       "    <tr>\n",
       "      <th>16</th>\n",
       "      <td>5</td>\n",
       "      <td>Just wow!</td>\n",
       "      <td>The ultimate performance\\nCamera is superb\\nTh...</td>\n",
       "    </tr>\n",
       "    <tr>\n",
       "      <th>17</th>\n",
       "      <td>5</td>\n",
       "      <td>Terrific purchase</td>\n",
       "      <td>I use a Note10+ and have been using both iOS a...</td>\n",
       "    </tr>\n",
       "    <tr>\n",
       "      <th>18</th>\n",
       "      <td>5</td>\n",
       "      <td>Awesome</td>\n",
       "      <td>The phone is completely good\\nAs far as camera...</td>\n",
       "    </tr>\n",
       "    <tr>\n",
       "      <th>19</th>\n",
       "      <td>3</td>\n",
       "      <td>Decent product</td>\n",
       "      <td>Everything u ll like it when u use this iPhone...</td>\n",
       "    </tr>\n",
       "  </tbody>\n",
       "</table>\n",
       "</div>"
      ],
      "text/plain": [
       "   Ratings         Review summary  \\\n",
       "0        5              Brilliant   \n",
       "1        5         Simply awesome   \n",
       "2        5       Perfect product!   \n",
       "3        5      Worth every penny   \n",
       "4        5    Best in the market!   \n",
       "5        5              Fabulous!   \n",
       "6        5          Great product   \n",
       "7        4            Good choice   \n",
       "8        5      Worth every penny   \n",
       "9        5     Highly recommended   \n",
       "10       5      Worth every penny   \n",
       "11       4            Pretty good   \n",
       "12       5              Fabulous!   \n",
       "13       5  Mind-blowing purchase   \n",
       "14       5              Excellent   \n",
       "15       5                 Super!   \n",
       "16       5              Just wow!   \n",
       "17       5      Terrific purchase   \n",
       "18       5                Awesome   \n",
       "19       3         Decent product   \n",
       "\n",
       "                                          Full Review  \n",
       "0   The Best Phone for the Money\\n\\nThe iPhone 11 ...  \n",
       "1   Really satisfied with the Product I received.....  \n",
       "2   Amazing phone with great cameras and better ba...  \n",
       "3   Previously I was using one plus 3t it was a gr...  \n",
       "4   Great iPhone very snappy experience as apple k...  \n",
       "5   This is my first iOS phone. I am very happy wi...  \n",
       "6   Amazing Powerful and Durable Gadget.\\n\\nI’m am...  \n",
       "7   So far it’s been an AMAZING experience coming ...  \n",
       "8   i11 is worthy to buy, too much happy with the ...  \n",
       "9   iphone 11 is a very good phone to buy only if ...  \n",
       "10  Undoubtedly Iphone 11 is the most successful m...  \n",
       "11  I've used this phone for over a month now and ...  \n",
       "12  I purchased the iPhone 11 a month back. I must...  \n",
       "13  Excellent camera 📸 And Display touching very N...  \n",
       "14  A perfect phone and a good battery super camer...  \n",
       "15  This is my first ever iPhone.\\nAnd I truly don...  \n",
       "16  The ultimate performance\\nCamera is superb\\nTh...  \n",
       "17  I use a Note10+ and have been using both iOS a...  \n",
       "18  The phone is completely good\\nAs far as camera...  \n",
       "19  Everything u ll like it when u use this iPhone...  "
      ]
     },
     "execution_count": 90,
     "metadata": {},
     "output_type": "execute_result"
    }
   ],
   "source": [
    "#making dataframe to arrange the scrapped data systematically \n",
    "df=pd.DataFrame(list(zip(ratings[0:100],review_summary[0:100],full_review[0:100])),columns=[\"Ratings\",\"Review summary\",\"Full Review\"])\n",
    "df[0:100]"
   ]
  },
  {
   "cell_type": "markdown",
   "id": "d3249680",
   "metadata": {},
   "source": [
    "Ans 6. Python program to scrape data for first 100 Sneakers you find when you visit flipkart.com and search for sneakers in search field:-"
   ]
  },
  {
   "cell_type": "code",
   "execution_count": 91,
   "id": "04764902",
   "metadata": {},
   "outputs": [],
   "source": [
    "#Importing all required libraries for program\n",
    "import selenium\n",
    "import pandas as pd\n",
    "from selenium import webdriver\n",
    "from selenium.webdriver.chrome.service import Service\n",
    "from selenium.webdriver.common.by import By\n",
    "\n",
    "ser=Service (\"C:\\\\Users\\\\amitt\\\\Downloads\\\\chromedriver_win32\\\\chromedriver.exe\")\n",
    "driver=webdriver.Chrome (service = ser)"
   ]
  },
  {
   "cell_type": "code",
   "execution_count": 92,
   "id": "02d78fa5",
   "metadata": {},
   "outputs": [],
   "source": [
    "#opening required webpage to scrape data\n",
    "driver.get(\"Https://www.flipkart.com\")"
   ]
  },
  {
   "cell_type": "code",
   "execution_count": 93,
   "id": "3931ee26",
   "metadata": {},
   "outputs": [],
   "source": [
    "#closing the popup page which opens when we open flipkart.com\n",
    "close_popup=driver.find_element(By.XPATH,\"//button[@class='_2KpZ6l _2doB4z']\")\n",
    "close_popup.click()"
   ]
  },
  {
   "cell_type": "code",
   "execution_count": 94,
   "id": "a548f11b",
   "metadata": {},
   "outputs": [],
   "source": [
    "import time\n",
    "# searching for sneakers by typing sneakers in search box and clicking search button\n",
    "s_field=driver.find_element(By.XPATH,\"//input[@class='_3704LK']\")\n",
    "s_field.send_keys(\"sneakers\")\n",
    "#using time sleep(2) to give gap of 2 seconds\n",
    "time.sleep(2)\n",
    "# clicking search button\n",
    "search_button=driver.find_element(By.XPATH,\"//button[@class='L0Z3Pu']\")\n",
    "search_button.click()"
   ]
  },
  {
   "cell_type": "code",
   "execution_count": 95,
   "id": "44c5f90b",
   "metadata": {},
   "outputs": [
    {
     "name": "stdout",
     "output_type": "stream",
     "text": [
      "['TR', 'BIRDE', 'Numenzo', 'D-SNEAKERZ', 'CALCADOS', 'Magnolia', 'Numenzo', 'Jabra', 'BRUTON', 'Robbie jones', 'FOOTGRAB', 'Extoes', 'Arohi', 'BIRDE', 'Wlinzak', 'CALCADOS', 'PACIFIER', 'Robbie jones', 'T-ROCK', 'Chevit', 'Labbin', 'Clymb', 'Kreverse', 'PUMA', 'Kraasa', 'SPARX', 'Robbie jones', 'aadi', 'Robbie jones', 'HOC', 'Shoes Bank', 'Chevit', 'Robbie jones', 'Rzisbo', 'BRUTON', 'Woodage', 'Robbie jones', 'RapidBox', 'BRUTON', 'Jabra']\n",
      "['Sneakers For Men', 'Trendy Casual Shoes Sneakers For Men', 'Sneakers For Men', \"Casual , Partywear Sneakers Shoes For Men's And Boys Wh...\", 'Modern Trendy Shoes Combo pack of 4 Sneakers For Men', 'Sneakers For Men', 'Numenzo Black Sneaker For Men Sneakers For Men', 'Perfect Sports Shoes for Running Training Hiking Footba...', 'Modern & Trendy Collection Combo Pack of 02 Shoes for M...', 'Casual Sneakers Shoes For Men Sneakers For Men', 'White Boots || High Tops || Sneakers For Men', 'Relaxed Attractive Combo pack of 4 Sneakers For Men', 'Sneakers For Men', 'Sports Running Shoes Sneakers For Men', 'Sneakers For Men', 'Relaxed Attractive Combo pack of 4 Sneakers For Men', 'Sneakers For Men', 'Sneakers For Men', 'Synthetic Leather Casual Partywear Wedding Sneakers Sho...', 'Speed Set of 5 Pairs Sneakers Outdoors Casuals for Men ...', 'Casual Sneakers White Shoes For Men And Boys Sneakers F...', 'Mesh Sports/Walking Shoes/Outdoor Ultra Lightweight Run...', 'Sneakers For Men', 'Star IDP Sneakers For Men', 'Series 7 Sneakers For Men', 'Men White Sneakers Sneakers For Men', 'Sneakers For Men', 'Sneakers For Men', 'Sneakers For Men', 'Luxury Fashionable Breathable Casual Sneakers Shoes For...', \"White Sneaker For Men's/Boy's Sneakers For Men\", 'Super Stylish & Trendy Combo Pack of 02 Pairs Sneakers ...', 'Sneakers For Men', 'Sneakers For Men', 'Combo Pack Of 2 Latest Stylish Casual Shoes for Men Lac...', 'Sneakers For Men', 'Casual Sneakers Green Shoes For Men And Boys Sneakers F...', 'Sneakers For Men', 'Modern Trendy Sneakers Shoes Sneakers For Men', 'Outdoor Sports Running Shoes For Mens Sneakers For Men']\n",
      "['₹599', '₹299', '₹479', '₹348', '₹899', '₹398', '₹499', '₹259', '₹474', '₹399', '₹649', '₹698', '₹458', '₹299', '₹499', '₹699', '₹499', '₹499', '₹399', '₹899', '₹399', '₹259', '₹245', '₹1,499', '₹499', '₹674', '₹499', '₹473', '₹499', '₹449', '₹345', '₹699', '₹499', '₹549', '₹592', '₹599', '₹499', '₹640', '₹299', '₹259']\n"
     ]
    }
   ],
   "source": [
    "#Scraping Brand, Product Description & Price for first 100 sneakers\n",
    "brand=[]\n",
    "product_desc=[]\n",
    "price=[]\n",
    "b_name=driver.find_elements(By.XPATH,\"//div[@class='_2WkVRV']\")\n",
    "p_desc=driver.find_elements(By.XPATH,\"//div[@class='_2B099V']/a[1]\")\n",
    "pr=driver.find_elements(By.XPATH,\"//div[@class='_30jeq3']\")\n",
    "\n",
    "#Using loop with for loop and len function to iterate equal data\n",
    "for j in range(len(b_name)):\n",
    "    brand.append(b_name[j].text)\n",
    "    product_desc.append(p_desc[j].text)\n",
    "    price.append(pr[j].text)\n",
    "print(brand)\n",
    "print(product_desc)\n",
    "print(price)\n",
    "\n",
    "# code to click next button to reach next page and scrape data on next page.\n",
    "next_b=driver.find_element(By.XPATH,\"//a[@class='_1LKTO3']/span\")\n",
    "next_b.click()"
   ]
  },
  {
   "cell_type": "code",
   "execution_count": 96,
   "id": "4b4eb6d7",
   "metadata": {},
   "outputs": [
    {
     "name": "stdout",
     "output_type": "stream",
     "text": [
      "['India hub', 'BRUTON', 'Robbie jones', 'Durcus', 'BRUTON', 'RapidBox', 'SPARX', 'Jabra', 'Chevit', 'BRUTON', 'RODDICK SHOES', 'PUMA', 'mannu', 'Jabra', 'Kraasa', 'CALCADOS', 'Stefano Rads', 'HOC', 'luxury fashion', 'Woodage', 'STRANGER BROTHERS', 'mannu', 'High Steps', 'Woodage', 'PEHANOSA', 'ganpati traders', 'HRX by Hrithik Roshan', 'PUMA', 'LuvShus', 'D-SNEAKERZ', 'Chevit', \"Neeman's\", 'believe', 'BIRDE', 'zovim', 'Extoes', 'RODDICK SHOES', 'BIRDE', 'Lee Won', 'Jabra']\n",
      "['Fashionable casual sneakers shoes Sneakers For Men', 'Combo Pack Of 2 Latest Stylish Casual Shoes for Men Lac...', 'Casual Sneakers Green Shoes For Men And Boys Sneakers F...', 'Sneakers For Men', 'Modern Trendy Sneakers Shoes Sneakers For Men', 'Sneakers For Men', 'Canvas Casual Partywear Outdoor Sneakers Shoes For Mens...', 'Sneakers For Men', 'Perfect & Affordable Combo Pack of 02 Pairs Sneakers Ou...', 'Combo Pack Of 4 Casual Shoes Loafer Shoes Sneakers For ...', 'Fashion Outdoor Canvas Casual Light Weight Lace-up Even...', 'Serve Pro Lite Sneakers For Men', 'Luxury Fashionable Breathable Casual Sneakers Shoes For...', 'Perfect Sports Shoes for Running Training Hiking Footba...', 'Shark-41 Sneakers For Men', 'Trendy Fashion Combo Pack of 2 Sneakers For Men', 'Classy Sneakers For Men', 'Luxury Fashionable Breathable White shoes for men Sneak...', 'New Collection Pair of Stylish Shoe Sneakers For Men', 'Sneakers For Men', 'Sneakers For Men', 'High-end PU Sneakers Fashion CasualSports comfortable B...', 'Casual Canvas Chain Sneakers Canvas Sneakers For Men', 'Sneakers For Men', 'Sneaker for men Sneakers For Men', 'Sneakers For Men', 'Sports Shoes Sneakers For Men', 'one8 Prime Mid V3 Sneakers For Men', 'Men Casual Shoe New Trend With Fashion Panda Desgined L...', \"Casual , Partywear Sneakers Shoes For Men's And Boys Wh...\", 'Smart Casuals Canvas Shoes Combo pack of 2 Sneakers For...', 'Sneakers For Men', 'Sneakers for men(black_6) Sneakers For Men', 'Birde Trendy Casual Shoes Sneakers For Men', 'jeans shoes for men boy Sneakers For Men', 'Relaxed Attractive Combo pack of 3 Sneakers For Men', 'Fashion Outdoor Canvas Casual Light Weight Lace-up Even...', 'Trendy Casual Shoes Sneakers For Men', 'FASHION Sneakers For Men', 'Sneakers For Men']\n",
      "['₹499', '₹592', '₹499', '₹699', '₹299', '₹640', '₹689', '₹474', '₹599', '₹666', '₹474', '₹4,049', '₹429', '₹259', '₹499', '₹498', '₹242', '₹449', '₹499', '₹599', '₹429', '₹429', '₹449', '₹599', '₹499', '₹225', '₹1,139', '₹2,399', '₹442', '₹384', '₹399', '₹2,399', '₹499', '₹299', '₹459', '₹729', '₹474', '₹299', '₹331', '₹259']\n",
      "['India hub', 'SPARX', 'ASIAN', 'PUMA', 'DRESTA', 'BIRDE', 'Absolute comfort', 'PUMA', 'FEWROK', 'PEXLO', 'BIRDE', 'PUMA', 'SCATCHITE', 'EZBRA', 'Chevit', 'PUMA', 'KNIGHT WALKERS', 'FEWROK', 'RODDICK SHOES', 'PUMA', 'bluemaker', 'ASIAN', 'Echor', 'Jabra', 'bluemaker', 'Robbie jones', 'PUMA', 'PUMA', 'India hub', 'SPARX', 'Old Skool', 'PUMA', 'FOOTGRAB', 'PUMA', 'PUMA', 'PUMA', 'SHOELAMB', 'URBANBOX', 'SPARX', 'PUMA']\n",
      "['Sneakers For Men', 'SM-322 Sneakers For Men', 'Skypy-31 Walking Shoes,Training Shoes,Sneakers,Loafers,...', 'PUMA X 1DER KL RAHUL Sneakers For Men', \"Original Luxury Branded Fashionable Men's Casual Walkin...\", 'Sneakers For Men', 'SOFT Sneakers For Men', 'Puma Smash Vulc Sneakers For Men', 'Premium quality Sneakers For Men', \"Men's Casual Shoes Combo Pack of 02 Sneakers For Men\", 'Birde Trendy Casual Shoes Sneakers For Men', 'Puma Smash Vulc Sneakers For Men', 'Sneakers For Men', 'Sneakers For Men', '516 Sneakers For Men', 'Vikky v2 Sneakers For Men', 'Sneakers For Men', 'Premium quality Sneakers For Men', 'Fashion Outdoor Canvas Casual Light Weight Lace-up Even...', 'Vikky v2 Sneakers For Men', 'casual for men (beige 06) Sneakers For Men', 'Skypy-31 Walking Shoes,Training Shoes,Sneakers,Loafers,...', \"Men's Sneakers Walking Shoes - Lightweight Classic Whit...\", 'Boxer Black Sneakers For Men', 'casual for men (blue 06) Sneakers For Men', 'Sneakers For Men', 'Neptune IDP Sneakers For Men', 'Zap IDP Sneakers For Men', 'Fashionable sneaker casual shoes Sneakers For Men', 'SD-323 Sneakers For Men', 'ERA CLASSIC BLACK - WHITE Sneakers For Men', 'Puma Smash v2 Sneakers For Men', 'Walking || Dancing || Outdoors || Boots || Sneakers For...', 'Lazy Knit Slip On IDP Sneakers For Men', 'Puma Wired Cage Sneakers For Men', 'Smash Vulc Canvas Sneakers For Men', \"Men's Olive Green Casual Walking Running Sneaker Shoe S...\", 'STYLISH-WHITE-9 Sneakers For Men', 'SM-162 Sneakers For Men', 'Graviton Sneakers For Men']\n",
      "['₹499', '₹882', '₹399', '₹3,149', '₹499', '₹259', '₹166', '₹2,170', '₹499', '₹619', '₹299', '₹2,849', '₹398', '₹343', '₹347', '₹2,359', '₹599', '₹429', '₹474', '₹2,389', '₹499', '₹399', '₹499', '₹237', '₹499', '₹499', '₹1,599', '₹2,069', '₹499', '₹637', '₹1,690', '₹2,389', '₹649', '₹1,259', '₹1,719', '₹2,389', '₹699', '₹166', '₹803', '₹3,285']\n"
     ]
    }
   ],
   "source": [
    "#Scraping rest of data from next 2 pages(41-100)\n",
    "#using for loop to scrape data from 2 pages, page 2 and 3\n",
    "for i in range(2):\n",
    "    # scraping brand, product description and price from page 2 and 3\n",
    "    brand1=[]\n",
    "    product_desc1=[]\n",
    "    price1=[]\n",
    "    b_name=driver.find_elements(By.XPATH,\"//div[@class='_2WkVRV']\")\n",
    "    p_desc=driver.find_elements(By.XPATH,\"//div[@class='_2B099V']/a[1]\")\n",
    "    pr=driver.find_elements(By.XPATH,\"//div[@class='_30jeq3']\")\n",
    "    #using for loop with len function to iterate same no. of times\n",
    "    for j in range(len(pr)):\n",
    "        brand1.append(b_name[j].text)\n",
    "        product_desc1.append(p_desc[j].text)\n",
    "        price1.append(pr[j].text)\n",
    "    print(brand1)\n",
    "    print(product_desc1)\n",
    "    print(price1)\n",
    "    \n",
    "    #code for next button is same for all pages from page 2\n",
    "    next_but=driver.find_element(By.XPATH,\"//a[@class='_1LKTO3'][2]/span\")\n",
    "    next_but.click()\n",
    "    #using time.sleep(2) to give gap of 2 seconds to load next page\n",
    "    time.sleep(4)"
   ]
  },
  {
   "cell_type": "code",
   "execution_count": 97,
   "id": "b83e0476",
   "metadata": {},
   "outputs": [
    {
     "data": {
      "text/html": [
       "<div>\n",
       "<style scoped>\n",
       "    .dataframe tbody tr th:only-of-type {\n",
       "        vertical-align: middle;\n",
       "    }\n",
       "\n",
       "    .dataframe tbody tr th {\n",
       "        vertical-align: top;\n",
       "    }\n",
       "\n",
       "    .dataframe thead th {\n",
       "        text-align: right;\n",
       "    }\n",
       "</style>\n",
       "<table border=\"1\" class=\"dataframe\">\n",
       "  <thead>\n",
       "    <tr style=\"text-align: right;\">\n",
       "      <th></th>\n",
       "      <th>Brands</th>\n",
       "      <th>Product Description</th>\n",
       "      <th>Price</th>\n",
       "    </tr>\n",
       "  </thead>\n",
       "  <tbody>\n",
       "    <tr>\n",
       "      <th>0</th>\n",
       "      <td>TR</td>\n",
       "      <td>Sneakers For Men</td>\n",
       "      <td>₹599</td>\n",
       "    </tr>\n",
       "    <tr>\n",
       "      <th>1</th>\n",
       "      <td>BIRDE</td>\n",
       "      <td>Trendy Casual Shoes Sneakers For Men</td>\n",
       "      <td>₹299</td>\n",
       "    </tr>\n",
       "    <tr>\n",
       "      <th>2</th>\n",
       "      <td>Numenzo</td>\n",
       "      <td>Sneakers For Men</td>\n",
       "      <td>₹479</td>\n",
       "    </tr>\n",
       "    <tr>\n",
       "      <th>3</th>\n",
       "      <td>D-SNEAKERZ</td>\n",
       "      <td>Casual , Partywear Sneakers Shoes For Men's An...</td>\n",
       "      <td>₹348</td>\n",
       "    </tr>\n",
       "    <tr>\n",
       "      <th>4</th>\n",
       "      <td>CALCADOS</td>\n",
       "      <td>Modern Trendy Shoes Combo pack of 4 Sneakers F...</td>\n",
       "      <td>₹899</td>\n",
       "    </tr>\n",
       "    <tr>\n",
       "      <th>...</th>\n",
       "      <td>...</td>\n",
       "      <td>...</td>\n",
       "      <td>...</td>\n",
       "    </tr>\n",
       "    <tr>\n",
       "      <th>75</th>\n",
       "      <td>PUMA</td>\n",
       "      <td>Smash Vulc Canvas Sneakers For Men</td>\n",
       "      <td>₹2,389</td>\n",
       "    </tr>\n",
       "    <tr>\n",
       "      <th>76</th>\n",
       "      <td>SHOELAMB</td>\n",
       "      <td>Men's Olive Green Casual Walking Running Sneak...</td>\n",
       "      <td>₹699</td>\n",
       "    </tr>\n",
       "    <tr>\n",
       "      <th>77</th>\n",
       "      <td>URBANBOX</td>\n",
       "      <td>STYLISH-WHITE-9 Sneakers For Men</td>\n",
       "      <td>₹166</td>\n",
       "    </tr>\n",
       "    <tr>\n",
       "      <th>78</th>\n",
       "      <td>SPARX</td>\n",
       "      <td>SM-162 Sneakers For Men</td>\n",
       "      <td>₹803</td>\n",
       "    </tr>\n",
       "    <tr>\n",
       "      <th>79</th>\n",
       "      <td>PUMA</td>\n",
       "      <td>Graviton Sneakers For Men</td>\n",
       "      <td>₹3,285</td>\n",
       "    </tr>\n",
       "  </tbody>\n",
       "</table>\n",
       "<p>80 rows × 3 columns</p>\n",
       "</div>"
      ],
      "text/plain": [
       "        Brands                                Product Description   Price\n",
       "0           TR                                   Sneakers For Men    ₹599\n",
       "1        BIRDE               Trendy Casual Shoes Sneakers For Men    ₹299\n",
       "2      Numenzo                                   Sneakers For Men    ₹479\n",
       "3   D-SNEAKERZ  Casual , Partywear Sneakers Shoes For Men's An...    ₹348\n",
       "4     CALCADOS  Modern Trendy Shoes Combo pack of 4 Sneakers F...    ₹899\n",
       "..         ...                                                ...     ...\n",
       "75        PUMA                 Smash Vulc Canvas Sneakers For Men  ₹2,389\n",
       "76    SHOELAMB  Men's Olive Green Casual Walking Running Sneak...    ₹699\n",
       "77    URBANBOX                   STYLISH-WHITE-9 Sneakers For Men    ₹166\n",
       "78       SPARX                            SM-162 Sneakers For Men    ₹803\n",
       "79        PUMA                          Graviton Sneakers For Men  ₹3,285\n",
       "\n",
       "[80 rows x 3 columns]"
      ]
     },
     "execution_count": 97,
     "metadata": {},
     "output_type": "execute_result"
    }
   ],
   "source": [
    "brands=brand+brand1\n",
    "product_description=product_desc+product_desc1\n",
    "prices=price+price1\n",
    "time.sleep(2)\n",
    "# making dataframe to view data in table format\n",
    "df=pd.DataFrame(list(zip(brands[0:100],product_description[0:100],prices[0:100])),columns=[\"Brands\",\"Product Description\",\"Price\"])\n",
    "df[0:100]"
   ]
  },
  {
   "cell_type": "markdown",
   "id": "eac4a583",
   "metadata": {},
   "source": [
    "Ans 7. Python program to Scrape data of shoes from Myntra. com:-"
   ]
  },
  {
   "cell_type": "code",
   "execution_count": 98,
   "id": "46c3980d",
   "metadata": {},
   "outputs": [],
   "source": [
    "#Import all required libraries\n",
    "import selenium\n",
    "import pandas as pd\n",
    "from selenium import webdriver\n",
    "from selenium.webdriver.chrome.service import Service\n",
    "from selenium.webdriver.common.by import By\n",
    "\n",
    "ser=Service(\"C:\\\\Users\\\\amitt\\\\Downloads\\\\chromedriver_win32\\\\chromedriver.exe\")\n",
    "driver=webdriver.Chrome( service = ser)"
   ]
  },
  {
   "cell_type": "code",
   "execution_count": 99,
   "id": "5a05d801",
   "metadata": {},
   "outputs": [],
   "source": [
    "# Opening the required webpage to Scrape data\n",
    "driver.get(\"https://www.myntra.com/shoes/\")"
   ]
  },
  {
   "cell_type": "code",
   "execution_count": 100,
   "id": "99b00f73",
   "metadata": {},
   "outputs": [],
   "source": [
    "# Selecting required filter of price(did not get(“Rs. 6649 to Rs. 13099”) the filter price shown in picture so selected (Rs. 7164 to Rs. 14109)\n",
    "import time\n",
    "price_filter=driver.find_element(By.XPATH,\"//ul[@class='price-list']/li[2]/label/div\")\n",
    "price_filter.click()\n",
    "time.sleep(2)\n"
   ]
  },
  {
   "cell_type": "code",
   "execution_count": 101,
   "id": "94424600",
   "metadata": {},
   "outputs": [],
   "source": [
    "#Selecting required filter of colour black\n",
    "colour_filter=driver.find_element(By.XPATH,\"//span[@data-colorhex='black']\")\n",
    "colour_filter.text\n",
    "colour_filter.click()\n",
    "time.sleep(2)"
   ]
  },
  {
   "cell_type": "code",
   "execution_count": 102,
   "id": "76750df4",
   "metadata": {},
   "outputs": [],
   "source": [
    "# Selecting required filter of price\n",
    "\n",
    "price_filter=driver.find_element(By.XPATH,\"//ul[@class='price-list']/li[2]/label/div\")\n",
    "price_filter.click()\n",
    "time.sleep(2)\n"
   ]
  },
  {
   "cell_type": "code",
   "execution_count": 103,
   "id": "f5785fea",
   "metadata": {},
   "outputs": [
    {
     "name": "stdout",
     "output_type": "stream",
     "text": [
      "['Nike', 'Nike', 'Hush Puppies', 'Calvin Klein', 'Nike', 'Puma', 'Hush Puppies', 'Calvin Klein', 'PUMA Motorsport', 'Calvin Klein', 'Puma', 'Puma', 'Puma', 'Hush Puppies', 'ASICS', 'Calvin Klein', 'Hush Puppies', 'Puma', 'Calvin Klein', 'ASICS', 'Bugatti', 'UNDER ARMOUR', 'Hush Puppies', 'Calvin Klein', 'Saint G', 'Puma', 'PUMA Motorsport', 'Saint G', 'DAVINCHI', 'Puma', 'UNDER ARMOUR', 'Geox', 'Ruosh', 'Calvin Klein', 'Bugatti', 'J.FONTINI', 'ASICS', 'Tommy Hilfiger', 'ASICS', 'Puma', 'Geox', 'Hush Puppies', 'DAVINCHI', 'Ruosh', 'DAVINCHI', 'DAVINCHI', 'Pavers England', 'Bugatti', 'Saint G', 'Saint G']\n",
      "['Men Zoom Span 4 Running Shoes', 'Men FLIGHT LEGACY Sneakers', 'Men Solid Leather Formal Slip-Ons', 'Men Mid-Top Runner Sneakers', \"Men BlazerLow '77 Sneakers\", 'Men Deviate Nitro Running Shoe', 'Men Formal Derbys', 'Men Textured Leather Sneaker', 'Unisex FerrariRS-Fast Sneakers', 'Men Solid Low Top LTH Sneakers', 'Unisex RS-Z BP Sneakers', 'Men Running Shoes', 'Men Velocity Nitro Running', 'Men Leather Slip-On Sneakers', 'Men Black Running Sports Shoes', 'Men Solid Mid-Top Sneakers', 'Men Solid Leather Formal Derbys', 'Women Magnify Nitro Shoes', 'Men UV MONO Leather Sneakers', 'Men Running Shoes', 'Men Walking Shoes', 'Women Charged Vantage ClrShft', 'Men Solid Leather Formal Slip-Ons', 'Men Mid-Top Runner Sneakers', 'Men Mid-Top Chelsea Boots', 'Women Deviate Nitro Running', 'Unisex BMW RS-Connect Sneakers', 'Women Leather Heeled Boots', 'Ustraa black', 'Men Magnify Nitro Running', 'Women Charged Bandit 6 Running', 'Men Leather Flat Boots', 'Men Solid Leather Formal Oxfords', 'Men Solid Leather Sneakers', 'Men Leather Flat Boots', 'Men Black Leather Loafers', 'Men Colourblocked PU Sneakers', 'Women Leather Block Pumps', 'Skycourt Sneakers', 'Unisex Textured Sneakers', 'Men Leather Formal Slip-Ons', 'Men Solid Formal Slip-Ons', 'Men Textured Formal Leather Loafers', 'Men Textured Derbys', 'Men Textured Formal Leather Oxfords', 'Men Textured Leather Formal Slip-Ons', 'Men Textured Leather Formal Derbys', 'Men Solid Casual Sneakers', 'Women Leather Heeled Boots', 'Leather Kitten Heeled Boots with Buckles']\n",
      "['Rs. 7195', 'Rs. 7995', 'Rs. 8099Rs. 8999', 'Rs. 8249Rs. 10999', 'Rs. 7195', 'Rs. 11249Rs. 14999', 'Rs. 8999Rs. 9999', 'Rs. 9999', 'Rs. 7499Rs. 9999', 'Rs. 8999', 'Rs. 7499Rs. 9999', 'Rs. 8449Rs. 12999', 'Rs. 9349Rs. 10999', 'Rs. 7999Rs. 9999', 'Rs. 7999', 'Rs. 10599', 'Rs. 8999Rs. 9999', 'Rs. 9099Rs. 12999', 'Rs. 8999', 'Rs. 7999', 'Rs. 8999', 'Rs. 7999', 'Rs. 8999Rs. 9999', 'Rs. 8249Rs. 10999', 'Rs. 10900', 'Rs. 8249Rs. 14999', 'Rs. 8499Rs. 9999', 'Rs. 13900', 'Rs. 8990', 'Rs. 9099Rs. 12999', 'Rs. 8999', 'Rs. 11999', 'Rs. 13490', 'Rs. 9999', 'Rs. 8999', 'Rs. 8490', 'Rs. 9999', 'Rs. 7999', 'Rs. 7999', 'Rs. 8499Rs. 9999', 'Rs. 8999', 'Rs. 8999Rs. 9999', 'Rs. 8990', 'Rs. 7192Rs. 8990', 'Rs. 7990', 'Rs. 8990', 'Rs. 8999', 'Rs. 7199Rs. 8999', 'Rs. 11000', 'Rs. 10900']\n"
     ]
    }
   ],
   "source": [
    "#Scraping Brand,short shoe description and price of the shoe for first 100 shoes\n",
    "\n",
    "brand=[]\n",
    "s_s_desc=[]\n",
    "price=[]\n",
    "b_name=driver.find_elements(By.XPATH,\"//h3[@class='product-brand']\")\n",
    "desc=driver.find_elements(By.XPATH,\"//h4[@class='product-product']\")\n",
    "pr=driver.find_elements(By.XPATH,\"//div[@class='product-price']/span[1]\")\n",
    "#Using for loop with len function to iterate equal data\n",
    "for j in range(len(desc)):\n",
    "    brand.append(b_name[j].text)\n",
    "    s_s_desc.append(desc[j].text)\n",
    "    price.append(pr[j].text)\n",
    "print(brand)\n",
    "print(s_s_desc)\n",
    "print(price)\n",
    "\n",
    "#Clicking Next Button to reach next page to extract data\n",
    "n_button=driver.find_element(By.XPATH,\"//li[@class='pagination-next']/a\")\n",
    "n_button.click()"
   ]
  },
  {
   "cell_type": "code",
   "execution_count": 104,
   "id": "2cf5866e",
   "metadata": {},
   "outputs": [
    {
     "name": "stdout",
     "output_type": "stream",
     "text": [
      "['Saint G', 'Bugatti', 'Geox', 'Saint G', 'Saint G', 'Tommy Hilfiger', 'Sole To Soul', 'Tommy Hilfiger', 'ASICS', 'Cole Haan', 'UNDER ARMOUR', 'UNDER ARMOUR', 'Puma', 'Puma', 'Puma', 'Tommy Hilfiger', 'ASICS', 'Geox', 'Puma', 'Cole Haan', 'Cole Haan', 'Geox', 'J.FONTINI', 'J.FONTINI', 'Hush Puppies', 'KLEAT', 'J.FONTINI', 'Ruosh', 'Hush Puppies', 'ECCO', 'DAVINCHI', 'DAVINCHI', 'Tommy Hilfiger', 'DAVINCHI', 'KLEAT', 'J.FONTINI', 'DAVINCHI', 'Regal', 'DAVINCHI', 'Calvin Klein', 'KLEAT', 'Puma', 'Saint G', 'Bugatti', 'Geox', 'Bugatti', 'KLEAT', 'Geox', 'Saint G', 'KLEAT']\n",
      "['Leather Kitten Heeled Boots with Buckles', 'Leather Block Heeled Boots', 'Women Leather Pumps', 'Leather Block Heeled Boots', 'Leather Kitten Heeled Boots', 'Women Leather Pumps', 'Block Heeled Boots', 'Women Textured Pumps', 'Women Running Shoes', 'Women Woven Design Sneakers', 'Women Charged Impulse Shft', 'Women Charged Rogue 2.5ClrSft', 'Women Eternity NITRO Shoes', 'Women Liberate NITRO Running', 'Women Velocity NITRO Runners', 'Women ELEVATED Leather Sneaker', 'Men DS LIGHT X-FLY 4 Running', 'Men Woven Design Sneakers', 'Women PRONOUNCE May Sneakers', 'Men Lightweight Brogues', 'Men GENERATION ZEROGRAND STITCHLITE', 'Men Leather Mid-Top Flat Boots', 'Men Textured Leather Loafers', 'Men Textured Leather Loafers', 'Men Leather Derbys', 'Men Woven Design Loafers', 'Men Solid Loafers', 'Men Solid Leather Formal Monks', 'Men Solid Leather Formal Derbys', 'Women Leather Sneakers', 'Solid Leather Formal Shoes', 'Men Formal Leather Slip-Ons', 'Men Lightweight Sneakers', 'Solid Slip On Shoes', 'Men Woven Design Sneakers', 'Men Textured Leather Formal Loafers', 'Men Solid Leather Formal Derbys', 'Men Solid Leather Formal Monks', 'Men Textured Formal Leather Loafers', 'Men Solid Suede Sneakers', 'Men Suede Flat Boots', 'Men Electrify Nitro Running', 'Men Leather Chelsea Boots', 'Men Black Walking Shoes', 'Women Leather Pumps', 'Men Running Shoes', 'Men Solid Brogues', 'Women Quilted Leather Pumps', 'Women Heeled Boots', 'Men Black Mojaris']\n",
      "['Rs. 10900', 'Rs. 9999', 'Rs. 8999', 'Rs. 8900', 'Rs. 8900', 'Rs. 7999', 'Rs. 7590Rs. 7990', 'Rs. 7599', 'Rs. 7199Rs. 8999', 'Rs. 8999Rs. 14999', 'Rs. 7499', 'Rs. 7999', 'Rs. 9099Rs. 12999', 'Rs. 7499Rs. 9999', 'Rs. 8249Rs. 10999', 'Rs. 7599', 'Rs. 7699Rs. 10999', 'Rs. 10499', 'Rs. 7499Rs. 9999', 'Rs. 12799Rs. 15999', 'Rs. 9599Rs. 11999', 'Rs. 12999', 'Rs. 7990', 'Rs. 7990', 'Rs. 7199Rs. 7999', 'Rs. 7999', 'Rs. 8990', 'Rs. 8990', 'Rs. 7199Rs. 8999', 'Rs. 9999', 'Rs. 7990', 'Rs. 8990', 'Rs. 7999', 'Rs. 7990', 'Rs. 7999', 'Rs. 8990', 'Rs. 8990', 'Rs. 8990', 'Rs. 8990', 'Rs. 7999', 'Rs. 8999', 'Rs. 7499Rs. 9999', 'Rs. 11900', 'Rs. 8999', 'Rs. 9999', 'Rs. 9999', 'Rs. 7999', 'Rs. 8999', 'Rs. 9500', 'Rs. 7999']\n"
     ]
    }
   ],
   "source": [
    "# Scraping Data from page 2\n",
    "brand1=[]\n",
    "s_s_desc1=[]\n",
    "price1=[]\n",
    "br_name=driver.find_elements(By.XPATH,\"//h3[@class='product-brand']\")\n",
    "desc1=driver.find_elements(By.XPATH,\"//h4[@class='product-product']\")\n",
    "pr1=driver.find_elements(By.XPATH,\"//div[@class='product-price']/span[1]\")\n",
    "for j in range(len(br_name)):\n",
    "    brand1.append(br_name[j].text)\n",
    "    s_s_desc1.append(desc1[j].text)\n",
    "    price1.append(pr1[j].text)\n",
    "print(brand1)\n",
    "print(s_s_desc1)\n",
    "print(price1)"
   ]
  },
  {
   "cell_type": "code",
   "execution_count": 105,
   "id": "c3ef7ecf",
   "metadata": {},
   "outputs": [],
   "source": [
    "brands=brand+brand1\n",
    "s_s_describe=s_s_desc+s_s_desc1\n",
    "prices=price+price1"
   ]
  },
  {
   "cell_type": "code",
   "execution_count": 106,
   "id": "5a196744",
   "metadata": {},
   "outputs": [
    {
     "data": {
      "text/html": [
       "<div>\n",
       "<style scoped>\n",
       "    .dataframe tbody tr th:only-of-type {\n",
       "        vertical-align: middle;\n",
       "    }\n",
       "\n",
       "    .dataframe tbody tr th {\n",
       "        vertical-align: top;\n",
       "    }\n",
       "\n",
       "    .dataframe thead th {\n",
       "        text-align: right;\n",
       "    }\n",
       "</style>\n",
       "<table border=\"1\" class=\"dataframe\">\n",
       "  <thead>\n",
       "    <tr style=\"text-align: right;\">\n",
       "      <th></th>\n",
       "      <th>Brand</th>\n",
       "      <th>Short Shoe Description</th>\n",
       "      <th>Price</th>\n",
       "    </tr>\n",
       "  </thead>\n",
       "  <tbody>\n",
       "    <tr>\n",
       "      <th>0</th>\n",
       "      <td>Nike</td>\n",
       "      <td>Men Zoom Span 4 Running Shoes</td>\n",
       "      <td>Rs. 7195</td>\n",
       "    </tr>\n",
       "    <tr>\n",
       "      <th>1</th>\n",
       "      <td>Nike</td>\n",
       "      <td>Men FLIGHT LEGACY Sneakers</td>\n",
       "      <td>Rs. 7995</td>\n",
       "    </tr>\n",
       "    <tr>\n",
       "      <th>2</th>\n",
       "      <td>Hush Puppies</td>\n",
       "      <td>Men Solid Leather Formal Slip-Ons</td>\n",
       "      <td>Rs. 8099Rs. 8999</td>\n",
       "    </tr>\n",
       "    <tr>\n",
       "      <th>3</th>\n",
       "      <td>Calvin Klein</td>\n",
       "      <td>Men Mid-Top Runner Sneakers</td>\n",
       "      <td>Rs. 8249Rs. 10999</td>\n",
       "    </tr>\n",
       "    <tr>\n",
       "      <th>4</th>\n",
       "      <td>Nike</td>\n",
       "      <td>Men BlazerLow '77 Sneakers</td>\n",
       "      <td>Rs. 7195</td>\n",
       "    </tr>\n",
       "    <tr>\n",
       "      <th>...</th>\n",
       "      <td>...</td>\n",
       "      <td>...</td>\n",
       "      <td>...</td>\n",
       "    </tr>\n",
       "    <tr>\n",
       "      <th>95</th>\n",
       "      <td>Bugatti</td>\n",
       "      <td>Men Running Shoes</td>\n",
       "      <td>Rs. 9999</td>\n",
       "    </tr>\n",
       "    <tr>\n",
       "      <th>96</th>\n",
       "      <td>KLEAT</td>\n",
       "      <td>Men Solid Brogues</td>\n",
       "      <td>Rs. 7999</td>\n",
       "    </tr>\n",
       "    <tr>\n",
       "      <th>97</th>\n",
       "      <td>Geox</td>\n",
       "      <td>Women Quilted Leather Pumps</td>\n",
       "      <td>Rs. 8999</td>\n",
       "    </tr>\n",
       "    <tr>\n",
       "      <th>98</th>\n",
       "      <td>Saint G</td>\n",
       "      <td>Women Heeled Boots</td>\n",
       "      <td>Rs. 9500</td>\n",
       "    </tr>\n",
       "    <tr>\n",
       "      <th>99</th>\n",
       "      <td>KLEAT</td>\n",
       "      <td>Men Black Mojaris</td>\n",
       "      <td>Rs. 7999</td>\n",
       "    </tr>\n",
       "  </tbody>\n",
       "</table>\n",
       "<p>100 rows × 3 columns</p>\n",
       "</div>"
      ],
      "text/plain": [
       "           Brand             Short Shoe Description              Price\n",
       "0           Nike      Men Zoom Span 4 Running Shoes           Rs. 7195\n",
       "1           Nike         Men FLIGHT LEGACY Sneakers           Rs. 7995\n",
       "2   Hush Puppies  Men Solid Leather Formal Slip-Ons   Rs. 8099Rs. 8999\n",
       "3   Calvin Klein        Men Mid-Top Runner Sneakers  Rs. 8249Rs. 10999\n",
       "4           Nike         Men BlazerLow '77 Sneakers           Rs. 7195\n",
       "..           ...                                ...                ...\n",
       "95       Bugatti                  Men Running Shoes           Rs. 9999\n",
       "96         KLEAT                  Men Solid Brogues           Rs. 7999\n",
       "97          Geox        Women Quilted Leather Pumps           Rs. 8999\n",
       "98       Saint G                 Women Heeled Boots           Rs. 9500\n",
       "99         KLEAT                  Men Black Mojaris           Rs. 7999\n",
       "\n",
       "[100 rows x 3 columns]"
      ]
     },
     "execution_count": 106,
     "metadata": {},
     "output_type": "execute_result"
    }
   ],
   "source": [
    "#making DataFrame of the scrapped data\n",
    "df=pd.DataFrame(list(zip(brands[0:100],s_s_describe[0:100],prices[0:100])),columns=[\"Brand\",\"Short Shoe Description\",\"Price\"])\n",
    "df"
   ]
  },
  {
   "cell_type": "markdown",
   "id": "f0d565cb",
   "metadata": {},
   "source": [
    "Ans 8. python program to scrape data of Laptops from Amazon.in"
   ]
  },
  {
   "cell_type": "code",
   "execution_count": 107,
   "id": "0c0fe39c",
   "metadata": {},
   "outputs": [],
   "source": [
    "import selenium\n",
    "import pandas as pd\n",
    "from selenium import webdriver\n",
    "from selenium.webdriver.chrome.service import Service\n",
    "from selenium.webdriver.common.by import By\n",
    "\n",
    "ser=Service(\"C:\\\\Users\\\\amitt\\\\Downloads\\\\chromedriver_win32\\\\chromedriver.exe\")\n",
    "driver=webdriver.Chrome( service = ser)"
   ]
  },
  {
   "cell_type": "code",
   "execution_count": 108,
   "id": "0b0891d0",
   "metadata": {},
   "outputs": [],
   "source": [
    "# opening web page given in the question\n",
    "driver.get(\"https://www.amazon.in/\")"
   ]
  },
  {
   "cell_type": "code",
   "execution_count": 109,
   "id": "a2f30002",
   "metadata": {},
   "outputs": [],
   "source": [
    "# typing laptop in search field\n",
    "s_field=driver.find_element(By.XPATH,\"//input[@id='twotabsearchtextbox']\")\n",
    "s_field.send_keys(\"Laptop\")"
   ]
  },
  {
   "cell_type": "code",
   "execution_count": 110,
   "id": "67d31c34",
   "metadata": {},
   "outputs": [],
   "source": [
    "#clicking search Button\n",
    "s_button=driver.find_element(By.XPATH,\"//div[@class='nav-search-submit nav-sprite']\")\n",
    "s_button.click()\n",
    "                             "
   ]
  },
  {
   "cell_type": "code",
   "execution_count": 111,
   "id": "088d4f2c",
   "metadata": {},
   "outputs": [],
   "source": [
    "#Selecting core i7 filter in cpu type filter\n",
    "core_i7=driver.find_element(By.XPATH,\"//li[@id='p_n_feature_thirteen_browse-bin/12598163031']/span/a/div/label/i\")\n",
    "core_i7.click()"
   ]
  },
  {
   "cell_type": "code",
   "execution_count": 112,
   "id": "1909da8b",
   "metadata": {},
   "outputs": [
    {
     "name": "stdout",
     "output_type": "stream",
     "text": [
      "['Lenovo ThinkBook 13s Intel 11th Gen Core i7 13.3\"(33.78 cm) WQXGA IPS 300 nits 100% sRGB Dolby Vision Thin and Light Laptop (16GB/512GB SSD/Windows 10/MS Office/FPR/Mineral Grey/1.26 Kg), 20V9A05FIH', 'Mi Notebook Horizon Edition 14 Intel Core i7-10510U 10th Gen Thin and Light Laptop(8GB/512GB SSD/Windows 10/Nvidia MX350 2GB Graphics/Grey/1.35Kg)(Without Webcam) XMA1904-AF', 'Microsoft Surface Laptop Studio - 14.4\" Touchscreen - Intel Core i7 - 32GB Memory - 2TB SSD - Platinum', 'ASUS TUF Gaming F17 (2021), 17.3-inch (43.94 cms) FHD 144Hz, Intel Core i7-11800H 11th Gen, GeForce RTX 3050 Ti 4GB Graphics, Gaming Laptop (16GB/1TB SSD/Windows 10/Eclipse Gray/2.6 Kg) FX766HE-HX022T', 'Acer Nitro 5 AN515-57 Gaming Laptop | Intel Core i7-11800H |NVIDIA GeForce RTX 3050 Ti Laptop Graphics |15.6\" FHD 144Hz IPS Display |16GB DDR4 |256GB SSD+1TB HDD |Killer Wi-Fi 6 |RGB Backlit Keyboard', 'HP Pavilion x360 11th Gen Intel Core i7 14-inch(35.6 cm) Touchscreen 2-in-1 FHD Laptop (16GB/512GB SSD/Fingerprint Reader/Windows 10/MS Office/Natural Silver/1.41 Kg), 14-dy0050TU', 'HP Pavilion (2021) Intel 11th Gen Core i7 14 inches FHD Screen Thin & Light Laptop, 16 GB RAM, 1TB SSD, Iris Xe Graphics, Windows 10, MS Office, Backlit Keyboard, 1.41kg (14-dv0058TU)', 'Mi Notebook Horizon Edition 14 Intel Core i7-10510U 10th Gen Thin and Light Laptop(8GB/512GB SSD/Windows 10/Nvidia MX350 2GB Graphics/Grey/1.35Kg)(Without Webcam) XMA1904-AF', 'HP Pavilion 13(2021) 11th Gen Intel Core i7 13.3-inch(33.8 cm) FHD Laptop (16GB RAM/ 1TB SSD/ Win 10/ Fingerprint Reader/Audio B&O/ MS Office/ Ceramic White/ 1.24 Kg) -13-bb0078TU', 'Lenovo Yoga 7 11th Gen Intel Core i7 14\" Full HD IPS 2-in-1 Touchscreen Laptop (16GB/512GB SSD/Windows 10/MS Office 2019/Lenovo Digital Pen/Slate Grey/Aluminium Surface/1.43Kg), 82BH00E0IN']\n",
      "['', '', '', '', '', '', '', '', '', '']\n",
      "['89,990', '56,990', '3,73,999', '1,13,990', '93,990', '84,990', '84,990', '56,990', '89,700', '98,657']\n"
     ]
    }
   ],
   "source": [
    "#scraping details of first 10 laptops for core i7 there title, ratings and price\n",
    "title=[]\n",
    "ratings=[]\n",
    "price=[]\n",
    "name=driver.find_elements(By.XPATH,\"//span[@class='a-size-medium a-color-base a-text-normal']\")\n",
    "rat=driver.find_elements(By.XPATH,\"//span[@class='a-icon-alt']\")\n",
    "pr=driver.find_elements(By.XPATH,\"//span[@class='a-price-whole']\")\n",
    "for i in range(10):\n",
    "    title.append(name[i].text)\n",
    "    ratings.append(rat[i].text)\n",
    "    price.append(pr[i].text)\n",
    "print(title)\n",
    "print(ratings)\n",
    "print(price)"
   ]
  },
  {
   "cell_type": "code",
   "execution_count": 113,
   "id": "2715e19a",
   "metadata": {},
   "outputs": [
    {
     "data": {
      "text/html": [
       "<div>\n",
       "<style scoped>\n",
       "    .dataframe tbody tr th:only-of-type {\n",
       "        vertical-align: middle;\n",
       "    }\n",
       "\n",
       "    .dataframe tbody tr th {\n",
       "        vertical-align: top;\n",
       "    }\n",
       "\n",
       "    .dataframe thead th {\n",
       "        text-align: right;\n",
       "    }\n",
       "</style>\n",
       "<table border=\"1\" class=\"dataframe\">\n",
       "  <thead>\n",
       "    <tr style=\"text-align: right;\">\n",
       "      <th></th>\n",
       "      <th>Title</th>\n",
       "      <th>Ratings</th>\n",
       "      <th>Price</th>\n",
       "    </tr>\n",
       "  </thead>\n",
       "  <tbody>\n",
       "    <tr>\n",
       "      <th>0</th>\n",
       "      <td>Lenovo ThinkBook 13s Intel 11th Gen Core i7 13...</td>\n",
       "      <td></td>\n",
       "      <td>89,990</td>\n",
       "    </tr>\n",
       "    <tr>\n",
       "      <th>1</th>\n",
       "      <td>Mi Notebook Horizon Edition 14 Intel Core i7-1...</td>\n",
       "      <td></td>\n",
       "      <td>56,990</td>\n",
       "    </tr>\n",
       "    <tr>\n",
       "      <th>2</th>\n",
       "      <td>Microsoft Surface Laptop Studio - 14.4\" Touchs...</td>\n",
       "      <td></td>\n",
       "      <td>3,73,999</td>\n",
       "    </tr>\n",
       "    <tr>\n",
       "      <th>3</th>\n",
       "      <td>ASUS TUF Gaming F17 (2021), 17.3-inch (43.94 c...</td>\n",
       "      <td></td>\n",
       "      <td>1,13,990</td>\n",
       "    </tr>\n",
       "    <tr>\n",
       "      <th>4</th>\n",
       "      <td>Acer Nitro 5 AN515-57 Gaming Laptop | Intel Co...</td>\n",
       "      <td></td>\n",
       "      <td>93,990</td>\n",
       "    </tr>\n",
       "    <tr>\n",
       "      <th>5</th>\n",
       "      <td>HP Pavilion x360 11th Gen Intel Core i7 14-inc...</td>\n",
       "      <td></td>\n",
       "      <td>84,990</td>\n",
       "    </tr>\n",
       "    <tr>\n",
       "      <th>6</th>\n",
       "      <td>HP Pavilion (2021) Intel 11th Gen Core i7 14 i...</td>\n",
       "      <td></td>\n",
       "      <td>84,990</td>\n",
       "    </tr>\n",
       "    <tr>\n",
       "      <th>7</th>\n",
       "      <td>Mi Notebook Horizon Edition 14 Intel Core i7-1...</td>\n",
       "      <td></td>\n",
       "      <td>56,990</td>\n",
       "    </tr>\n",
       "    <tr>\n",
       "      <th>8</th>\n",
       "      <td>HP Pavilion 13(2021) 11th Gen Intel Core i7 13...</td>\n",
       "      <td></td>\n",
       "      <td>89,700</td>\n",
       "    </tr>\n",
       "    <tr>\n",
       "      <th>9</th>\n",
       "      <td>Lenovo Yoga 7 11th Gen Intel Core i7 14\" Full ...</td>\n",
       "      <td></td>\n",
       "      <td>98,657</td>\n",
       "    </tr>\n",
       "  </tbody>\n",
       "</table>\n",
       "</div>"
      ],
      "text/plain": [
       "                                               Title Ratings     Price\n",
       "0  Lenovo ThinkBook 13s Intel 11th Gen Core i7 13...            89,990\n",
       "1  Mi Notebook Horizon Edition 14 Intel Core i7-1...            56,990\n",
       "2  Microsoft Surface Laptop Studio - 14.4\" Touchs...          3,73,999\n",
       "3  ASUS TUF Gaming F17 (2021), 17.3-inch (43.94 c...          1,13,990\n",
       "4  Acer Nitro 5 AN515-57 Gaming Laptop | Intel Co...            93,990\n",
       "5  HP Pavilion x360 11th Gen Intel Core i7 14-inc...            84,990\n",
       "6  HP Pavilion (2021) Intel 11th Gen Core i7 14 i...            84,990\n",
       "7  Mi Notebook Horizon Edition 14 Intel Core i7-1...            56,990\n",
       "8  HP Pavilion 13(2021) 11th Gen Intel Core i7 13...            89,700\n",
       "9  Lenovo Yoga 7 11th Gen Intel Core i7 14\" Full ...            98,657"
      ]
     },
     "execution_count": 113,
     "metadata": {},
     "output_type": "execute_result"
    }
   ],
   "source": [
    "df=pd.DataFrame(list(zip(title[0:10],ratings[0:10],price[0:10])),columns=[\"Title\",\"Ratings\",\"Price\"])\n",
    "df"
   ]
  },
  {
   "cell_type": "code",
   "execution_count": 117,
   "id": "04110499",
   "metadata": {},
   "outputs": [],
   "source": [
    "#Clearing filter\n",
    "clear_filter=driver.find_element(By.XPATH,\"//div[@class='sg-col-4-of-12 s-matching-dir sg-col-4-of-16 sg-col sg-col-4-of-20']/div/div[3]/span/div/span/div/div/div[5]/ul[2]/li/span/a/span[2]\")\n",
    "clear_filter.click()"
   ]
  },
  {
   "cell_type": "code",
   "execution_count": 118,
   "id": "6da7f426",
   "metadata": {},
   "outputs": [],
   "source": [
    "# selecting core i9 filter in cpu type filter\n",
    "core_i9=driver.find_element(By.XPATH,\"//li[@id='p_n_feature_thirteen_browse-bin/16757432031']/span/a/div/label/i\")\n",
    "core_i9.click()"
   ]
  },
  {
   "cell_type": "code",
   "execution_count": 119,
   "id": "1f474a86",
   "metadata": {},
   "outputs": [
    {
     "name": "stdout",
     "output_type": "stream",
     "text": [
      "['ASUS TUF Gaming F15 (2021), 15.6-inch (39.62 cms) FHD 240Hz/3ms, Intel Core i9-11900H 11th Gen, RTX 3060 6GB Graphics Gaming Laptop (16GB/1TB SSD/Office 2019/Windows 10/Black/2.3 kg), FX506HM-AZ099TS', 'Lenovo Legion 7 10th Gen Intel Core i9 15.6 inch Full HD Gaming Laptop (16GB/1TB SSD/Windows 10/MS Office 2019/144 Hz/NVIDIA RTX 2080 8GB GDDR6 Graphics/Slate Grey/2.25Kg), 81YU006HIN', '(Renewed) Dell G7 7500 15.6inch FHD 300 Hz Display Gaming Laptop (10th Gen i9-10885H / 16 GB / 1TB SSD / NVIDIA RTX 2070 8GB Graphics / 1Yr Premium Warranty / Win 10 + MS Office H&S 2019) D560233WIN9B, Black', 'ASUS TUF Gaming F15 (2021), 15.6\" (39.62 cms) FHD 240Hz, Intel Core i9-11900H 11th Gen, GeForce RTX 3060 6GB Graphics, Gaming Laptop(16GB/1TB SSD/Office 2019/Windows 10/Gray/2.3 Kg), FX566HM-AZ096TS']\n",
      "['', '', '', '']\n",
      "['1,50,885', '2,25,000', '1,54,990', '2,45,000']\n"
     ]
    }
   ],
   "source": [
    "#scraping details of first 10 laptops for core i7 there title, ratings and price\n",
    "title=[]\n",
    "ratings=[]\n",
    "price=[]\n",
    "name=driver.find_elements(By.XPATH,\"//span[@class='a-size-medium a-color-base a-text-normal']\")\n",
    "rat=driver.find_elements(By.XPATH,\"//span[@class='a-icon-alt']\")\n",
    "pr=driver.find_elements(By.XPATH,\"//span[@class='a-price-whole']\")\n",
    "for i in range(len(pr)):\n",
    "    title.append(name[i].text)\n",
    "    ratings.append(rat[i].text)\n",
    "    price.append(pr[i].text)\n",
    "print(title)\n",
    "print(ratings)\n",
    "print(price)"
   ]
  },
  {
   "cell_type": "code",
   "execution_count": 120,
   "id": "e67a96a0",
   "metadata": {},
   "outputs": [
    {
     "data": {
      "text/html": [
       "<div>\n",
       "<style scoped>\n",
       "    .dataframe tbody tr th:only-of-type {\n",
       "        vertical-align: middle;\n",
       "    }\n",
       "\n",
       "    .dataframe tbody tr th {\n",
       "        vertical-align: top;\n",
       "    }\n",
       "\n",
       "    .dataframe thead th {\n",
       "        text-align: right;\n",
       "    }\n",
       "</style>\n",
       "<table border=\"1\" class=\"dataframe\">\n",
       "  <thead>\n",
       "    <tr style=\"text-align: right;\">\n",
       "      <th></th>\n",
       "      <th>Title</th>\n",
       "      <th>Ratings</th>\n",
       "      <th>Price</th>\n",
       "    </tr>\n",
       "  </thead>\n",
       "  <tbody>\n",
       "    <tr>\n",
       "      <th>0</th>\n",
       "      <td>ASUS TUF Gaming F15 (2021), 15.6-inch (39.62 c...</td>\n",
       "      <td></td>\n",
       "      <td>1,50,885</td>\n",
       "    </tr>\n",
       "    <tr>\n",
       "      <th>1</th>\n",
       "      <td>Lenovo Legion 7 10th Gen Intel Core i9 15.6 in...</td>\n",
       "      <td></td>\n",
       "      <td>2,25,000</td>\n",
       "    </tr>\n",
       "    <tr>\n",
       "      <th>2</th>\n",
       "      <td>(Renewed) Dell G7 7500 15.6inch FHD 300 Hz Dis...</td>\n",
       "      <td></td>\n",
       "      <td>1,54,990</td>\n",
       "    </tr>\n",
       "    <tr>\n",
       "      <th>3</th>\n",
       "      <td>ASUS TUF Gaming F15 (2021), 15.6\" (39.62 cms) ...</td>\n",
       "      <td></td>\n",
       "      <td>2,45,000</td>\n",
       "    </tr>\n",
       "  </tbody>\n",
       "</table>\n",
       "</div>"
      ],
      "text/plain": [
       "                                               Title Ratings     Price\n",
       "0  ASUS TUF Gaming F15 (2021), 15.6-inch (39.62 c...          1,50,885\n",
       "1  Lenovo Legion 7 10th Gen Intel Core i9 15.6 in...          2,25,000\n",
       "2  (Renewed) Dell G7 7500 15.6inch FHD 300 Hz Dis...          1,54,990\n",
       "3  ASUS TUF Gaming F15 (2021), 15.6\" (39.62 cms) ...          2,45,000"
      ]
     },
     "execution_count": 120,
     "metadata": {},
     "output_type": "execute_result"
    }
   ],
   "source": [
    "df=pd.DataFrame(list(zip(title,ratings,price)),columns=[\"Title\",\"Ratings\",\"Price\"])\n",
    "df"
   ]
  },
  {
   "cell_type": "markdown",
   "id": "f61dc2d4",
   "metadata": {},
   "source": [
    "Ans 9. Python program to scrape data for first 10 job result for Data Scientist Designation in Noida \n",
    "location from ambitionbox.com"
   ]
  },
  {
   "cell_type": "code",
   "execution_count": 121,
   "id": "9a839b28",
   "metadata": {},
   "outputs": [],
   "source": [
    "import selenium\n",
    "import pandas as pd\n",
    "from selenium import webdriver\n",
    "from selenium.webdriver.chrome.service import Service\n",
    "from selenium.webdriver.common.by import By\n",
    "\n",
    "ser=Service(\"C:\\\\Users\\\\amitt\\\\Downloads\\\\chromedriver_win32\\\\chromedriver.exe\")\n",
    "driver=webdriver.Chrome( service = ser)"
   ]
  },
  {
   "cell_type": "code",
   "execution_count": 122,
   "id": "e17808ea",
   "metadata": {},
   "outputs": [],
   "source": [
    "driver.get(\"https://www.ambitionbox.com/\")"
   ]
  },
  {
   "cell_type": "code",
   "execution_count": 124,
   "id": "1a7a340f",
   "metadata": {},
   "outputs": [],
   "source": [
    "# clicking on jobs link on homepage\n",
    "jobs=driver.find_element(By.XPATH,\"//a[@class='link jobs']\")\n",
    "jobs.click()"
   ]
  },
  {
   "cell_type": "code",
   "execution_count": 125,
   "id": "4d744a5e",
   "metadata": {},
   "outputs": [],
   "source": [
    "#Search by Designations, Companies, Skills” enter “Data Scientist” \n",
    "s_field=driver.find_element(By.XPATH,\"//input[@class='input tt-input']\")\n",
    "s_field.send_keys(\"Data Scientist\")"
   ]
  },
  {
   "cell_type": "code",
   "execution_count": 126,
   "id": "4a705c37",
   "metadata": {},
   "outputs": [],
   "source": [
    "# Clicking search Button\n",
    "s_button=driver.find_element(By.XPATH,\"//div[@class='wrapper']/button[1]\")\n",
    "s_button.click()"
   ]
  },
  {
   "cell_type": "code",
   "execution_count": 127,
   "id": "1a1eaeff",
   "metadata": {},
   "outputs": [],
   "source": [
    "#Clicking location drop box\n",
    "click_dbox=driver.find_element(By.XPATH,\"//div[@class='jobsPage']/div[2]/div/div/div/div/div[2]/div/p\")\n",
    "click_dbox.click()"
   ]
  },
  {
   "cell_type": "code",
   "execution_count": 128,
   "id": "51abd867",
   "metadata": {},
   "outputs": [],
   "source": [
    "# typing Noida in location field inside location dropdown\n",
    "loc_field=driver.find_element(By.XPATH,\"//div[@class='filter-item'][2]/div[2]/div/div[2]/input\")\n",
    "loc_field.send_keys(\"Noida\")"
   ]
  },
  {
   "cell_type": "code",
   "execution_count": 129,
   "id": "170c0295",
   "metadata": {},
   "outputs": [],
   "source": [
    "# selecting noida from the options\n",
    "sel_noida=driver.find_element(By.XPATH,\"//div[@class='filter-item'][2]/div[2]/div/div[3]/div/div/div/label\")\n",
    "sel_noida.click()"
   ]
  },
  {
   "cell_type": "code",
   "execution_count": 130,
   "id": "8b18f498",
   "metadata": {},
   "outputs": [
    {
     "name": "stdout",
     "output_type": "stream",
     "text": [
      "['Data Scientist', 'Urgent Requirement || Data Scientist || Noida', 'Group Lead-Data Scientist', 'Jubilant FoodWorks - Data Scientist - Deep Learning (2-6 yrs)', 'Urgent Vacancy || Data Scientist || Noida', 'Urgent Requirement || Data Scientist || Noida', 'Senior Data Scientist', 'Manager - Data Scientist - Retail/BFSI (8-15 yrs)', 'Data Scientist - Machine Learning (5-14 yrs)', 'Data Scientist - Data Science/Model Development (0-6 yrs)']\n",
      "['Optum Global Solutions (India) Private Limited', 'Steria India Ltd', 'Ameriprise Financial', 'Jubilant Foodworks Limited', 'Steria India Ltd', 'Steria India Ltd', 'HCL Technologies Limited', 'GI Group', 'Zyoin', 'GI Group']\n",
      "['Noida, Gurgaon/Gurugram', 'Noida', 'Noida', 'Data Scientist, Data Science, Python +6 more', 'Noida', 'Noida', 'Chennai, Hyderabad/Secunderabad, Noida', 'Data Analytics, Data Scientist, Data Visualization +7 more', 'Data Scientist, Data Management, PhD +6 more', 'Data Scientist, Data Visualization, Data Science +6 more']\n"
     ]
    }
   ],
   "source": [
    "# scraping first 10 jobs on the searched page title, company, location\n",
    "title=[]\n",
    "company=[]\n",
    "location=[]\n",
    "title1=driver.find_elements(By.XPATH,\"//a[@class='title noclick']\")\n",
    "comp=driver.find_elements(By.XPATH,\"//p[@class='company body-medium']\")\n",
    "loc=driver.find_elements(By.XPATH,\"//div[@class='other-info']/div/div[3]/p\")\n",
    "for i in range(10):\n",
    "    title.append(title1[i].text)\n",
    "    company.append(comp[i].text)\n",
    "    location.append(loc[i].text)\n",
    "print(title)\n",
    "print(company)\n",
    "print(location)"
   ]
  },
  {
   "cell_type": "code",
   "execution_count": 131,
   "id": "522a2a6f",
   "metadata": {},
   "outputs": [
    {
     "data": {
      "text/html": [
       "<div>\n",
       "<style scoped>\n",
       "    .dataframe tbody tr th:only-of-type {\n",
       "        vertical-align: middle;\n",
       "    }\n",
       "\n",
       "    .dataframe tbody tr th {\n",
       "        vertical-align: top;\n",
       "    }\n",
       "\n",
       "    .dataframe thead th {\n",
       "        text-align: right;\n",
       "    }\n",
       "</style>\n",
       "<table border=\"1\" class=\"dataframe\">\n",
       "  <thead>\n",
       "    <tr style=\"text-align: right;\">\n",
       "      <th></th>\n",
       "      <th>Title</th>\n",
       "      <th>Company</th>\n",
       "      <th>Location</th>\n",
       "    </tr>\n",
       "  </thead>\n",
       "  <tbody>\n",
       "    <tr>\n",
       "      <th>0</th>\n",
       "      <td>Data Scientist</td>\n",
       "      <td>Optum Global Solutions (India) Private Limited</td>\n",
       "      <td>Noida, Gurgaon/Gurugram</td>\n",
       "    </tr>\n",
       "    <tr>\n",
       "      <th>1</th>\n",
       "      <td>Urgent Requirement || Data Scientist || Noida</td>\n",
       "      <td>Steria India Ltd</td>\n",
       "      <td>Noida</td>\n",
       "    </tr>\n",
       "    <tr>\n",
       "      <th>2</th>\n",
       "      <td>Group Lead-Data Scientist</td>\n",
       "      <td>Ameriprise Financial</td>\n",
       "      <td>Noida</td>\n",
       "    </tr>\n",
       "    <tr>\n",
       "      <th>3</th>\n",
       "      <td>Jubilant FoodWorks - Data Scientist - Deep Lea...</td>\n",
       "      <td>Jubilant Foodworks Limited</td>\n",
       "      <td>Data Scientist, Data Science, Python +6 more</td>\n",
       "    </tr>\n",
       "    <tr>\n",
       "      <th>4</th>\n",
       "      <td>Urgent Vacancy || Data Scientist || Noida</td>\n",
       "      <td>Steria India Ltd</td>\n",
       "      <td>Noida</td>\n",
       "    </tr>\n",
       "    <tr>\n",
       "      <th>5</th>\n",
       "      <td>Urgent Requirement || Data Scientist || Noida</td>\n",
       "      <td>Steria India Ltd</td>\n",
       "      <td>Noida</td>\n",
       "    </tr>\n",
       "    <tr>\n",
       "      <th>6</th>\n",
       "      <td>Senior Data Scientist</td>\n",
       "      <td>HCL Technologies Limited</td>\n",
       "      <td>Chennai, Hyderabad/Secunderabad, Noida</td>\n",
       "    </tr>\n",
       "    <tr>\n",
       "      <th>7</th>\n",
       "      <td>Manager - Data Scientist - Retail/BFSI (8-15 yrs)</td>\n",
       "      <td>GI Group</td>\n",
       "      <td>Data Analytics, Data Scientist, Data Visualiza...</td>\n",
       "    </tr>\n",
       "    <tr>\n",
       "      <th>8</th>\n",
       "      <td>Data Scientist - Machine Learning (5-14 yrs)</td>\n",
       "      <td>Zyoin</td>\n",
       "      <td>Data Scientist, Data Management, PhD +6 more</td>\n",
       "    </tr>\n",
       "    <tr>\n",
       "      <th>9</th>\n",
       "      <td>Data Scientist - Data Science/Model Developmen...</td>\n",
       "      <td>GI Group</td>\n",
       "      <td>Data Scientist, Data Visualization, Data Scien...</td>\n",
       "    </tr>\n",
       "  </tbody>\n",
       "</table>\n",
       "</div>"
      ],
      "text/plain": [
       "                                               Title  \\\n",
       "0                                     Data Scientist   \n",
       "1      Urgent Requirement || Data Scientist || Noida   \n",
       "2                          Group Lead-Data Scientist   \n",
       "3  Jubilant FoodWorks - Data Scientist - Deep Lea...   \n",
       "4          Urgent Vacancy || Data Scientist || Noida   \n",
       "5      Urgent Requirement || Data Scientist || Noida   \n",
       "6                              Senior Data Scientist   \n",
       "7  Manager - Data Scientist - Retail/BFSI (8-15 yrs)   \n",
       "8       Data Scientist - Machine Learning (5-14 yrs)   \n",
       "9  Data Scientist - Data Science/Model Developmen...   \n",
       "\n",
       "                                          Company  \\\n",
       "0  Optum Global Solutions (India) Private Limited   \n",
       "1                                Steria India Ltd   \n",
       "2                            Ameriprise Financial   \n",
       "3                      Jubilant Foodworks Limited   \n",
       "4                                Steria India Ltd   \n",
       "5                                Steria India Ltd   \n",
       "6                        HCL Technologies Limited   \n",
       "7                                        GI Group   \n",
       "8                                           Zyoin   \n",
       "9                                        GI Group   \n",
       "\n",
       "                                            Location  \n",
       "0                            Noida, Gurgaon/Gurugram  \n",
       "1                                              Noida  \n",
       "2                                              Noida  \n",
       "3       Data Scientist, Data Science, Python +6 more  \n",
       "4                                              Noida  \n",
       "5                                              Noida  \n",
       "6             Chennai, Hyderabad/Secunderabad, Noida  \n",
       "7  Data Analytics, Data Scientist, Data Visualiza...  \n",
       "8       Data Scientist, Data Management, PhD +6 more  \n",
       "9  Data Scientist, Data Visualization, Data Scien...  "
      ]
     },
     "execution_count": 131,
     "metadata": {},
     "output_type": "execute_result"
    }
   ],
   "source": [
    "df=pd.DataFrame(list(zip(title[0:10],company[0:10],location[0:10])),columns=[\"Title\",\"Company\",\"Location\"])\n",
    "df"
   ]
  },
  {
   "cell_type": "markdown",
   "id": "d2143226",
   "metadata": {},
   "source": [
    "Ans 10.python program to scrape the salary data for Data Scientist designation from ambitionbox.com"
   ]
  },
  {
   "cell_type": "code",
   "execution_count": 132,
   "id": "0d2d6b8c",
   "metadata": {},
   "outputs": [],
   "source": [
    "import selenium\n",
    "import pandas as pd\n",
    "from selenium import webdriver\n",
    "from selenium.webdriver.chrome.service import Service\n",
    "from selenium.webdriver.common.by import By\n",
    "\n",
    "ser=Service(\"C:\\\\Users\\\\amitt\\\\Downloads\\\\chromedriver_win32\\\\chromedriver.exe\")\n",
    "driver=webdriver.Chrome( service = ser)"
   ]
  },
  {
   "cell_type": "code",
   "execution_count": 133,
   "id": "0af50935",
   "metadata": {},
   "outputs": [],
   "source": [
    "driver.get(\"https://www.ambitionbox.com/\")"
   ]
  },
  {
   "cell_type": "code",
   "execution_count": 135,
   "id": "38f26654",
   "metadata": {},
   "outputs": [],
   "source": [
    "# clicking on the salary option given on the page\n",
    "sal=driver.find_element(By.XPATH,\"//a[@class='link salaries']\")\n",
    "sal.click()"
   ]
  },
  {
   "cell_type": "code",
   "execution_count": 136,
   "id": "d46fa51e",
   "metadata": {},
   "outputs": [],
   "source": [
    "# typing data scientist in search job profile box\n",
    "s_field=driver.find_element(By.XPATH,\"//input[@class='tt-input']\")\n",
    "s_field.click()\n",
    "s_field.send_keys(\"Data Scientist\")"
   ]
  },
  {
   "cell_type": "code",
   "execution_count": 137,
   "id": "11416006",
   "metadata": {},
   "outputs": [],
   "source": [
    "# selecting data scientist job profile from given options\n",
    "select=driver.find_element(By.XPATH,\"//div[@class='suggestion_wrap tt-suggestion tt-selectable']\")\n",
    "select.click()"
   ]
  },
  {
   "cell_type": "code",
   "execution_count": 138,
   "id": "5a1863b9",
   "metadata": {},
   "outputs": [
    {
     "name": "stdout",
     "output_type": "stream",
     "text": [
      "['Ab Inbev', 'Optum', 'Fractal Analytics', 'Tiger Analytics', 'UnitedHealth', 'Verizon', 'Ganit Business Solutions', 'Deloitte', 'Ernst & Young', 'Ericsson']\n",
      "[' 4 yrs exp', ' 3-4 yrs exp', ' 2-4 yrs exp', ' 3-4 yrs exp', ' 2-4 yrs exp', ' 4 yrs exp', ' 4 yrs exp', ' 2-4 yrs exp', ' 3-4 yrs exp', ' 3-4 yrs exp']\n",
      "['based on 10 salaries', 'based on 22 salaries', 'based on 60 salaries', 'based on 24 salaries', 'based on 45 salaries', 'based on 14 salaries', 'based on 12 salaries', 'based on 45 salaries', 'based on 26 salaries', 'based on 43 salaries']\n",
      "['₹ 19.4L', '₹ 15.1L', '₹ 14.7L', '₹ 13.4L', '₹ 13.3L', '₹ 12.7L', '₹ 12.4L', '₹ 11.2L', '₹ 11.1L', '₹ 10.9L']\n",
      "['₹ 15.0L', '₹ 11.0L', '₹ 9.0L', '₹ 8.3L', '₹ 7.2L', '₹ 10.0L', '₹ 8.5L', '₹ 6.9L', '₹ 6.0L', '₹ 5.0L']\n",
      "['₹ 23.0L', '₹ 21.3L', '₹ 20.8L', '₹ 18.5L', '₹ 20.5L', '₹ 21.0L', '₹ 15.0L', '₹ 20.5L', '₹ 20.0L', '₹ 21.5L']\n"
     ]
    }
   ],
   "source": [
    "# Scraping the data for the first 10 companies. Scrape the company name, total salary record, average salary, minimum salary, maximum salary, experience required\n",
    "company_name=[]\n",
    "exp_req=[]\n",
    "total_sal_record=[]\n",
    "average_sal=[]\n",
    "min_sal=[]\n",
    "max_sal=[]\n",
    "name=driver.find_elements(By.XPATH,\"//div[@class='name']/a\")\n",
    "exp=driver.find_elements(By.XPATH,\"//div[@class='salaries sbold-list-header']\")\n",
    "tot_sal=driver.find_elements(By.XPATH,\"//div[@class='name']/span\")\n",
    "avg_sal=driver.find_elements(By.XPATH,\"//p[@class='averageCtc']\")\n",
    "min_s=driver.find_elements(By.XPATH,\"//div[@class='salary-values']/div[1]\")\n",
    "max_s=driver.find_elements(By.XPATH,\"//div[@class='salary-values']/div[2]\")\n",
    "for i in range(10):\n",
    "    company_name.append(name[i].text)\n",
    "    exp_req.append(exp[i].text.replace(\"\\n\",\"\").replace(\"Data Scientist .\",\"\"))\n",
    "    total_sal_record.append(tot_sal[i].text)\n",
    "    average_sal.append(avg_sal[i].text)\n",
    "    min_sal.append(min_s[i].text)\n",
    "    max_sal.append(max_s[i].text)\n",
    "print(company_name)\n",
    "print(exp_req)\n",
    "print(total_sal_record)\n",
    "print(average_sal)\n",
    "print(min_sal)\n",
    "print(max_sal)"
   ]
  },
  {
   "cell_type": "code",
   "execution_count": 139,
   "id": "df8534c0",
   "metadata": {},
   "outputs": [
    {
     "data": {
      "text/html": [
       "<div>\n",
       "<style scoped>\n",
       "    .dataframe tbody tr th:only-of-type {\n",
       "        vertical-align: middle;\n",
       "    }\n",
       "\n",
       "    .dataframe tbody tr th {\n",
       "        vertical-align: top;\n",
       "    }\n",
       "\n",
       "    .dataframe thead th {\n",
       "        text-align: right;\n",
       "    }\n",
       "</style>\n",
       "<table border=\"1\" class=\"dataframe\">\n",
       "  <thead>\n",
       "    <tr style=\"text-align: right;\">\n",
       "      <th></th>\n",
       "      <th>Company Name</th>\n",
       "      <th>Experience Required</th>\n",
       "      <th>Total Salary Record</th>\n",
       "      <th>Average Salary</th>\n",
       "      <th>Minimum Salary</th>\n",
       "      <th>Maximum Salary</th>\n",
       "    </tr>\n",
       "  </thead>\n",
       "  <tbody>\n",
       "    <tr>\n",
       "      <th>0</th>\n",
       "      <td>Ab Inbev</td>\n",
       "      <td>4 yrs exp</td>\n",
       "      <td>based on 10 salaries</td>\n",
       "      <td>₹ 19.4L</td>\n",
       "      <td>₹ 15.0L</td>\n",
       "      <td>₹ 23.0L</td>\n",
       "    </tr>\n",
       "    <tr>\n",
       "      <th>1</th>\n",
       "      <td>Optum</td>\n",
       "      <td>3-4 yrs exp</td>\n",
       "      <td>based on 22 salaries</td>\n",
       "      <td>₹ 15.1L</td>\n",
       "      <td>₹ 11.0L</td>\n",
       "      <td>₹ 21.3L</td>\n",
       "    </tr>\n",
       "    <tr>\n",
       "      <th>2</th>\n",
       "      <td>Fractal Analytics</td>\n",
       "      <td>2-4 yrs exp</td>\n",
       "      <td>based on 60 salaries</td>\n",
       "      <td>₹ 14.7L</td>\n",
       "      <td>₹ 9.0L</td>\n",
       "      <td>₹ 20.8L</td>\n",
       "    </tr>\n",
       "    <tr>\n",
       "      <th>3</th>\n",
       "      <td>Tiger Analytics</td>\n",
       "      <td>3-4 yrs exp</td>\n",
       "      <td>based on 24 salaries</td>\n",
       "      <td>₹ 13.4L</td>\n",
       "      <td>₹ 8.3L</td>\n",
       "      <td>₹ 18.5L</td>\n",
       "    </tr>\n",
       "    <tr>\n",
       "      <th>4</th>\n",
       "      <td>UnitedHealth</td>\n",
       "      <td>2-4 yrs exp</td>\n",
       "      <td>based on 45 salaries</td>\n",
       "      <td>₹ 13.3L</td>\n",
       "      <td>₹ 7.2L</td>\n",
       "      <td>₹ 20.5L</td>\n",
       "    </tr>\n",
       "    <tr>\n",
       "      <th>5</th>\n",
       "      <td>Verizon</td>\n",
       "      <td>4 yrs exp</td>\n",
       "      <td>based on 14 salaries</td>\n",
       "      <td>₹ 12.7L</td>\n",
       "      <td>₹ 10.0L</td>\n",
       "      <td>₹ 21.0L</td>\n",
       "    </tr>\n",
       "    <tr>\n",
       "      <th>6</th>\n",
       "      <td>Ganit Business Solutions</td>\n",
       "      <td>4 yrs exp</td>\n",
       "      <td>based on 12 salaries</td>\n",
       "      <td>₹ 12.4L</td>\n",
       "      <td>₹ 8.5L</td>\n",
       "      <td>₹ 15.0L</td>\n",
       "    </tr>\n",
       "    <tr>\n",
       "      <th>7</th>\n",
       "      <td>Deloitte</td>\n",
       "      <td>2-4 yrs exp</td>\n",
       "      <td>based on 45 salaries</td>\n",
       "      <td>₹ 11.2L</td>\n",
       "      <td>₹ 6.9L</td>\n",
       "      <td>₹ 20.5L</td>\n",
       "    </tr>\n",
       "    <tr>\n",
       "      <th>8</th>\n",
       "      <td>Ernst &amp; Young</td>\n",
       "      <td>3-4 yrs exp</td>\n",
       "      <td>based on 26 salaries</td>\n",
       "      <td>₹ 11.1L</td>\n",
       "      <td>₹ 6.0L</td>\n",
       "      <td>₹ 20.0L</td>\n",
       "    </tr>\n",
       "    <tr>\n",
       "      <th>9</th>\n",
       "      <td>Ericsson</td>\n",
       "      <td>3-4 yrs exp</td>\n",
       "      <td>based on 43 salaries</td>\n",
       "      <td>₹ 10.9L</td>\n",
       "      <td>₹ 5.0L</td>\n",
       "      <td>₹ 21.5L</td>\n",
       "    </tr>\n",
       "  </tbody>\n",
       "</table>\n",
       "</div>"
      ],
      "text/plain": [
       "               Company Name Experience Required   Total Salary Record  \\\n",
       "0                  Ab Inbev           4 yrs exp  based on 10 salaries   \n",
       "1                     Optum         3-4 yrs exp  based on 22 salaries   \n",
       "2         Fractal Analytics         2-4 yrs exp  based on 60 salaries   \n",
       "3           Tiger Analytics         3-4 yrs exp  based on 24 salaries   \n",
       "4              UnitedHealth         2-4 yrs exp  based on 45 salaries   \n",
       "5                   Verizon           4 yrs exp  based on 14 salaries   \n",
       "6  Ganit Business Solutions           4 yrs exp  based on 12 salaries   \n",
       "7                  Deloitte         2-4 yrs exp  based on 45 salaries   \n",
       "8             Ernst & Young         3-4 yrs exp  based on 26 salaries   \n",
       "9                  Ericsson         3-4 yrs exp  based on 43 salaries   \n",
       "\n",
       "  Average Salary Minimum Salary Maximum Salary  \n",
       "0        ₹ 19.4L        ₹ 15.0L        ₹ 23.0L  \n",
       "1        ₹ 15.1L        ₹ 11.0L        ₹ 21.3L  \n",
       "2        ₹ 14.7L         ₹ 9.0L        ₹ 20.8L  \n",
       "3        ₹ 13.4L         ₹ 8.3L        ₹ 18.5L  \n",
       "4        ₹ 13.3L         ₹ 7.2L        ₹ 20.5L  \n",
       "5        ₹ 12.7L        ₹ 10.0L        ₹ 21.0L  \n",
       "6        ₹ 12.4L         ₹ 8.5L        ₹ 15.0L  \n",
       "7        ₹ 11.2L         ₹ 6.9L        ₹ 20.5L  \n",
       "8        ₹ 11.1L         ₹ 6.0L        ₹ 20.0L  \n",
       "9        ₹ 10.9L         ₹ 5.0L        ₹ 21.5L  "
      ]
     },
     "execution_count": 139,
     "metadata": {},
     "output_type": "execute_result"
    }
   ],
   "source": [
    "# filling all data into DataFrame to make it look organized\n",
    "df=pd.DataFrame(list(zip(company_name,exp_req,total_sal_record,average_sal,min_sal,max_sal)),columns=[\"Company Name\",\"Experience Required\",\"Total Salary Record\",\"Average Salary\",\"Minimum Salary\",\"Maximum Salary\"])\n",
    "df"
   ]
  },
  {
   "cell_type": "code",
   "execution_count": null,
   "id": "6fab8635",
   "metadata": {},
   "outputs": [],
   "source": [
    "#Assignment 2 Complete"
   ]
  },
  {
   "cell_type": "code",
   "execution_count": null,
   "id": "e86f5504",
   "metadata": {},
   "outputs": [],
   "source": []
  },
  {
   "cell_type": "code",
   "execution_count": null,
   "id": "f0a91c2d",
   "metadata": {},
   "outputs": [],
   "source": []
  }
 ],
 "metadata": {
  "kernelspec": {
   "display_name": "Python 3",
   "language": "python",
   "name": "python3"
  },
  "language_info": {
   "codemirror_mode": {
    "name": "ipython",
    "version": 3
   },
   "file_extension": ".py",
   "mimetype": "text/x-python",
   "name": "python",
   "nbconvert_exporter": "python",
   "pygments_lexer": "ipython3",
   "version": "3.8.8"
  }
 },
 "nbformat": 4,
 "nbformat_minor": 5
}
